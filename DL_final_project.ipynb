{
  "cells": [
    {
      "cell_type": "markdown",
      "source": [
        "# Comparison of Music Genre Classification Techniques\n",
        "\n",
        "## Teammates\n",
        "Jaden Antoine (jja435), Brian Wu (bw2628), Omni jyothi Gudiguntla (og2148)\n",
        "\n",
        "## Problem Statement\n",
        "With the prevalence of streaming services such as Spotify and Apple Music, finding music to listen to has never been easier. These services rely on music genre classification for suggesting new songs to the user. By using a machine learning model, we can perform automatic music genre classification, which alleviates the work of manually classifying millions of songs. In this project, we will compare different models and architectures for music genre classification. Different features will also be experimented with. We will be using test accuracy as our metric for comparison.\n",
        "##Dataset\n",
        "We will be using the GTZAN dataset in order to train and classify different genres of music. This dataset is typically used for evaluation in machine learning research for music genre recognition. The dataset itself contains 10 different genres, each with 100 audio files and a length of 30 seconds. The dataset also contains visual representations of each audio file, which neural networks can use to classify genres\n",
        "##Models\n",
        "Fully Connected MLP; Logistic Regression; Support Vector Machine;\n",
        "Convolutional Neural Network Architectures: ResNet, 1D UNet; Transformers\n"
      ],
      "metadata": {
        "id": "B2K2cVPSMpNH"
      }
    },
    {
      "cell_type": "markdown",
      "source": [
        "# Get Data"
      ],
      "metadata": {
        "id": "v-YV8fRpM4QV"
      }
    },
    {
      "cell_type": "code",
      "execution_count": null,
      "metadata": {
        "colab": {
          "base_uri": "https://localhost:8080/"
        },
        "id": "0DbDakZwiTWI",
        "outputId": "621468ea-0846-4f8a-81d8-23baeb2676c2"
      },
      "outputs": [
        {
          "output_type": "stream",
          "name": "stdout",
          "text": [
            "Reading package lists... Done\n",
            "Building dependency tree... Done\n",
            "Reading state information... Done\n",
            "The following additional packages will be installed:\n",
            "  libao-common libao4 libid3tag0 libmad0 libopencore-amrnb0 libopencore-amrwb0\n",
            "  libsox-fmt-all libsox-fmt-alsa libsox-fmt-ao libsox-fmt-base libsox-fmt-mp3\n",
            "  libsox-fmt-oss libsox-fmt-pulse libsox3 libwavpack1\n",
            "Suggested packages:\n",
            "  libaudio2 libsndio6.1\n",
            "The following NEW packages will be installed:\n",
            "  libao-common libao4 libid3tag0 libmad0 libopencore-amrnb0 libopencore-amrwb0\n",
            "  libsox-dev libsox-fmt-all libsox-fmt-alsa libsox-fmt-ao libsox-fmt-base\n",
            "  libsox-fmt-mp3 libsox-fmt-oss libsox-fmt-pulse libsox3 libwavpack1\n",
            "0 upgraded, 16 newly installed, 0 to remove and 45 not upgraded.\n",
            "Need to get 1,053 kB of archives.\n",
            "After this operation, 4,061 kB of additional disk space will be used.\n",
            "Get:1 http://archive.ubuntu.com/ubuntu jammy/main amd64 libao-common all 1.2.2+20180113-1.1ubuntu3 [6,568 B]\n",
            "Get:2 http://archive.ubuntu.com/ubuntu jammy/main amd64 libao4 amd64 1.2.2+20180113-1.1ubuntu3 [35.2 kB]\n",
            "Get:3 http://archive.ubuntu.com/ubuntu jammy/universe amd64 libid3tag0 amd64 0.15.1b-14 [31.3 kB]\n",
            "Get:4 http://archive.ubuntu.com/ubuntu jammy/universe amd64 libmad0 amd64 0.15.1b-10ubuntu1 [63.1 kB]\n",
            "Get:5 http://archive.ubuntu.com/ubuntu jammy/universe amd64 libopencore-amrnb0 amd64 0.1.5-1 [94.8 kB]\n",
            "Get:6 http://archive.ubuntu.com/ubuntu jammy/universe amd64 libopencore-amrwb0 amd64 0.1.5-1 [49.1 kB]\n",
            "Get:7 http://archive.ubuntu.com/ubuntu jammy-updates/universe amd64 libsox3 amd64 14.4.2+git20190427-2+deb11u2ubuntu0.22.04.1 [240 kB]\n",
            "Get:8 http://archive.ubuntu.com/ubuntu jammy-updates/universe amd64 libsox-fmt-alsa amd64 14.4.2+git20190427-2+deb11u2ubuntu0.22.04.1 [11.2 kB]\n",
            "Get:9 http://archive.ubuntu.com/ubuntu jammy-updates/universe amd64 libsox-fmt-ao amd64 14.4.2+git20190427-2+deb11u2ubuntu0.22.04.1 [7,740 B]\n",
            "Get:10 http://archive.ubuntu.com/ubuntu jammy/main amd64 libwavpack1 amd64 5.4.0-1build2 [83.7 kB]\n",
            "Get:11 http://archive.ubuntu.com/ubuntu jammy-updates/universe amd64 libsox-fmt-base amd64 14.4.2+git20190427-2+deb11u2ubuntu0.22.04.1 [33.7 kB]\n",
            "Get:12 http://archive.ubuntu.com/ubuntu jammy-updates/universe amd64 libsox-fmt-mp3 amd64 14.4.2+git20190427-2+deb11u2ubuntu0.22.04.1 [17.3 kB]\n",
            "Get:13 http://archive.ubuntu.com/ubuntu jammy-updates/universe amd64 libsox-fmt-oss amd64 14.4.2+git20190427-2+deb11u2ubuntu0.22.04.1 [9,424 B]\n",
            "Get:14 http://archive.ubuntu.com/ubuntu jammy-updates/universe amd64 libsox-fmt-pulse amd64 14.4.2+git20190427-2+deb11u2ubuntu0.22.04.1 [7,732 B]\n",
            "Get:15 http://archive.ubuntu.com/ubuntu jammy-updates/universe amd64 libsox-fmt-all amd64 14.4.2+git20190427-2+deb11u2ubuntu0.22.04.1 [5,016 B]\n",
            "Get:16 http://archive.ubuntu.com/ubuntu jammy-updates/universe amd64 libsox-dev amd64 14.4.2+git20190427-2+deb11u2ubuntu0.22.04.1 [356 kB]\n",
            "Fetched 1,053 kB in 1s (1,666 kB/s)\n",
            "debconf: unable to initialize frontend: Dialog\n",
            "debconf: (No usable dialog-like program is installed, so the dialog based frontend cannot be used. at /usr/share/perl5/Debconf/FrontEnd/Dialog.pm line 78, <> line 16.)\n",
            "debconf: falling back to frontend: Readline\n",
            "debconf: unable to initialize frontend: Readline\n",
            "debconf: (This frontend requires a controlling tty.)\n",
            "debconf: falling back to frontend: Teletype\n",
            "dpkg-preconfigure: unable to re-open stdin: \n",
            "Selecting previously unselected package libao-common.\n",
            "(Reading database ... 121918 files and directories currently installed.)\n",
            "Preparing to unpack .../00-libao-common_1.2.2+20180113-1.1ubuntu3_all.deb ...\n",
            "Unpacking libao-common (1.2.2+20180113-1.1ubuntu3) ...\n",
            "Selecting previously unselected package libao4:amd64.\n",
            "Preparing to unpack .../01-libao4_1.2.2+20180113-1.1ubuntu3_amd64.deb ...\n",
            "Unpacking libao4:amd64 (1.2.2+20180113-1.1ubuntu3) ...\n",
            "Selecting previously unselected package libid3tag0:amd64.\n",
            "Preparing to unpack .../02-libid3tag0_0.15.1b-14_amd64.deb ...\n",
            "Unpacking libid3tag0:amd64 (0.15.1b-14) ...\n",
            "Selecting previously unselected package libmad0:amd64.\n",
            "Preparing to unpack .../03-libmad0_0.15.1b-10ubuntu1_amd64.deb ...\n",
            "Unpacking libmad0:amd64 (0.15.1b-10ubuntu1) ...\n",
            "Selecting previously unselected package libopencore-amrnb0:amd64.\n",
            "Preparing to unpack .../04-libopencore-amrnb0_0.1.5-1_amd64.deb ...\n",
            "Unpacking libopencore-amrnb0:amd64 (0.1.5-1) ...\n",
            "Selecting previously unselected package libopencore-amrwb0:amd64.\n",
            "Preparing to unpack .../05-libopencore-amrwb0_0.1.5-1_amd64.deb ...\n",
            "Unpacking libopencore-amrwb0:amd64 (0.1.5-1) ...\n",
            "Selecting previously unselected package libsox3:amd64.\n",
            "Preparing to unpack .../06-libsox3_14.4.2+git20190427-2+deb11u2ubuntu0.22.04.1_amd64.deb ...\n",
            "Unpacking libsox3:amd64 (14.4.2+git20190427-2+deb11u2ubuntu0.22.04.1) ...\n",
            "Selecting previously unselected package libsox-fmt-alsa:amd64.\n",
            "Preparing to unpack .../07-libsox-fmt-alsa_14.4.2+git20190427-2+deb11u2ubuntu0.22.04.1_amd64.deb ...\n",
            "Unpacking libsox-fmt-alsa:amd64 (14.4.2+git20190427-2+deb11u2ubuntu0.22.04.1) ...\n",
            "Selecting previously unselected package libsox-fmt-ao:amd64.\n",
            "Preparing to unpack .../08-libsox-fmt-ao_14.4.2+git20190427-2+deb11u2ubuntu0.22.04.1_amd64.deb ...\n",
            "Unpacking libsox-fmt-ao:amd64 (14.4.2+git20190427-2+deb11u2ubuntu0.22.04.1) ...\n",
            "Selecting previously unselected package libwavpack1:amd64.\n",
            "Preparing to unpack .../09-libwavpack1_5.4.0-1build2_amd64.deb ...\n",
            "Unpacking libwavpack1:amd64 (5.4.0-1build2) ...\n",
            "Selecting previously unselected package libsox-fmt-base:amd64.\n",
            "Preparing to unpack .../10-libsox-fmt-base_14.4.2+git20190427-2+deb11u2ubuntu0.22.04.1_amd64.deb ...\n",
            "Unpacking libsox-fmt-base:amd64 (14.4.2+git20190427-2+deb11u2ubuntu0.22.04.1) ...\n",
            "Selecting previously unselected package libsox-fmt-mp3:amd64.\n",
            "Preparing to unpack .../11-libsox-fmt-mp3_14.4.2+git20190427-2+deb11u2ubuntu0.22.04.1_amd64.deb ...\n",
            "Unpacking libsox-fmt-mp3:amd64 (14.4.2+git20190427-2+deb11u2ubuntu0.22.04.1) ...\n",
            "Selecting previously unselected package libsox-fmt-oss:amd64.\n",
            "Preparing to unpack .../12-libsox-fmt-oss_14.4.2+git20190427-2+deb11u2ubuntu0.22.04.1_amd64.deb ...\n",
            "Unpacking libsox-fmt-oss:amd64 (14.4.2+git20190427-2+deb11u2ubuntu0.22.04.1) ...\n",
            "Selecting previously unselected package libsox-fmt-pulse:amd64.\n",
            "Preparing to unpack .../13-libsox-fmt-pulse_14.4.2+git20190427-2+deb11u2ubuntu0.22.04.1_amd64.deb ...\n",
            "Unpacking libsox-fmt-pulse:amd64 (14.4.2+git20190427-2+deb11u2ubuntu0.22.04.1) ...\n",
            "Selecting previously unselected package libsox-fmt-all:amd64.\n",
            "Preparing to unpack .../14-libsox-fmt-all_14.4.2+git20190427-2+deb11u2ubuntu0.22.04.1_amd64.deb ...\n",
            "Unpacking libsox-fmt-all:amd64 (14.4.2+git20190427-2+deb11u2ubuntu0.22.04.1) ...\n",
            "Selecting previously unselected package libsox-dev:amd64.\n",
            "Preparing to unpack .../15-libsox-dev_14.4.2+git20190427-2+deb11u2ubuntu0.22.04.1_amd64.deb ...\n",
            "Unpacking libsox-dev:amd64 (14.4.2+git20190427-2+deb11u2ubuntu0.22.04.1) ...\n",
            "Setting up libsox3:amd64 (14.4.2+git20190427-2+deb11u2ubuntu0.22.04.1) ...\n",
            "Setting up libsox-fmt-oss:amd64 (14.4.2+git20190427-2+deb11u2ubuntu0.22.04.1) ...\n",
            "Setting up libao-common (1.2.2+20180113-1.1ubuntu3) ...\n",
            "Setting up libid3tag0:amd64 (0.15.1b-14) ...\n",
            "Setting up libopencore-amrwb0:amd64 (0.1.5-1) ...\n",
            "Setting up libsox-fmt-alsa:amd64 (14.4.2+git20190427-2+deb11u2ubuntu0.22.04.1) ...\n",
            "Setting up libao4:amd64 (1.2.2+20180113-1.1ubuntu3) ...\n",
            "Setting up libmad0:amd64 (0.15.1b-10ubuntu1) ...\n",
            "Setting up libwavpack1:amd64 (5.4.0-1build2) ...\n",
            "Setting up libopencore-amrnb0:amd64 (0.1.5-1) ...\n",
            "Setting up libsox-fmt-base:amd64 (14.4.2+git20190427-2+deb11u2ubuntu0.22.04.1) ...\n",
            "Setting up libsox-fmt-ao:amd64 (14.4.2+git20190427-2+deb11u2ubuntu0.22.04.1) ...\n",
            "Setting up libsox-fmt-mp3:amd64 (14.4.2+git20190427-2+deb11u2ubuntu0.22.04.1) ...\n",
            "Setting up libsox-fmt-pulse:amd64 (14.4.2+git20190427-2+deb11u2ubuntu0.22.04.1) ...\n",
            "Setting up libsox-fmt-all:amd64 (14.4.2+git20190427-2+deb11u2ubuntu0.22.04.1) ...\n",
            "Setting up libsox-dev:amd64 (14.4.2+git20190427-2+deb11u2ubuntu0.22.04.1) ...\n",
            "Processing triggers for man-db (2.10.2-1) ...\n",
            "Processing triggers for libc-bin (2.35-0ubuntu3.4) ...\n",
            "/sbin/ldconfig.real: /usr/local/lib/libtbbbind.so.3 is not a symbolic link\n",
            "\n",
            "/sbin/ldconfig.real: /usr/local/lib/libtbbbind_2_5.so.3 is not a symbolic link\n",
            "\n",
            "/sbin/ldconfig.real: /usr/local/lib/libtbbmalloc.so.2 is not a symbolic link\n",
            "\n",
            "/sbin/ldconfig.real: /usr/local/lib/libtbbbind_2_0.so.3 is not a symbolic link\n",
            "\n",
            "/sbin/ldconfig.real: /usr/local/lib/libtbb.so.12 is not a symbolic link\n",
            "\n",
            "/sbin/ldconfig.real: /usr/local/lib/libtbbmalloc_proxy.so.2 is not a symbolic link\n",
            "\n",
            "Collecting torchinfo\n",
            "  Downloading torchinfo-1.8.0-py3-none-any.whl (23 kB)\n",
            "Installing collected packages: torchinfo\n",
            "Successfully installed torchinfo-1.8.0\n",
            "Requirement already satisfied: torchaudio in /usr/local/lib/python3.10/dist-packages (2.2.1+cu121)\n",
            "Requirement already satisfied: torch==2.2.1 in /usr/local/lib/python3.10/dist-packages (from torchaudio) (2.2.1+cu121)\n",
            "Requirement already satisfied: filelock in /usr/local/lib/python3.10/dist-packages (from torch==2.2.1->torchaudio) (3.14.0)\n",
            "Requirement already satisfied: typing-extensions>=4.8.0 in /usr/local/lib/python3.10/dist-packages (from torch==2.2.1->torchaudio) (4.11.0)\n",
            "Requirement already satisfied: sympy in /usr/local/lib/python3.10/dist-packages (from torch==2.2.1->torchaudio) (1.12)\n",
            "Requirement already satisfied: networkx in /usr/local/lib/python3.10/dist-packages (from torch==2.2.1->torchaudio) (3.3)\n",
            "Requirement already satisfied: jinja2 in /usr/local/lib/python3.10/dist-packages (from torch==2.2.1->torchaudio) (3.1.4)\n",
            "Requirement already satisfied: fsspec in /usr/local/lib/python3.10/dist-packages (from torch==2.2.1->torchaudio) (2023.6.0)\n",
            "Collecting nvidia-cuda-nvrtc-cu12==12.1.105 (from torch==2.2.1->torchaudio)\n",
            "  Using cached nvidia_cuda_nvrtc_cu12-12.1.105-py3-none-manylinux1_x86_64.whl (23.7 MB)\n",
            "Collecting nvidia-cuda-runtime-cu12==12.1.105 (from torch==2.2.1->torchaudio)\n",
            "  Using cached nvidia_cuda_runtime_cu12-12.1.105-py3-none-manylinux1_x86_64.whl (823 kB)\n",
            "Collecting nvidia-cuda-cupti-cu12==12.1.105 (from torch==2.2.1->torchaudio)\n",
            "  Using cached nvidia_cuda_cupti_cu12-12.1.105-py3-none-manylinux1_x86_64.whl (14.1 MB)\n",
            "Collecting nvidia-cudnn-cu12==8.9.2.26 (from torch==2.2.1->torchaudio)\n",
            "  Using cached nvidia_cudnn_cu12-8.9.2.26-py3-none-manylinux1_x86_64.whl (731.7 MB)\n",
            "Collecting nvidia-cublas-cu12==12.1.3.1 (from torch==2.2.1->torchaudio)\n",
            "  Using cached nvidia_cublas_cu12-12.1.3.1-py3-none-manylinux1_x86_64.whl (410.6 MB)\n",
            "Collecting nvidia-cufft-cu12==11.0.2.54 (from torch==2.2.1->torchaudio)\n",
            "  Using cached nvidia_cufft_cu12-11.0.2.54-py3-none-manylinux1_x86_64.whl (121.6 MB)\n",
            "Collecting nvidia-curand-cu12==10.3.2.106 (from torch==2.2.1->torchaudio)\n",
            "  Using cached nvidia_curand_cu12-10.3.2.106-py3-none-manylinux1_x86_64.whl (56.5 MB)\n",
            "Collecting nvidia-cusolver-cu12==11.4.5.107 (from torch==2.2.1->torchaudio)\n",
            "  Using cached nvidia_cusolver_cu12-11.4.5.107-py3-none-manylinux1_x86_64.whl (124.2 MB)\n",
            "Collecting nvidia-cusparse-cu12==12.1.0.106 (from torch==2.2.1->torchaudio)\n",
            "  Using cached nvidia_cusparse_cu12-12.1.0.106-py3-none-manylinux1_x86_64.whl (196.0 MB)\n",
            "Collecting nvidia-nccl-cu12==2.19.3 (from torch==2.2.1->torchaudio)\n",
            "  Using cached nvidia_nccl_cu12-2.19.3-py3-none-manylinux1_x86_64.whl (166.0 MB)\n",
            "Collecting nvidia-nvtx-cu12==12.1.105 (from torch==2.2.1->torchaudio)\n",
            "  Using cached nvidia_nvtx_cu12-12.1.105-py3-none-manylinux1_x86_64.whl (99 kB)\n",
            "Requirement already satisfied: triton==2.2.0 in /usr/local/lib/python3.10/dist-packages (from torch==2.2.1->torchaudio) (2.2.0)\n",
            "Collecting nvidia-nvjitlink-cu12 (from nvidia-cusolver-cu12==11.4.5.107->torch==2.2.1->torchaudio)\n",
            "  Using cached nvidia_nvjitlink_cu12-12.4.127-py3-none-manylinux2014_x86_64.whl (21.1 MB)\n",
            "Requirement already satisfied: MarkupSafe>=2.0 in /usr/local/lib/python3.10/dist-packages (from jinja2->torch==2.2.1->torchaudio) (2.1.5)\n",
            "Requirement already satisfied: mpmath>=0.19 in /usr/local/lib/python3.10/dist-packages (from sympy->torch==2.2.1->torchaudio) (1.3.0)\n",
            "Installing collected packages: nvidia-nvtx-cu12, nvidia-nvjitlink-cu12, nvidia-nccl-cu12, nvidia-curand-cu12, nvidia-cufft-cu12, nvidia-cuda-runtime-cu12, nvidia-cuda-nvrtc-cu12, nvidia-cuda-cupti-cu12, nvidia-cublas-cu12, nvidia-cusparse-cu12, nvidia-cudnn-cu12, nvidia-cusolver-cu12\n",
            "Successfully installed nvidia-cublas-cu12-12.1.3.1 nvidia-cuda-cupti-cu12-12.1.105 nvidia-cuda-nvrtc-cu12-12.1.105 nvidia-cuda-runtime-cu12-12.1.105 nvidia-cudnn-cu12-8.9.2.26 nvidia-cufft-cu12-11.0.2.54 nvidia-curand-cu12-10.3.2.106 nvidia-cusolver-cu12-11.4.5.107 nvidia-cusparse-cu12-12.1.0.106 nvidia-nccl-cu12-2.19.3 nvidia-nvjitlink-cu12-12.4.127 nvidia-nvtx-cu12-12.1.105\n",
            "Collecting torchaudio_augmentations\n",
            "  Downloading torchaudio_augmentations-0.2.4-py3-none-any.whl (12 kB)\n",
            "Requirement already satisfied: numpy in /usr/local/lib/python3.10/dist-packages (from torchaudio_augmentations) (1.25.2)\n",
            "Requirement already satisfied: torch in /usr/local/lib/python3.10/dist-packages (from torchaudio_augmentations) (2.2.1+cu121)\n",
            "Requirement already satisfied: torchaudio in /usr/local/lib/python3.10/dist-packages (from torchaudio_augmentations) (2.2.1+cu121)\n",
            "Collecting julius (from torchaudio_augmentations)\n",
            "  Downloading julius-0.2.7.tar.gz (59 kB)\n",
            "\u001b[2K     \u001b[90m━━━━━━━━━━━━━━━━━━━━━━━━━━━━━━━━━━━━━━━━\u001b[0m \u001b[32m59.6/59.6 kB\u001b[0m \u001b[31m2.9 MB/s\u001b[0m eta \u001b[36m0:00:00\u001b[0m\n",
            "\u001b[?25h  Preparing metadata (setup.py) ... \u001b[?25l\u001b[?25hdone\n",
            "Collecting wavaugment (from torchaudio_augmentations)\n",
            "  Downloading wavaugment-0.2-py3-none-any.whl (5.4 kB)\n",
            "Collecting torch-pitch-shift (from torchaudio_augmentations)\n",
            "  Downloading torch_pitch_shift-1.2.4-py3-none-any.whl (4.9 kB)\n",
            "Requirement already satisfied: filelock in /usr/local/lib/python3.10/dist-packages (from torch->torchaudio_augmentations) (3.14.0)\n",
            "Requirement already satisfied: typing-extensions>=4.8.0 in /usr/local/lib/python3.10/dist-packages (from torch->torchaudio_augmentations) (4.11.0)\n",
            "Requirement already satisfied: sympy in /usr/local/lib/python3.10/dist-packages (from torch->torchaudio_augmentations) (1.12)\n",
            "Requirement already satisfied: networkx in /usr/local/lib/python3.10/dist-packages (from torch->torchaudio_augmentations) (3.3)\n",
            "Requirement already satisfied: jinja2 in /usr/local/lib/python3.10/dist-packages (from torch->torchaudio_augmentations) (3.1.4)\n",
            "Requirement already satisfied: fsspec in /usr/local/lib/python3.10/dist-packages (from torch->torchaudio_augmentations) (2023.6.0)\n",
            "Requirement already satisfied: nvidia-cuda-nvrtc-cu12==12.1.105 in /usr/local/lib/python3.10/dist-packages (from torch->torchaudio_augmentations) (12.1.105)\n",
            "Requirement already satisfied: nvidia-cuda-runtime-cu12==12.1.105 in /usr/local/lib/python3.10/dist-packages (from torch->torchaudio_augmentations) (12.1.105)\n",
            "Requirement already satisfied: nvidia-cuda-cupti-cu12==12.1.105 in /usr/local/lib/python3.10/dist-packages (from torch->torchaudio_augmentations) (12.1.105)\n",
            "Requirement already satisfied: nvidia-cudnn-cu12==8.9.2.26 in /usr/local/lib/python3.10/dist-packages (from torch->torchaudio_augmentations) (8.9.2.26)\n",
            "Requirement already satisfied: nvidia-cublas-cu12==12.1.3.1 in /usr/local/lib/python3.10/dist-packages (from torch->torchaudio_augmentations) (12.1.3.1)\n",
            "Requirement already satisfied: nvidia-cufft-cu12==11.0.2.54 in /usr/local/lib/python3.10/dist-packages (from torch->torchaudio_augmentations) (11.0.2.54)\n",
            "Requirement already satisfied: nvidia-curand-cu12==10.3.2.106 in /usr/local/lib/python3.10/dist-packages (from torch->torchaudio_augmentations) (10.3.2.106)\n",
            "Requirement already satisfied: nvidia-cusolver-cu12==11.4.5.107 in /usr/local/lib/python3.10/dist-packages (from torch->torchaudio_augmentations) (11.4.5.107)\n",
            "Requirement already satisfied: nvidia-cusparse-cu12==12.1.0.106 in /usr/local/lib/python3.10/dist-packages (from torch->torchaudio_augmentations) (12.1.0.106)\n",
            "Requirement already satisfied: nvidia-nccl-cu12==2.19.3 in /usr/local/lib/python3.10/dist-packages (from torch->torchaudio_augmentations) (2.19.3)\n",
            "Requirement already satisfied: nvidia-nvtx-cu12==12.1.105 in /usr/local/lib/python3.10/dist-packages (from torch->torchaudio_augmentations) (12.1.105)\n",
            "Requirement already satisfied: triton==2.2.0 in /usr/local/lib/python3.10/dist-packages (from torch->torchaudio_augmentations) (2.2.0)\n",
            "Requirement already satisfied: nvidia-nvjitlink-cu12 in /usr/local/lib/python3.10/dist-packages (from nvidia-cusolver-cu12==11.4.5.107->torch->torchaudio_augmentations) (12.4.127)\n",
            "Collecting primePy>=1.3 (from torch-pitch-shift->torchaudio_augmentations)\n",
            "  Downloading primePy-1.3-py3-none-any.whl (4.0 kB)\n",
            "Requirement already satisfied: packaging>=21.3 in /usr/local/lib/python3.10/dist-packages (from torch-pitch-shift->torchaudio_augmentations) (24.0)\n",
            "Requirement already satisfied: MarkupSafe>=2.0 in /usr/local/lib/python3.10/dist-packages (from jinja2->torch->torchaudio_augmentations) (2.1.5)\n",
            "Requirement already satisfied: mpmath>=0.19 in /usr/local/lib/python3.10/dist-packages (from sympy->torch->torchaudio_augmentations) (1.3.0)\n",
            "Building wheels for collected packages: julius\n",
            "  Building wheel for julius (setup.py) ... \u001b[?25l\u001b[?25hdone\n",
            "  Created wheel for julius: filename=julius-0.2.7-py3-none-any.whl size=21870 sha256=8cf944eb23b9ae1435be030fbd5824141530f19ebb42eb2128b1ea5e7468f968\n",
            "  Stored in directory: /root/.cache/pip/wheels/b9/b2/05/f883527ffcb7f2ead5438a2c23439aa0c881eaa9a4c80256f4\n",
            "Successfully built julius\n",
            "Installing collected packages: primePy, julius, wavaugment, torch-pitch-shift, torchaudio_augmentations\n",
            "Successfully installed julius-0.2.7 primePy-1.3 torch-pitch-shift-1.2.4 torchaudio_augmentations-0.2.4 wavaugment-0.2\n",
            "\u001b[31mERROR: Could not find a version that satisfies the requirement Spectrogram_augmentations (from versions: none)\u001b[0m\u001b[31m\n",
            "\u001b[0m\u001b[31mERROR: No matching distribution found for Spectrogram_augmentations\u001b[0m\u001b[31m\n",
            "\u001b[0m--2024-05-13 15:22:51--  https://raw.githubusercontent.com/coreyker/dnn-mgr/master/gtzan/train_filtered.txt\n",
            "Resolving raw.githubusercontent.com (raw.githubusercontent.com)... 185.199.108.133, 185.199.109.133, 185.199.110.133, ...\n",
            "Connecting to raw.githubusercontent.com (raw.githubusercontent.com)|185.199.108.133|:443... connected.\n",
            "HTTP request sent, awaiting response... 200 OK\n",
            "Length: 10152 (9.9K) [text/plain]\n",
            "Saving to: ‘train_filtered.txt’\n",
            "\n",
            "train_filtered.txt  100%[===================>]   9.91K  --.-KB/s    in 0s      \n",
            "\n",
            "2024-05-13 15:22:51 (35.9 MB/s) - ‘train_filtered.txt’ saved [10152/10152]\n",
            "\n",
            "--2024-05-13 15:22:51--  https://raw.githubusercontent.com/coreyker/dnn-mgr/master/gtzan/valid_filtered.txt\n",
            "Resolving raw.githubusercontent.com (raw.githubusercontent.com)... 185.199.108.133, 185.199.109.133, 185.199.110.133, ...\n",
            "Connecting to raw.githubusercontent.com (raw.githubusercontent.com)|185.199.108.133|:443... connected.\n",
            "HTTP request sent, awaiting response... 200 OK\n",
            "Length: 4522 (4.4K) [text/plain]\n",
            "Saving to: ‘valid_filtered.txt’\n",
            "\n",
            "valid_filtered.txt  100%[===================>]   4.42K  --.-KB/s    in 0s      \n",
            "\n",
            "2024-05-13 15:22:51 (52.7 MB/s) - ‘valid_filtered.txt’ saved [4522/4522]\n",
            "\n",
            "--2024-05-13 15:22:51--  https://raw.githubusercontent.com/coreyker/dnn-mgr/master/gtzan/test_filtered.txt\n",
            "Resolving raw.githubusercontent.com (raw.githubusercontent.com)... 185.199.108.133, 185.199.109.133, 185.199.110.133, ...\n",
            "Connecting to raw.githubusercontent.com (raw.githubusercontent.com)|185.199.108.133|:443... connected.\n",
            "HTTP request sent, awaiting response... 200 OK\n",
            "Length: 6616 (6.5K) [text/plain]\n",
            "Saving to: ‘test_filtered.txt’\n",
            "\n",
            "test_filtered.txt   100%[===================>]   6.46K  --.-KB/s    in 0s      \n",
            "\n",
            "2024-05-13 15:22:52 (57.1 MB/s) - ‘test_filtered.txt’ saved [6616/6616]\n",
            "\n"
          ]
        }
      ],
      "source": [
        "!sudo apt install libsox-dev\n",
        "!pip install torchinfo\n",
        "!pip install torchaudio\n",
        "!pip install torchaudio_augmentations\n",
        "!pip install Spectrogram_augmentations\n",
        "!wget https://raw.githubusercontent.com/coreyker/dnn-mgr/master/gtzan/train_filtered.txt\n",
        "!wget https://raw.githubusercontent.com/coreyker/dnn-mgr/master/gtzan/valid_filtered.txt\n",
        "!wget https://raw.githubusercontent.com/coreyker/dnn-mgr/master/gtzan/test_filtered.txt"
      ]
    },
    {
      "cell_type": "code",
      "execution_count": null,
      "metadata": {
        "id": "T3q5hmxvfuXh"
      },
      "outputs": [],
      "source": [
        "import os\n",
        "\n",
        "import numpy as np\n",
        "import torch\n",
        "import torch.nn as nn\n",
        "from torch.utils import data\n",
        "import torchaudio\n",
        "from torchaudio.datasets import GTZAN\n",
        "from torchaudio_augmentations import (\n",
        "    RandomResizedCrop,\n",
        "    RandomApply,\n",
        "    PolarityInversion,\n",
        "    Noise,\n",
        "    Gain,\n",
        "    HighLowPass,\n",
        "    Delay,\n",
        "    PitchShift,\n",
        "    Reverb,\n",
        "    Compose,\n",
        ")\n",
        "from torchinfo import summary\n",
        "from sklearn.metrics import accuracy_score, confusion_matrix\n",
        "\n",
        "from transformers import ASTConfig, ASTForAudioClassification, ASTFeatureExtractor\n",
        "\n",
        "import seaborn as sns\n",
        "import soundfile as sf\n",
        "import random\n",
        "from tqdm import tqdm\n"
      ]
    },
    {
      "cell_type": "markdown",
      "source": [
        "# Preprocessing of Data"
      ],
      "metadata": {
        "id": "NfgUNTwaM8dP"
      }
    },
    {
      "cell_type": "markdown",
      "source": [
        "We download the GTZAN dataset and create a custom Dataset using pytorch to help us split the data in train, valid, and test sets and then load it for our models to use"
      ],
      "metadata": {
        "id": "29VI3ImHNCR_"
      }
    },
    {
      "cell_type": "code",
      "execution_count": null,
      "metadata": {
        "colab": {
          "base_uri": "https://localhost:8080/"
        },
        "id": "vmi7ORBRihcw",
        "outputId": "62a5cbc5-fa0d-480b-f8ee-6bf0c8609655"
      },
      "outputs": [
        {
          "output_type": "stream",
          "name": "stderr",
          "text": [
            "100%|██████████| 1.14G/1.14G [00:05<00:00, 221MB/s]\n"
          ]
        },
        {
          "output_type": "stream",
          "name": "stdout",
          "text": [
            "cuda:0\n"
          ]
        }
      ],
      "source": [
        "GTZAN_GENRES = ['blues', 'classical', 'country', 'disco', 'hiphop', 'jazz', 'metal', 'pop', 'reggae', 'rock']\n",
        "SAMPLE_RATE = 22050\n",
        "\n",
        "GTZAN(root='./', url='https://huggingface.co/datasets/marsyas/gtzan/resolve/main/data/genres.tar.gz?download=true', download=True, subset='training')\n",
        "# training_data = GTZAN(root='./', url='https://huggingface.co/datasets/marsyas/gtzan/resolve/main/data/genres.tar.gz?download=true', download=True, subset='training')\n",
        "# test_data = GTZAN(root='./', url='https://huggingface.co/datasets/marsyas/gtzan/resolve/main/data/genres.tar.gz?download=true', download=True, subset='testing')\n",
        "# val_data = GTZAN(root='./', url='https://huggingface.co/datasets/marsyas/gtzan/resolve/main/data/genres.tar.gz?download=true', download=True, subset='validation')\n",
        "\n",
        "# train_dataloader = DataLoader(training_data, batch_size=64, shuffle=True)\n",
        "# test_dataloader = DataLoader(test_data, batch_size=64, shuffle=True)\n",
        "\n",
        "configuration = ASTConfig(num_labels=10,hidden_size=384,num_hidden_layers=3,num_attention_heads=3, intermediate_size=768)\n",
        "feature_extractor = ASTFeatureExtractor(sampling_rate=SAMPLE_RATE)\n",
        "\n",
        "class GTZANDataset(data.Dataset):\n",
        "    def __init__(self, data_path, split, num_samples, num_chunks, is_augmentation):\n",
        "        self.data_path =  data_path if data_path else ''\n",
        "        self.split = split\n",
        "        self.num_samples = num_samples\n",
        "        self.num_chunks = num_chunks\n",
        "        self.is_augmentation = is_augmentation\n",
        "        self.genres = GTZAN_GENRES\n",
        "        self._get_song_list()\n",
        "        if is_augmentation:\n",
        "            self._get_augmentations()\n",
        "\n",
        "    def _get_song_list(self):\n",
        "        list_filename = os.path.join(self.data_path, '%s_filtered.txt' % self.split)\n",
        "        with open(list_filename) as f:\n",
        "            lines = f.readlines()\n",
        "        self.song_list = [line.strip() for line in lines]\n",
        "\n",
        "    def _get_augmentations(self):\n",
        "        transforms = [\n",
        "            RandomResizedCrop(n_samples=self.num_samples),\n",
        "            RandomApply([PolarityInversion()], p=0.8),\n",
        "            RandomApply([Noise(min_snr=0.3, max_snr=0.5)], p=0.3),\n",
        "            RandomApply([Gain()], p=0.2),\n",
        "            RandomApply([HighLowPass(sample_rate=22050)], p=0.8),\n",
        "            RandomApply([Delay(sample_rate=22050)], p=0.5),\n",
        "            RandomApply([PitchShift(n_samples=self.num_samples, sample_rate=22050)], p=0.4),\n",
        "            RandomApply([Reverb(sample_rate=22050)], p=0.3),\n",
        "        ]\n",
        "        self.augmentation = Compose(transforms=transforms)\n",
        "\n",
        "    def _adjust_audio_length(self, wav):\n",
        "        if self.split == 'train':\n",
        "            random_index = random.randint(0, len(wav) - self.num_samples - 1)\n",
        "            wav = wav[random_index : random_index + self.num_samples]\n",
        "        else:\n",
        "            hop = (len(wav) - self.num_samples) // self.num_chunks\n",
        "            wav = np.array([wav[i * hop : i * hop + self.num_samples] for i in range(self.num_chunks)])\n",
        "        return wav\n",
        "\n",
        "    def __getitem__(self, index):\n",
        "        line = self.song_list[index]\n",
        "\n",
        "        # get genre\n",
        "        genre_name = line.split('/')[0]\n",
        "        genre_index = self.genres.index(genre_name)\n",
        "\n",
        "        # get audio\n",
        "        audio_filename = os.path.join(self.data_path, 'genres', line)\n",
        "        try:\n",
        "            wav, fs = sf.read(audio_filename)\n",
        "        except:\n",
        "            # print(f\"Error: cannot read {audio_filename}\")\n",
        "            # jazz.00054 not working\n",
        "            line = self.song_list[0]\n",
        "            genre_name = line.split('/')[0]\n",
        "            genre_index = self.genres.index(genre_name)\n",
        "            audio_filename = os.path.join(self.data_path, 'genres', line)\n",
        "            wav, fs = sf.read(audio_filename)\n",
        "\n",
        "        # adjust audio length\n",
        "        wav = self._adjust_audio_length(wav).astype('float32')\n",
        "\n",
        "        # data augmentation\n",
        "        if self.is_augmentation:\n",
        "            wav = self.augmentation(torch.from_numpy(wav).unsqueeze(0)).squeeze(0).numpy()\n",
        "\n",
        "        ast_features = feature_extractor(wav, SAMPLE_RATE, return_tensors=\"pt\").input_values.squeeze()\n",
        "\n",
        "        return ast_features, genre_index\n",
        "\n",
        "        # return wav, genre_index\n",
        "\n",
        "    def __len__(self):\n",
        "        return len(self.song_list)\n",
        "\n",
        "def get_dataloader(data_path=None,\n",
        "                   split='train',\n",
        "                   num_samples=22050 * 29,\n",
        "                   num_chunks=1,\n",
        "                   batch_size=16,\n",
        "                   num_workers=0,\n",
        "                   is_augmentation=False):\n",
        "    is_shuffle = True if (split == 'train') else False\n",
        "    batch_size = batch_size if (split == 'train') else (batch_size // num_chunks)\n",
        "    data_loader = data.DataLoader(dataset=GTZANDataset(data_path,\n",
        "                                                       split,\n",
        "                                                       num_samples,\n",
        "                                                       num_chunks,\n",
        "                                                       is_augmentation),\n",
        "                                  batch_size=batch_size,\n",
        "                                  shuffle=is_shuffle,\n",
        "                                  drop_last=False,\n",
        "                                  num_workers=num_workers)\n",
        "    return data_loader\n",
        "\n",
        "DEVICE = torch.device(\"cuda:0\" if torch.cuda.is_available() else \"cpu\")\n",
        "print(DEVICE)\n",
        "\n"
      ]
    },
    {
      "cell_type": "markdown",
      "source": [
        "We can see the output shape of the data, and the required input shapes for our models is going to be [16,1024,128]"
      ],
      "metadata": {
        "id": "RCLMx8_nNMY7"
      }
    },
    {
      "cell_type": "code",
      "execution_count": null,
      "metadata": {
        "colab": {
          "base_uri": "https://localhost:8080/"
        },
        "id": "0jrs9uxbnKcK",
        "outputId": "c8c02cd3-f914-4ded-b3dc-193d6268310c"
      },
      "outputs": [
        {
          "output_type": "stream",
          "name": "stdout",
          "text": [
            "training data shape: torch.Size([16, 1024, 128])\n",
            "validation/test data shape: torch.Size([16, 1024, 128])\n",
            "tensor([3, 1, 8, 6, 6, 7, 1, 1, 0, 1, 1, 7, 1, 6, 3, 7])\n"
          ]
        }
      ],
      "source": [
        "train_loader = get_dataloader(split='train', is_augmentation=True)\n",
        "iter_train_loader = iter(train_loader)\n",
        "train_wav, train_genre = next(iter_train_loader)\n",
        "\n",
        "valid_loader = get_dataloader(split='valid')\n",
        "test_loader = get_dataloader(split='test')\n",
        "iter_test_loader = iter(test_loader)\n",
        "test_wav, test_genre = next(iter_test_loader)\n",
        "print('training data shape: %s' % str(train_wav.shape))\n",
        "print('validation/test data shape: %s' % str(test_wav.shape))\n",
        "print(train_genre)"
      ]
    },
    {
      "cell_type": "markdown",
      "metadata": {
        "id": "sZ_FyocmgqfC"
      },
      "source": [
        "# Omni\n",
        "\n"
      ]
    },
    {
      "cell_type": "markdown",
      "source": [
        "## Logistic Regression"
      ],
      "metadata": {
        "id": "wc65i-w-iLaC"
      }
    },
    {
      "cell_type": "code",
      "source": [
        "import torch\n",
        "import torch.nn as nn\n",
        "import torch.optim as optim\n",
        "from sklearn.metrics import accuracy_score, confusion_matrix\n",
        "import matplotlib.pyplot as plt\n",
        "from torchinfo import summary\n",
        "\n",
        "# Define logistic regression model\n",
        "class LogisticRegression(nn.Module):\n",
        "    def __init__(self, input_dim, output_dim):\n",
        "        super(LogisticRegression, self).__init__()\n",
        "        self.linear = nn.Linear(input_dim, 32000)\n",
        "        self.output = nn.Sequential(\n",
        "            nn.Linear(32000, output_dim),\n",
        "            nn.AdaptiveAvgPool2d((10,1)),\n",
        "            nn.Flatten()\n",
        "        )\n",
        "        #self.avg =\n",
        "        #self.flatten =\n",
        "\n",
        "    def forward(self, x):\n",
        "        logits = self.linear(x)\n",
        "        #print(logits.shape)\n",
        "        #logits = self.avg(logits)\n",
        "        #print(logits.shape)\n",
        "        logits = self.output(logits)\n",
        "        #print(logits.shape)\n",
        "        return logits\n",
        "\n",
        "def train_logistic_regression(num_epochs, model, criterion, optimizer, train_loader, valid_loader, device):\n",
        "    train_losses = []\n",
        "    valid_losses = []\n",
        "    for epoch in range(num_epochs):\n",
        "        # Training\n",
        "        model.train()\n",
        "        epoch_train_loss = 0.0\n",
        "        for inputs, labels in train_loader:\n",
        "            inputs, labels = inputs.to(device), labels.to(device)\n",
        "            optimizer.zero_grad()\n",
        "            outputs = model(inputs)\n",
        "            num_classes=10\n",
        "            # One-hot encode the labels\n",
        "            one_hot_labels = nn.functional.one_hot(labels, num_classes)\n",
        "\n",
        "            loss = criterion(outputs, one_hot_labels)\n",
        "            loss.backward()\n",
        "            optimizer.step()\n",
        "            epoch_train_loss += loss.item()\n",
        "        train_losses.append(epoch_train_loss / len(train_loader))\n",
        "\n",
        "        # Validation\n",
        "        model.eval()\n",
        "        epoch_valid_loss = 0.0\n",
        "        with torch.no_grad():\n",
        "            for inputs, labels in valid_loader:\n",
        "                inputs, labels = inputs.to(device), labels.to(device)\n",
        "                outputs = model(inputs)\n",
        "\n",
        "                # One-hot encode the labels\n",
        "                one_hot_labels = nn.functional.one_hot(labels, num_classes)\n",
        "\n",
        "                loss = criterion(outputs, one_hot_labels)\n",
        "                epoch_valid_loss += loss.item()\n",
        "            valid_losses.append(epoch_valid_loss / len(valid_loader))\n",
        "\n",
        "        # Print epoch statistics\n",
        "        print(f\"Epoch {epoch+1}/{num_epochs}, Train Loss: {train_losses[-1]}, Valid Loss: {valid_losses[-1]}\")\n",
        "\n",
        "    return train_losses, valid_losses\n",
        "\n",
        "# Instantiate logistic regression model\n",
        "device = torch.device(\"cuda\" if torch.cuda.is_available() else \"cpu\")\n",
        "input_dim = 128  # Adjusted input size to match the actual input data size\n",
        "output_dim = 10  # Number of classes\n",
        "lr_model = LogisticRegression(input_dim, output_dim).to(device)\n",
        "\n",
        "# Define cross-entropy loss function\n",
        "criterion = nn.CrossEntropyLoss()\n",
        "\n",
        "# Define optimizer (e.g., Adam)\n",
        "optimizer = optim.Adam(lr_model.parameters(), lr=0.001)\n",
        "\n",
        "# Get model summary\n",
        "summary(lr_model)\n"
      ],
      "metadata": {
        "colab": {
          "background_save": true
        },
        "id": "q_D9tDIqbgZE",
        "execution": {
          "iopub.status.busy": "2024-05-13T19:10:30.631832Z",
          "iopub.execute_input": "2024-05-13T19:10:30.632608Z",
          "iopub.status.idle": "2024-05-13T19:10:30.694932Z",
          "shell.execute_reply.started": "2024-05-13T19:10:30.632577Z",
          "shell.execute_reply": "2024-05-13T19:10:30.693974Z"
        },
        "trusted": true,
        "outputId": "5d4f1c3b-aa35-466a-fba1-ec2887a664f8"
      },
      "execution_count": null,
      "outputs": [
        {
          "execution_count": 14,
          "output_type": "execute_result",
          "data": {
            "text/plain": "=================================================================\nLayer (type:depth-idx)                   Param #\n=================================================================\nLogisticRegression                       --\n├─Linear: 1-1                            4,128,000\n├─Sequential: 1-2                        --\n│    └─Linear: 2-1                       320,010\n│    └─AdaptiveAvgPool2d: 2-2            --\n│    └─Flatten: 2-3                      --\n=================================================================\nTotal params: 4,448,010\nTrainable params: 4,448,010\nNon-trainable params: 0\n================================================================="
          },
          "metadata": {}
        }
      ]
    },
    {
      "cell_type": "code",
      "source": [
        "# Train the logistic regression model\n",
        "num_epochs = 50\n",
        "#train_losses_lr, valid_losses_lr = train_logistic_regression(num_epochs, lr_model, criterion, optimizer, train_loader, valid_loader, device)\n",
        "train_losses_lr, valid_losses_lr, valid_accuracy_lr = train_loop(num_epochs, lr_model, criterion, optimizer, train_loader, valid_loader)\n",
        "#rain_losses_lr, valid_losses_lr = train_loop(num_epochs, lr_model, criterion, optimizer, train_loader, valid_loader, device)\n",
        "\n",
        "# Plot training and validation losses\n",
        "plt.plot(train_losses_lr, label='Train Loss')\n",
        "plt.plot(valid_losses_lr, label='Valid Loss')\n",
        "plt.xlabel('Epoch')\n",
        "plt.ylabel('Loss')\n",
        "plt.title('Training and Validation Loss (Logistic Regression)')\n",
        "plt.legend()\n",
        "plt.show()"
      ],
      "metadata": {
        "id": "Nz-OUvLrjLYG",
        "execution": {
          "iopub.status.busy": "2024-05-13T19:10:54.223150Z",
          "iopub.execute_input": "2024-05-13T19:10:54.223546Z",
          "iopub.status.idle": "2024-05-13T20:02:35.924593Z",
          "shell.execute_reply.started": "2024-05-13T19:10:54.223512Z",
          "shell.execute_reply": "2024-05-13T20:02:35.923575Z"
        },
        "trusted": true,
        "outputId": "142c6c2a-7545-4eac-c078-1c4e468883a1"
      },
      "execution_count": null,
      "outputs": [
        {
          "name": "stderr",
          "text": "  0%|          | 0/50 [00:00<?, ?it/s]",
          "output_type": "stream"
        },
        {
          "name": "stdout",
          "text": "Epoch: [1/50], Train loss: 2.4646\n",
          "output_type": "stream"
        },
        {
          "name": "stderr",
          "text": "  2%|▏         | 1/50 [01:01<50:01, 61.25s/it]",
          "output_type": "stream"
        },
        {
          "name": "stdout",
          "text": "Epoch: [1/50], Valid loss: 2.3716, Valid accuracy: 0.1168\nSaving the best model at 0 epochs!\nEpoch: [2/50], Train loss: 2.3570\n",
          "output_type": "stream"
        },
        {
          "name": "stderr",
          "text": "  4%|▍         | 2/50 [02:05<50:29, 63.12s/it]",
          "output_type": "stream"
        },
        {
          "name": "stdout",
          "text": "Epoch: [2/50], Valid loss: 2.3752, Valid accuracy: 0.0914\nEpoch: [3/50], Train loss: 2.3305\n",
          "output_type": "stream"
        },
        {
          "name": "stderr",
          "text": "  6%|▌         | 3/50 [03:07<48:57, 62.50s/it]",
          "output_type": "stream"
        },
        {
          "name": "stdout",
          "text": "Epoch: [3/50], Valid loss: 2.3777, Valid accuracy: 0.0812\nEpoch: [4/50], Train loss: 2.3548\n",
          "output_type": "stream"
        },
        {
          "name": "stderr",
          "text": "  8%|▊         | 4/50 [04:09<47:41, 62.21s/it]",
          "output_type": "stream"
        },
        {
          "name": "stdout",
          "text": "Epoch: [4/50], Valid loss: 2.3886, Valid accuracy: 0.1117\nEpoch: [5/50], Train loss: 2.3932\n",
          "output_type": "stream"
        },
        {
          "name": "stderr",
          "text": " 10%|█         | 5/50 [05:07<45:42, 60.94s/it]",
          "output_type": "stream"
        },
        {
          "name": "stdout",
          "text": "Epoch: [5/50], Valid loss: 2.3506, Valid accuracy: 0.1117\nSaving the best model at 4 epochs!\nEpoch: [6/50], Train loss: 2.3658\n",
          "output_type": "stream"
        },
        {
          "name": "stderr",
          "text": " 12%|█▏        | 6/50 [06:09<44:52, 61.19s/it]",
          "output_type": "stream"
        },
        {
          "name": "stdout",
          "text": "Epoch: [6/50], Valid loss: 2.3412, Valid accuracy: 0.0711\nSaving the best model at 5 epochs!\nEpoch: [7/50], Train loss: 2.3434\n",
          "output_type": "stream"
        },
        {
          "name": "stderr",
          "text": " 14%|█▍        | 7/50 [07:13<44:28, 62.07s/it]",
          "output_type": "stream"
        },
        {
          "name": "stdout",
          "text": "Epoch: [7/50], Valid loss: 2.3561, Valid accuracy: 0.0711\nEpoch: [8/50], Train loss: 2.3618\n",
          "output_type": "stream"
        },
        {
          "name": "stderr",
          "text": " 16%|█▌        | 8/50 [08:12<42:51, 61.23s/it]",
          "output_type": "stream"
        },
        {
          "name": "stdout",
          "text": "Epoch: [8/50], Valid loss: 2.3712, Valid accuracy: 0.1015\nEpoch: [9/50], Train loss: 2.3461\n",
          "output_type": "stream"
        },
        {
          "name": "stderr",
          "text": " 18%|█▊        | 9/50 [09:10<41:04, 60.10s/it]",
          "output_type": "stream"
        },
        {
          "name": "stdout",
          "text": "Epoch: [9/50], Valid loss: 2.3975, Valid accuracy: 0.1015\nEpoch: [10/50], Train loss: 2.3781\n",
          "output_type": "stream"
        },
        {
          "name": "stderr",
          "text": " 20%|██        | 10/50 [10:12<40:23, 60.59s/it]",
          "output_type": "stream"
        },
        {
          "name": "stdout",
          "text": "Epoch: [10/50], Valid loss: 2.5845, Valid accuracy: 0.1168\nEpoch: [11/50], Train loss: 2.3719\n",
          "output_type": "stream"
        },
        {
          "name": "stderr",
          "text": " 22%|██▏       | 11/50 [11:14<39:46, 61.20s/it]",
          "output_type": "stream"
        },
        {
          "name": "stdout",
          "text": "Epoch: [11/50], Valid loss: 2.3475, Valid accuracy: 0.0660\nEpoch: [12/50], Train loss: 2.3411\n",
          "output_type": "stream"
        },
        {
          "name": "stderr",
          "text": " 24%|██▍       | 12/50 [12:17<39:06, 61.75s/it]",
          "output_type": "stream"
        },
        {
          "name": "stdout",
          "text": "Epoch: [12/50], Valid loss: 2.3491, Valid accuracy: 0.0761\nEpoch: [13/50], Train loss: 2.3567\n",
          "output_type": "stream"
        },
        {
          "name": "stderr",
          "text": " 26%|██▌       | 13/50 [13:19<38:00, 61.64s/it]",
          "output_type": "stream"
        },
        {
          "name": "stdout",
          "text": "Epoch: [13/50], Valid loss: 2.3618, Valid accuracy: 0.0761\nEpoch: [14/50], Train loss: 2.3580\n",
          "output_type": "stream"
        },
        {
          "name": "stderr",
          "text": " 28%|██▊       | 14/50 [14:22<37:18, 62.17s/it]",
          "output_type": "stream"
        },
        {
          "name": "stdout",
          "text": "Epoch: [14/50], Valid loss: 2.3601, Valid accuracy: 0.0863\nEpoch: [15/50], Train loss: 2.3573\n",
          "output_type": "stream"
        },
        {
          "name": "stderr",
          "text": " 30%|███       | 15/50 [15:27<36:50, 63.15s/it]",
          "output_type": "stream"
        },
        {
          "name": "stdout",
          "text": "Epoch: [15/50], Valid loss: 2.3818, Valid accuracy: 0.0964\nEpoch: [16/50], Train loss: 2.3640\n",
          "output_type": "stream"
        },
        {
          "name": "stderr",
          "text": " 32%|███▏      | 16/50 [16:32<35:58, 63.50s/it]",
          "output_type": "stream"
        },
        {
          "name": "stdout",
          "text": "Epoch: [16/50], Valid loss: 2.3437, Valid accuracy: 0.1218\nEpoch: [17/50], Train loss: 2.3126\n",
          "output_type": "stream"
        },
        {
          "name": "stderr",
          "text": " 34%|███▍      | 17/50 [17:35<34:52, 63.42s/it]",
          "output_type": "stream"
        },
        {
          "name": "stdout",
          "text": "Epoch: [17/50], Valid loss: 2.3924, Valid accuracy: 0.0914\nEpoch: [18/50], Train loss: 2.3446\n",
          "output_type": "stream"
        },
        {
          "name": "stderr",
          "text": " 36%|███▌      | 18/50 [18:36<33:29, 62.80s/it]",
          "output_type": "stream"
        },
        {
          "name": "stdout",
          "text": "Epoch: [18/50], Valid loss: 2.3537, Valid accuracy: 0.0964\nEpoch: [19/50], Train loss: 2.3500\n",
          "output_type": "stream"
        },
        {
          "name": "stderr",
          "text": " 38%|███▊      | 19/50 [19:37<32:08, 62.20s/it]",
          "output_type": "stream"
        },
        {
          "name": "stdout",
          "text": "Epoch: [19/50], Valid loss: 2.3706, Valid accuracy: 0.1168\nEpoch: [20/50], Train loss: 2.3487\n",
          "output_type": "stream"
        },
        {
          "name": "stderr",
          "text": " 40%|████      | 20/50 [20:43<31:40, 63.36s/it]",
          "output_type": "stream"
        },
        {
          "name": "stdout",
          "text": "Epoch: [20/50], Valid loss: 2.3404, Valid accuracy: 0.1066\nSaving the best model at 19 epochs!\nEpoch: [21/50], Train loss: 2.3369\n",
          "output_type": "stream"
        },
        {
          "name": "stderr",
          "text": " 42%|████▏     | 21/50 [21:49<30:54, 63.96s/it]",
          "output_type": "stream"
        },
        {
          "name": "stdout",
          "text": "Epoch: [21/50], Valid loss: 2.3323, Valid accuracy: 0.1168\nSaving the best model at 20 epochs!\nEpoch: [22/50], Train loss: 2.3436\n",
          "output_type": "stream"
        },
        {
          "name": "stderr",
          "text": " 44%|████▍     | 22/50 [22:52<29:44, 63.74s/it]",
          "output_type": "stream"
        },
        {
          "name": "stdout",
          "text": "Epoch: [22/50], Valid loss: 2.3500, Valid accuracy: 0.0761\nEpoch: [23/50], Train loss: 2.3327\n",
          "output_type": "stream"
        },
        {
          "name": "stderr",
          "text": " 46%|████▌     | 23/50 [23:53<28:20, 62.99s/it]",
          "output_type": "stream"
        },
        {
          "name": "stdout",
          "text": "Epoch: [23/50], Valid loss: 2.3318, Valid accuracy: 0.0761\nSaving the best model at 22 epochs!\nEpoch: [24/50], Train loss: 2.3237\n",
          "output_type": "stream"
        },
        {
          "name": "stderr",
          "text": " 48%|████▊     | 24/50 [24:51<26:39, 61.53s/it]",
          "output_type": "stream"
        },
        {
          "name": "stdout",
          "text": "Epoch: [24/50], Valid loss: 2.4667, Valid accuracy: 0.1117\nEpoch: [25/50], Train loss: 2.3443\n",
          "output_type": "stream"
        },
        {
          "name": "stderr",
          "text": " 50%|█████     | 25/50 [25:55<25:52, 62.10s/it]",
          "output_type": "stream"
        },
        {
          "name": "stdout",
          "text": "Epoch: [25/50], Valid loss: 2.3718, Valid accuracy: 0.0761\nEpoch: [26/50], Train loss: 2.3622\n",
          "output_type": "stream"
        },
        {
          "name": "stderr",
          "text": " 52%|█████▏    | 26/50 [26:57<24:49, 62.08s/it]",
          "output_type": "stream"
        },
        {
          "name": "stdout",
          "text": "Epoch: [26/50], Valid loss: 2.3860, Valid accuracy: 0.1015\nEpoch: [27/50], Train loss: 2.3469\n",
          "output_type": "stream"
        },
        {
          "name": "stderr",
          "text": " 54%|█████▍    | 27/50 [28:02<24:08, 62.97s/it]",
          "output_type": "stream"
        },
        {
          "name": "stdout",
          "text": "Epoch: [27/50], Valid loss: 2.3684, Valid accuracy: 0.0964\nEpoch: [28/50], Train loss: 2.3513\n",
          "output_type": "stream"
        },
        {
          "name": "stderr",
          "text": " 56%|█████▌    | 28/50 [29:04<23:00, 62.76s/it]",
          "output_type": "stream"
        },
        {
          "name": "stdout",
          "text": "Epoch: [28/50], Valid loss: 2.3493, Valid accuracy: 0.0609\nEpoch: [29/50], Train loss: 2.3363\n",
          "output_type": "stream"
        },
        {
          "name": "stderr",
          "text": " 58%|█████▊    | 29/50 [30:09<22:10, 63.35s/it]",
          "output_type": "stream"
        },
        {
          "name": "stdout",
          "text": "Epoch: [29/50], Valid loss: 2.3660, Valid accuracy: 0.0914\nEpoch: [30/50], Train loss: 2.3196\n",
          "output_type": "stream"
        },
        {
          "name": "stderr",
          "text": " 60%|██████    | 30/50 [31:09<20:45, 62.29s/it]",
          "output_type": "stream"
        },
        {
          "name": "stdout",
          "text": "Epoch: [30/50], Valid loss: 2.3378, Valid accuracy: 0.0660\nEpoch: [31/50], Train loss: 2.3623\n",
          "output_type": "stream"
        },
        {
          "name": "stderr",
          "text": " 62%|██████▏   | 31/50 [32:15<20:05, 63.46s/it]",
          "output_type": "stream"
        },
        {
          "name": "stdout",
          "text": "Epoch: [31/50], Valid loss: 2.3596, Valid accuracy: 0.0863\nEpoch: [32/50], Train loss: 2.3668\n",
          "output_type": "stream"
        },
        {
          "name": "stderr",
          "text": " 64%|██████▍   | 32/50 [33:21<19:19, 64.41s/it]",
          "output_type": "stream"
        },
        {
          "name": "stdout",
          "text": "Epoch: [32/50], Valid loss: 2.3300, Valid accuracy: 0.0914\nSaving the best model at 31 epochs!\nEpoch: [33/50], Train loss: 2.3460\n",
          "output_type": "stream"
        },
        {
          "name": "stderr",
          "text": " 66%|██████▌   | 33/50 [34:22<17:55, 63.29s/it]",
          "output_type": "stream"
        },
        {
          "name": "stdout",
          "text": "Epoch: [33/50], Valid loss: 2.3122, Valid accuracy: 0.0863\nSaving the best model at 32 epochs!\nEpoch: [34/50], Train loss: 2.3529\n",
          "output_type": "stream"
        },
        {
          "name": "stderr",
          "text": " 68%|██████▊   | 34/50 [35:24<16:48, 63.03s/it]",
          "output_type": "stream"
        },
        {
          "name": "stdout",
          "text": "Epoch: [34/50], Valid loss: 2.4769, Valid accuracy: 0.0711\nEpoch: [35/50], Train loss: 2.3714\n",
          "output_type": "stream"
        },
        {
          "name": "stderr",
          "text": " 70%|███████   | 35/50 [36:27<15:44, 62.99s/it]",
          "output_type": "stream"
        },
        {
          "name": "stdout",
          "text": "Epoch: [35/50], Valid loss: 2.3765, Valid accuracy: 0.0660\nEpoch: [36/50], Train loss: 2.3670\n",
          "output_type": "stream"
        },
        {
          "name": "stderr",
          "text": " 72%|███████▏  | 36/50 [37:29<14:37, 62.65s/it]",
          "output_type": "stream"
        },
        {
          "name": "stdout",
          "text": "Epoch: [36/50], Valid loss: 2.3300, Valid accuracy: 0.1168\nEpoch: [37/50], Train loss: 2.3460\n",
          "output_type": "stream"
        },
        {
          "name": "stderr",
          "text": " 74%|███████▍  | 37/50 [38:33<13:38, 62.93s/it]",
          "output_type": "stream"
        },
        {
          "name": "stdout",
          "text": "Epoch: [37/50], Valid loss: 2.3392, Valid accuracy: 0.0914\nEpoch: [38/50], Train loss: 2.3404\n",
          "output_type": "stream"
        },
        {
          "name": "stderr",
          "text": " 76%|███████▌  | 38/50 [39:36<12:35, 63.00s/it]",
          "output_type": "stream"
        },
        {
          "name": "stdout",
          "text": "Epoch: [38/50], Valid loss: 2.3452, Valid accuracy: 0.0964\nEpoch: [39/50], Train loss: 2.3335\n",
          "output_type": "stream"
        },
        {
          "name": "stderr",
          "text": " 78%|███████▊  | 39/50 [40:40<11:37, 63.43s/it]",
          "output_type": "stream"
        },
        {
          "name": "stdout",
          "text": "Epoch: [39/50], Valid loss: 2.4230, Valid accuracy: 0.1066\nEpoch: [40/50], Train loss: 2.3526\n",
          "output_type": "stream"
        },
        {
          "name": "stderr",
          "text": " 80%|████████  | 40/50 [41:37<10:14, 61.48s/it]",
          "output_type": "stream"
        },
        {
          "name": "stdout",
          "text": "Epoch: [40/50], Valid loss: 2.3275, Valid accuracy: 0.1117\nEpoch: [41/50], Train loss: 2.3313\n",
          "output_type": "stream"
        },
        {
          "name": "stderr",
          "text": " 82%|████████▏ | 41/50 [42:38<09:11, 61.28s/it]",
          "output_type": "stream"
        },
        {
          "name": "stdout",
          "text": "Epoch: [41/50], Valid loss: 2.3689, Valid accuracy: 0.0863\nEpoch: [42/50], Train loss: 2.3352\n",
          "output_type": "stream"
        },
        {
          "name": "stderr",
          "text": " 84%|████████▍ | 42/50 [43:39<08:08, 61.05s/it]",
          "output_type": "stream"
        },
        {
          "name": "stdout",
          "text": "Epoch: [42/50], Valid loss: 2.3349, Valid accuracy: 0.1015\nEpoch: [43/50], Train loss: 2.3306\n",
          "output_type": "stream"
        },
        {
          "name": "stderr",
          "text": " 86%|████████▌ | 43/50 [44:38<07:04, 60.59s/it]",
          "output_type": "stream"
        },
        {
          "name": "stdout",
          "text": "Epoch: [43/50], Valid loss: 2.4328, Valid accuracy: 0.1117\nEpoch: [44/50], Train loss: 2.3422\n",
          "output_type": "stream"
        },
        {
          "name": "stderr",
          "text": " 88%|████████▊ | 44/50 [45:39<06:03, 60.57s/it]",
          "output_type": "stream"
        },
        {
          "name": "stdout",
          "text": "Epoch: [44/50], Valid loss: 2.3639, Valid accuracy: 0.0863\nEpoch: [45/50], Train loss: 2.3606\n",
          "output_type": "stream"
        },
        {
          "name": "stderr",
          "text": " 90%|█████████ | 45/50 [46:39<05:02, 60.47s/it]",
          "output_type": "stream"
        },
        {
          "name": "stdout",
          "text": "Epoch: [45/50], Valid loss: 2.3872, Valid accuracy: 0.1066\nEpoch: [46/50], Train loss: 2.3339\n",
          "output_type": "stream"
        },
        {
          "name": "stderr",
          "text": " 92%|█████████▏| 46/50 [47:41<04:03, 60.90s/it]",
          "output_type": "stream"
        },
        {
          "name": "stdout",
          "text": "Epoch: [46/50], Valid loss: 2.4289, Valid accuracy: 0.0964\nEpoch: [47/50], Train loss: 2.3369\n",
          "output_type": "stream"
        },
        {
          "name": "stderr",
          "text": " 94%|█████████▍| 47/50 [48:40<03:00, 60.31s/it]",
          "output_type": "stream"
        },
        {
          "name": "stdout",
          "text": "Epoch: [47/50], Valid loss: 2.3400, Valid accuracy: 0.1015\nEpoch: [48/50], Train loss: 2.3377\n",
          "output_type": "stream"
        },
        {
          "name": "stderr",
          "text": " 96%|█████████▌| 48/50 [49:41<02:01, 60.62s/it]",
          "output_type": "stream"
        },
        {
          "name": "stdout",
          "text": "Epoch: [48/50], Valid loss: 2.4078, Valid accuracy: 0.0812\nEpoch: [49/50], Train loss: 2.3090\n",
          "output_type": "stream"
        },
        {
          "name": "stderr",
          "text": " 98%|█████████▊| 49/50 [50:41<01:00, 60.36s/it]",
          "output_type": "stream"
        },
        {
          "name": "stdout",
          "text": "Epoch: [49/50], Valid loss: 2.3351, Valid accuracy: 0.0914\nEpoch: [50/50], Train loss: 2.3102\n",
          "output_type": "stream"
        },
        {
          "name": "stderr",
          "text": "100%|██████████| 50/50 [51:41<00:00, 62.03s/it]",
          "output_type": "stream"
        },
        {
          "name": "stdout",
          "text": "Epoch: [50/50], Valid loss: 2.4293, Valid accuracy: 0.1015\n",
          "output_type": "stream"
        },
        {
          "name": "stderr",
          "text": "\n",
          "output_type": "stream"
        },
        {
          "output_type": "display_data",
          "data": {
            "text/plain": "<Figure size 640x480 with 1 Axes>",
            "image/png": "[encoded data removed]"
          },
          "metadata": {}
        }
      ]
    },
    {
      "cell_type": "code",
      "source": [
        "evaluation(lr_model)"
      ],
      "metadata": {
        "id": "arvBKxCwWOhE",
        "execution": {
          "iopub.status.busy": "2024-05-13T20:02:35.926539Z",
          "iopub.execute_input": "2024-05-13T20:02:35.926859Z",
          "iopub.status.idle": "2024-05-13T20:02:45.666964Z",
          "shell.execute_reply.started": "2024-05-13T20:02:35.926830Z",
          "shell.execute_reply": "2024-05-13T20:02:45.665953Z"
        },
        "trusted": true,
        "outputId": "115b3f46-2b60-4196-c00b-57c73dd7e5f2"
      },
      "execution_count": null,
      "outputs": [
        {
          "name": "stdout",
          "text": "Accuracy: 0.1034\n",
          "output_type": "stream"
        },
        {
          "output_type": "display_data",
          "data": {
            "text/plain": "<Figure size 640x480 with 2 Axes>",
            "image/png": "[encoded data removed]"
          },
          "metadata": {}
        }
      ]
    },
    {
      "cell_type": "code",
      "source": [
        "import matplotlib.pyplot as plt\n",
        "plt.plot(train_losses_lr, label='Train Loss')\n",
        "plt.plot(valid_losses_lr, label='Valid Loss')\n",
        "plt.xlabel('Epoch')\n",
        "plt.ylabel('Loss')\n",
        "plt.title('Training and Validation Loss')\n",
        "plt.legend()\n",
        "plt.show()"
      ],
      "metadata": {
        "execution": {
          "iopub.status.busy": "2024-05-13T20:02:45.668294Z",
          "iopub.execute_input": "2024-05-13T20:02:45.668600Z",
          "iopub.status.idle": "2024-05-13T20:02:45.969766Z",
          "shell.execute_reply.started": "2024-05-13T20:02:45.668574Z",
          "shell.execute_reply": "2024-05-13T20:02:45.968489Z"
        },
        "trusted": true,
        "id": "JcZx8cJcjij3",
        "outputId": "961c55f6-ddc4-4503-b132-35a2d2c719a5"
      },
      "execution_count": null,
      "outputs": [
        {
          "output_type": "display_data",
          "data": {
            "text/plain": "<Figure size 640x480 with 1 Axes>",
            "image/png": "[encoded data removed]"
          },
          "metadata": {}
        }
      ]
    },
    {
      "cell_type": "code",
      "source": [
        "plt.plot(valid_accuracy_lr, label='Valid Accuracy')\n",
        "plt.xlabel('Epoch')\n",
        "plt.ylabel('Accuracy')\n",
        "plt.title('Validation Accuracy')\n",
        "plt.legend()\n",
        "plt.show()"
      ],
      "metadata": {
        "execution": {
          "iopub.status.busy": "2024-05-13T20:02:45.971622Z",
          "iopub.execute_input": "2024-05-13T20:02:45.971972Z",
          "iopub.status.idle": "2024-05-13T20:02:46.280030Z",
          "shell.execute_reply.started": "2024-05-13T20:02:45.971930Z",
          "shell.execute_reply": "2024-05-13T20:02:46.279106Z"
        },
        "trusted": true,
        "id": "Mo2XMpHhjij4",
        "outputId": "7109cf83-22aa-4cb2-cb98-6f8e96feca59"
      },
      "execution_count": null,
      "outputs": [
        {
          "output_type": "display_data",
          "data": {
            "text/plain": "<Figure size 640x480 with 1 Axes>",
            "image/png": "[encoded data removed]"
          },
          "metadata": {}
        }
      ]
    },
    {
      "cell_type": "markdown",
      "source": [
        "## SVM"
      ],
      "metadata": {
        "id": "6E-eLJiTiHIH"
      }
    },
    {
      "cell_type": "code",
      "source": [
        "import torch\n",
        "import torch.nn as nn\n",
        "from sklearn import svm\n",
        "from sklearn.metrics import accuracy_score\n",
        "\n",
        "# Define SVM model\n",
        "class SVM(nn.Module):\n",
        "    def __init__(self, input_dim, num_classes):\n",
        "        super(SVM, self).__init__()\n",
        "        self.input_dim = input_dim\n",
        "        self.svm = svm.LinearSVC(C=100000.0)\n",
        "\n",
        "    def forward(self, x):\n",
        "        # No forward pass needed for SVM\n",
        "        pass\n",
        "\n",
        "# Train the SVM model\n",
        "def train_svm(model, train_loader):\n",
        "    for inputs, labels in train_loader:\n",
        "        # Reshape inputs to 1D tensor\n",
        "        inputs = inputs.view(inputs.size(0), -1)\n",
        "\n",
        "        # Convert labels to numpy array\n",
        "        labels = labels.numpy()\n",
        "\n",
        "        # Flatten inputs\n",
        "        inputs_flat = inputs.numpy()\n",
        "\n",
        "        # Train SVM\n",
        "        model.svm.fit(inputs_flat, labels)\n",
        "\n",
        "# Compute accuracy\n",
        "def compute_accuracy(model, data_loader):\n",
        "    all_preds = []\n",
        "    all_labels = []\n",
        "    for inputs, labels in data_loader:\n",
        "        inputs_flat = inputs.view(inputs.size(0), -1)\n",
        "        preds = model.svm.predict(inputs_flat)\n",
        "        all_preds.extend(preds)\n",
        "        all_labels.extend(labels.numpy())\n",
        "    acc = accuracy_score(all_labels, all_preds)\n",
        "    return acc\n",
        "\n",
        "# Instantiate SVM model\n",
        "input_dim = 4e6 / 10 - 1\n",
        "num_classes = 10  # Number of classes\n",
        "svm_model = SVM(int(input_dim), num_classes)\n",
        "\n",
        "# Train the SVM model\n",
        "train_svm(svm_model, train_loader)\n",
        "\n",
        "# Compute accuracy on train and test datasets\n",
        "train_accuracy = compute_accuracy(svm_model, train_loader)\n",
        "test_accuracy = compute_accuracy(svm_model, test_loader)\n",
        "\n",
        "print(f\"Train Accuracy: {train_accuracy}\")\n",
        "print(f\"Test Accuracy: {test_accuracy}\")"
      ],
      "metadata": {
        "colab": {
          "base_uri": "https://localhost:8080/"
        },
        "id": "hA7iU8JrYxhr",
        "outputId": "9c6bc29e-afdb-4dad-ca15-1ff3988be0de"
      },
      "execution_count": null,
      "outputs": [
        {
          "output_type": "stream",
          "name": "stdout",
          "text": [
            "Train Accuracy: 0.07900677200902935\n",
            "Test Accuracy: 0.1724137931034483\n"
          ]
        }
      ]
    },
    {
      "cell_type": "code",
      "execution_count": null,
      "metadata": {
        "colab": {
          "base_uri": "https://localhost:8080/",
          "height": 492
        },
        "outputId": "bcc0abdb-2466-4c10-c4dc-9d09f2b280f9",
        "id": "DpANJBtFdsCU"
      },
      "outputs": [
        {
          "output_type": "stream",
          "name": "stdout",
          "text": [
            "Test Accuracy (SVM): 0.1896551724137931\n"
          ]
        },
        {
          "output_type": "display_data",
          "data": {
            "text/plain": [
              "<Figure size 640x480 with 2 Axes>"
            ],
            "image/png": "[encoded data removed]"
          },
          "metadata": {}
        }
      ],
      "source": [
        "def evaluation(model, test_loader):\n",
        "    y_true_list = []\n",
        "    y_pred_list = []\n",
        "\n",
        "    with torch.no_grad():\n",
        "        for x, y in test_loader:\n",
        "            x = x.view(x.size(0), -1)  # Flatten the input data\n",
        "            inputs_flat = x.numpy()    # Convert input data to numpy array\n",
        "            preds = model.svm.predict(inputs_flat)  # Use SVM's predict method\n",
        "\n",
        "            # append labels and predictions\n",
        "            y_true_list.extend(y.numpy())\n",
        "            y_pred_list.extend(preds)\n",
        "\n",
        "    accuracy = accuracy_score(y_true_list, y_pred_list)\n",
        "    cm = confusion_matrix(y_true_list, y_pred_list)\n",
        "    sns.heatmap(cm, annot=True, xticklabels=GTZAN_GENRES, yticklabels=GTZAN_GENRES, cmap='YlGnBu')\n",
        "    return accuracy, cm\n",
        "test_accuracy_svm, confusion_matrix_svm = evaluation(svm_model, test_loader)\n",
        "print(f'Test Accuracy (SVM): {test_accuracy_svm}')\n"
      ]
    },
    {
      "cell_type": "markdown",
      "metadata": {
        "id": "Vt2eBKdygyLX"
      },
      "source": [
        "# Jaden\n",
        "\n"
      ]
    },
    {
      "cell_type": "markdown",
      "source": [
        "## ResNet"
      ],
      "metadata": {
        "id": "N1mXzbaHxvoi"
      }
    },
    {
      "cell_type": "code",
      "execution_count": null,
      "metadata": {
        "id": "edCsX2OQjov4"
      },
      "outputs": [],
      "source": [
        "class BasicBlock(nn.Module):\n",
        "    expansion = 1\n",
        "\n",
        "    def __init__(self, in_planes, planes, stride=1):\n",
        "        super(BasicBlock, self).__init__()\n",
        "        self.conv1 = nn.Conv2d(in_planes, planes, kernel_size=3, stride=stride, padding=1, bias=False)\n",
        "        self.bn1 = nn.BatchNorm2d(planes)\n",
        "        self.conv2 = nn.Conv2d(planes, planes, kernel_size=3,stride=1, padding=1, bias=False)\n",
        "        self.bn2 = nn.BatchNorm2d(planes)\n",
        "        self.shortcut = nn.Sequential()\n",
        "        if stride != 1 or in_planes != self.expansion*planes:\n",
        "            self.shortcut = nn.Sequential(\n",
        "                nn.Conv2d(in_planes, self.expansion*planes, kernel_size=1, stride=stride, bias=False),\n",
        "                nn.BatchNorm2d(self.expansion*planes)\n",
        "            )\n",
        "\n",
        "    def forward(self, x):\n",
        "        out = F.relu(self.bn1(self.conv1(x)))\n",
        "        out = self.bn2(self.conv2(out))\n",
        "        out += self.shortcut(x)\n",
        "        out = F.relu(out)\n",
        "        return out\n",
        "\n",
        "class ResNet(nn.Module):\n",
        "    def __init__(self, block, num_blocks, num_classes=10):\n",
        "        super(ResNet, self).__init__()\n",
        "        self.in_planes = 32\n",
        "\n",
        "        self.conv_in = nn.Conv2d(1,3, kernel_size = 3, stride=1, padding=0)\n",
        "        self.conv1 = nn.Conv2d(3, 32, kernel_size=3,\n",
        "                               stride=1, padding=1, bias=False)\n",
        "        self.bn1 = nn.BatchNorm2d(32)\n",
        "        self.layer1 = self._make_layer(block, 32, num_blocks[0], stride=1)\n",
        "        self.layer2 = self._make_layer(block, 64, num_blocks[1], stride=2)\n",
        "        self.layer3 = self._make_layer(block, 128, num_blocks[2], stride=2)\n",
        "        self.layer4 = self._make_layer(block, 256, num_blocks[3], stride=2)\n",
        "        self.linear = nn.Linear(256*block.expansion, num_classes)\n",
        "        self.avg_pool_adapt = nn.AdaptiveAvgPool2d((1,1))\n",
        "\n",
        "    def _make_layer(self, block, planes, num_blocks, stride):\n",
        "        strides = [stride] + [1]*(num_blocks-1)\n",
        "        layers = []\n",
        "        for stride in strides:\n",
        "            layers.append(block(self.in_planes, planes, stride))\n",
        "            self.in_planes = planes * block.expansion\n",
        "        return nn.Sequential(*layers)\n",
        "\n",
        "    def forward(self, x):\n",
        "        #print(x.shape)\n",
        "        x= x.unsqueeze_(1)\n",
        "        #print(x.shape)\n",
        "        x = self.conv_in(x)\n",
        "        out = F.relu(self.bn1(self.conv1(x)))\n",
        "        #print(out.shape)\n",
        "        out = self.layer1(out)\n",
        "        #print(out.shape)\n",
        "        out = self.layer2(out)\n",
        "        #print(out.shape)\n",
        "        out = self.layer3(out)\n",
        "        #print(out.shape)\n",
        "        out = self.layer4(out)\n",
        "        #print(out.shape)\n",
        "        #out = F.avg_pool2d(out, 4)\n",
        "        #out = F.adaptive_avg_pool2d(out,4)\n",
        "        out = self.avg_pool_adapt(out)\n",
        "        #print(out.shape)\n",
        "        #out = out.view( -1, out.size( 1 ))\n",
        "        #out = out.view(out.size(0), -1)\n",
        "        out = torch.flatten(out,1)\n",
        "        #print(out.shape)\n",
        "        out = self.linear(out)\n",
        "        return out\n",
        "\n",
        "\n",
        "def ResNet18():\n",
        "    return ResNet(BasicBlock, [2, 2, 2, 2])\n",
        "\n",
        "resnet = ResNet18().to(DEVICE)"
      ]
    },
    {
      "cell_type": "markdown",
      "source": [
        "## UNet"
      ],
      "metadata": {
        "id": "5cIkj5AevDJz"
      }
    },
    {
      "cell_type": "code",
      "source": [
        "class Block(nn.Module):\n",
        "    def __init__(self, in_ch, out_ch):\n",
        "        super().__init__()\n",
        "        self.conv1 = nn.Conv2d(in_ch, out_ch, 3, padding=1)\n",
        "        self.relu  = nn.ReLU()\n",
        "        self.conv2 = nn.Conv2d(out_ch, out_ch, 3, padding=1)\n",
        "\n",
        "    def forward(self, x):\n",
        "        return self.conv2(self.relu(self.conv1(x)))\n",
        "\n",
        "\n",
        "class Encoder(nn.Module):\n",
        "    def __init__(self, chs=(3,64,128, 256)):\n",
        "        super().__init__()\n",
        "        self.enc_blocks = nn.ModuleList([Block(chs[i], chs[i+1]) for i in range(len(chs)-1)])\n",
        "        self.pool       = nn.MaxPool2d(2)\n",
        "\n",
        "    def forward(self, x):\n",
        "        ftrs = []\n",
        "        for block in self.enc_blocks:\n",
        "            x = block(x)\n",
        "            ftrs.append(x)\n",
        "            x = self.pool(x)\n",
        "        return ftrs\n",
        "\n",
        "\n",
        "class Decoder(nn.Module):\n",
        "    def __init__(self, chs=(256, 128, 64)):\n",
        "        super().__init__()\n",
        "        self.chs         = chs\n",
        "        self.upconvs    = nn.ModuleList([nn.ConvTranspose2d(chs[i], chs[i+1], 2, 2) for i in range(len(chs)-1)])\n",
        "        self.dec_blocks = nn.ModuleList([Block(chs[i], chs[i+1]) for i in range(len(chs)-1)])\n",
        "\n",
        "    def forward(self, x, encoder_features):\n",
        "        for i in range(len(self.chs)-1):\n",
        "            x        = self.upconvs[i](x)\n",
        "            enc_ftrs = self.crop(encoder_features[i], x)\n",
        "            x        = torch.cat([x, enc_ftrs], dim=1)\n",
        "            x        = self.dec_blocks[i](x)\n",
        "        return x\n",
        "\n",
        "    def crop(self, enc_ftrs, x):\n",
        "        _, _, H, W = x.shape\n",
        "        enc_ftrs   = torchvision.transforms.CenterCrop([H, W])(enc_ftrs)\n",
        "        return enc_ftrs\n",
        "\n",
        "\n",
        "class UNet(nn.Module):\n",
        "    def __init__(self, enc_chs=(3,64,128, 256), dec_chs=(256, 128, 64), num_class=10, retain_dim=False, out_sz=(572,572)):\n",
        "        super().__init__()\n",
        "        self.input = nn.Conv2d(1,3, kernel_size = 3, stride=1, padding=1)\n",
        "        self.encoder     = Encoder(enc_chs)\n",
        "        self.decoder     = Decoder(dec_chs)\n",
        "        self.head        = nn.Conv2d(dec_chs[-1], num_class, 1)\n",
        "        self.retain_dim  = retain_dim\n",
        "        self.fc = nn.Sequential(\n",
        "            nn.AdaptiveAvgPool2d((1,1)),\n",
        "            nn.Flatten()\n",
        "            #nn.Linear(16, 10)\n",
        "        )\n",
        "        #self.avg_pool_adapt = nn.AdaptiveAvgPool2d((1,1))\n",
        "        #self.linear = nn.Linear(16, num_classes)\n",
        "\n",
        "    def forward(self, x):\n",
        "        x = x.unsqueeze_(1)\n",
        "        x = self.input(x)\n",
        "        #print(x.shape)\n",
        "        enc_ftrs = self.encoder(x)\n",
        "        out      = self.decoder(enc_ftrs[::-1][0], enc_ftrs[::-1][1:])\n",
        "        #print(out.shape)\n",
        "        out      = self.head(out)\n",
        "        #print(out.shape)\n",
        "        if self.retain_dim:\n",
        "            out = F.interpolate(out, out_sz)\n",
        "        out = self.fc(out)\n",
        "        #print(out.shape)\n",
        "        return out\n",
        "\n",
        "unet = UNet().to(DEVICE)"
      ],
      "metadata": {
        "id": "A5cFHDZhvEjd"
      },
      "execution_count": null,
      "outputs": []
    },
    {
      "cell_type": "code",
      "source": [
        "learning_rate = 0.001\n",
        "\n",
        "criterion = nn.CrossEntropyLoss()\n",
        "unet_optimizer = optim.Adam(unet.parameters(), lr=learning_rate)\n",
        "resnet_optimizer = optim.Adam(resnet.parameters(), lr=learning_rate)"
      ],
      "metadata": {
        "id": "8UEIGrInw5Fi"
      },
      "execution_count": null,
      "outputs": []
    },
    {
      "cell_type": "markdown",
      "source": [
        "## Train ResNet"
      ],
      "metadata": {
        "id": "X5bd2tIOxTfI"
      }
    },
    {
      "cell_type": "code",
      "source": [
        "# Train ResNet\n",
        "num_epochs = 50\n",
        "print(resnet)\n",
        "print(train_wav.shape)\n",
        "print(summary(resnet,train_wav.shape)) #[16,1024,128]"
      ],
      "metadata": {
        "colab": {
          "base_uri": "https://localhost:8080/"
        },
        "id": "hJFm-LdmWwxm",
        "outputId": "55eca151-36a6-4fd4-e9c3-ab0fdc462ef6",
        "execution": {
          "iopub.status.busy": "2024-05-13T00:58:47.392496Z",
          "iopub.execute_input": "2024-05-13T00:58:47.393139Z",
          "iopub.status.idle": "2024-05-13T00:58:48.130099Z",
          "shell.execute_reply.started": "2024-05-13T00:58:47.393108Z",
          "shell.execute_reply": "2024-05-13T00:58:48.128817Z"
        },
        "trusted": true
      },
      "execution_count": null,
      "outputs": [
        {
          "name": "stdout",
          "text": "ResNet(\n  (conv_in): Conv2d(1, 3, kernel_size=(3, 3), stride=(1, 1))\n  (conv1): Conv2d(3, 32, kernel_size=(3, 3), stride=(1, 1), padding=(1, 1), bias=False)\n  (bn1): BatchNorm2d(32, eps=1e-05, momentum=0.1, affine=True, track_running_stats=True)\n  (layer1): Sequential(\n    (0): BasicBlock(\n      (conv1): Conv2d(32, 32, kernel_size=(3, 3), stride=(1, 1), padding=(1, 1), bias=False)\n      (bn1): BatchNorm2d(32, eps=1e-05, momentum=0.1, affine=True, track_running_stats=True)\n      (conv2): Conv2d(32, 32, kernel_size=(3, 3), stride=(1, 1), padding=(1, 1), bias=False)\n      (bn2): BatchNorm2d(32, eps=1e-05, momentum=0.1, affine=True, track_running_stats=True)\n      (shortcut): Sequential()\n    )\n    (1): BasicBlock(\n      (conv1): Conv2d(32, 32, kernel_size=(3, 3), stride=(1, 1), padding=(1, 1), bias=False)\n      (bn1): BatchNorm2d(32, eps=1e-05, momentum=0.1, affine=True, track_running_stats=True)\n      (conv2): Conv2d(32, 32, kernel_size=(3, 3), stride=(1, 1), padding=(1, 1), bias=False)\n      (bn2): BatchNorm2d(32, eps=1e-05, momentum=0.1, affine=True, track_running_stats=True)\n      (shortcut): Sequential()\n    )\n  )\n  (layer2): Sequential(\n    (0): BasicBlock(\n      (conv1): Conv2d(32, 64, kernel_size=(3, 3), stride=(2, 2), padding=(1, 1), bias=False)\n      (bn1): BatchNorm2d(64, eps=1e-05, momentum=0.1, affine=True, track_running_stats=True)\n      (conv2): Conv2d(64, 64, kernel_size=(3, 3), stride=(1, 1), padding=(1, 1), bias=False)\n      (bn2): BatchNorm2d(64, eps=1e-05, momentum=0.1, affine=True, track_running_stats=True)\n      (shortcut): Sequential(\n        (0): Conv2d(32, 64, kernel_size=(1, 1), stride=(2, 2), bias=False)\n        (1): BatchNorm2d(64, eps=1e-05, momentum=0.1, affine=True, track_running_stats=True)\n      )\n    )\n    (1): BasicBlock(\n      (conv1): Conv2d(64, 64, kernel_size=(3, 3), stride=(1, 1), padding=(1, 1), bias=False)\n      (bn1): BatchNorm2d(64, eps=1e-05, momentum=0.1, affine=True, track_running_stats=True)\n      (conv2): Conv2d(64, 64, kernel_size=(3, 3), stride=(1, 1), padding=(1, 1), bias=False)\n      (bn2): BatchNorm2d(64, eps=1e-05, momentum=0.1, affine=True, track_running_stats=True)\n      (shortcut): Sequential()\n    )\n  )\n  (layer3): Sequential(\n    (0): BasicBlock(\n      (conv1): Conv2d(64, 128, kernel_size=(3, 3), stride=(2, 2), padding=(1, 1), bias=False)\n      (bn1): BatchNorm2d(128, eps=1e-05, momentum=0.1, affine=True, track_running_stats=True)\n      (conv2): Conv2d(128, 128, kernel_size=(3, 3), stride=(1, 1), padding=(1, 1), bias=False)\n      (bn2): BatchNorm2d(128, eps=1e-05, momentum=0.1, affine=True, track_running_stats=True)\n      (shortcut): Sequential(\n        (0): Conv2d(64, 128, kernel_size=(1, 1), stride=(2, 2), bias=False)\n        (1): BatchNorm2d(128, eps=1e-05, momentum=0.1, affine=True, track_running_stats=True)\n      )\n    )\n    (1): BasicBlock(\n      (conv1): Conv2d(128, 128, kernel_size=(3, 3), stride=(1, 1), padding=(1, 1), bias=False)\n      (bn1): BatchNorm2d(128, eps=1e-05, momentum=0.1, affine=True, track_running_stats=True)\n      (conv2): Conv2d(128, 128, kernel_size=(3, 3), stride=(1, 1), padding=(1, 1), bias=False)\n      (bn2): BatchNorm2d(128, eps=1e-05, momentum=0.1, affine=True, track_running_stats=True)\n      (shortcut): Sequential()\n    )\n  )\n  (layer4): Sequential(\n    (0): BasicBlock(\n      (conv1): Conv2d(128, 256, kernel_size=(3, 3), stride=(2, 2), padding=(1, 1), bias=False)\n      (bn1): BatchNorm2d(256, eps=1e-05, momentum=0.1, affine=True, track_running_stats=True)\n      (conv2): Conv2d(256, 256, kernel_size=(3, 3), stride=(1, 1), padding=(1, 1), bias=False)\n      (bn2): BatchNorm2d(256, eps=1e-05, momentum=0.1, affine=True, track_running_stats=True)\n      (shortcut): Sequential(\n        (0): Conv2d(128, 256, kernel_size=(1, 1), stride=(2, 2), bias=False)\n        (1): BatchNorm2d(256, eps=1e-05, momentum=0.1, affine=True, track_running_stats=True)\n      )\n    )\n    (1): BasicBlock(\n      (conv1): Conv2d(256, 256, kernel_size=(3, 3), stride=(1, 1), padding=(1, 1), bias=False)\n      (bn1): BatchNorm2d(256, eps=1e-05, momentum=0.1, affine=True, track_running_stats=True)\n      (conv2): Conv2d(256, 256, kernel_size=(3, 3), stride=(1, 1), padding=(1, 1), bias=False)\n      (bn2): BatchNorm2d(256, eps=1e-05, momentum=0.1, affine=True, track_running_stats=True)\n      (shortcut): Sequential()\n    )\n  )\n  (linear): Linear(in_features=256, out_features=10, bias=True)\n  (avg_pool_adapt): AdaptiveAvgPool2d(output_size=(1, 1))\n)\ntorch.Size([16, 1024, 128])\n==========================================================================================\nLayer (type:depth-idx)                   Output Shape              Param #\n==========================================================================================\nResNet                                   [16, 10]                  --\n├─Conv2d: 1-1                            [16, 3, 1022, 126]        30\n├─Conv2d: 1-2                            [16, 32, 1022, 126]       864\n├─BatchNorm2d: 1-3                       [16, 32, 1022, 126]       64\n├─Sequential: 1-4                        [16, 32, 1022, 126]       --\n│    └─BasicBlock: 2-1                   [16, 32, 1022, 126]       --\n│    │    └─Conv2d: 3-1                  [16, 32, 1022, 126]       9,216\n│    │    └─BatchNorm2d: 3-2             [16, 32, 1022, 126]       64\n│    │    └─Conv2d: 3-3                  [16, 32, 1022, 126]       9,216\n│    │    └─BatchNorm2d: 3-4             [16, 32, 1022, 126]       64\n│    │    └─Sequential: 3-5              [16, 32, 1022, 126]       --\n│    └─BasicBlock: 2-2                   [16, 32, 1022, 126]       --\n│    │    └─Conv2d: 3-6                  [16, 32, 1022, 126]       9,216\n│    │    └─BatchNorm2d: 3-7             [16, 32, 1022, 126]       64\n│    │    └─Conv2d: 3-8                  [16, 32, 1022, 126]       9,216\n│    │    └─BatchNorm2d: 3-9             [16, 32, 1022, 126]       64\n│    │    └─Sequential: 3-10             [16, 32, 1022, 126]       --\n├─Sequential: 1-5                        [16, 64, 511, 63]         --\n│    └─BasicBlock: 2-3                   [16, 64, 511, 63]         --\n│    │    └─Conv2d: 3-11                 [16, 64, 511, 63]         18,432\n│    │    └─BatchNorm2d: 3-12            [16, 64, 511, 63]         128\n│    │    └─Conv2d: 3-13                 [16, 64, 511, 63]         36,864\n│    │    └─BatchNorm2d: 3-14            [16, 64, 511, 63]         128\n│    │    └─Sequential: 3-15             [16, 64, 511, 63]         2,176\n│    └─BasicBlock: 2-4                   [16, 64, 511, 63]         --\n│    │    └─Conv2d: 3-16                 [16, 64, 511, 63]         36,864\n│    │    └─BatchNorm2d: 3-17            [16, 64, 511, 63]         128\n│    │    └─Conv2d: 3-18                 [16, 64, 511, 63]         36,864\n│    │    └─BatchNorm2d: 3-19            [16, 64, 511, 63]         128\n│    │    └─Sequential: 3-20             [16, 64, 511, 63]         --\n├─Sequential: 1-6                        [16, 128, 256, 32]        --\n│    └─BasicBlock: 2-5                   [16, 128, 256, 32]        --\n│    │    └─Conv2d: 3-21                 [16, 128, 256, 32]        73,728\n│    │    └─BatchNorm2d: 3-22            [16, 128, 256, 32]        256\n│    │    └─Conv2d: 3-23                 [16, 128, 256, 32]        147,456\n│    │    └─BatchNorm2d: 3-24            [16, 128, 256, 32]        256\n│    │    └─Sequential: 3-25             [16, 128, 256, 32]        8,448\n│    └─BasicBlock: 2-6                   [16, 128, 256, 32]        --\n│    │    └─Conv2d: 3-26                 [16, 128, 256, 32]        147,456\n│    │    └─BatchNorm2d: 3-27            [16, 128, 256, 32]        256\n│    │    └─Conv2d: 3-28                 [16, 128, 256, 32]        147,456\n│    │    └─BatchNorm2d: 3-29            [16, 128, 256, 32]        256\n│    │    └─Sequential: 3-30             [16, 128, 256, 32]        --\n├─Sequential: 1-7                        [16, 256, 128, 16]        --\n│    └─BasicBlock: 2-7                   [16, 256, 128, 16]        --\n│    │    └─Conv2d: 3-31                 [16, 256, 128, 16]        294,912\n│    │    └─BatchNorm2d: 3-32            [16, 256, 128, 16]        512\n│    │    └─Conv2d: 3-33                 [16, 256, 128, 16]        589,824\n│    │    └─BatchNorm2d: 3-34            [16, 256, 128, 16]        512\n│    │    └─Sequential: 3-35             [16, 256, 128, 16]        33,280\n│    └─BasicBlock: 2-8                   [16, 256, 128, 16]        --\n│    │    └─Conv2d: 3-36                 [16, 256, 128, 16]        589,824\n│    │    └─BatchNorm2d: 3-37            [16, 256, 128, 16]        512\n│    │    └─Conv2d: 3-38                 [16, 256, 128, 16]        589,824\n│    │    └─BatchNorm2d: 3-39            [16, 256, 128, 16]        512\n│    │    └─Sequential: 3-40             [16, 256, 128, 16]        --\n├─AdaptiveAvgPool2d: 1-8                 [16, 256, 1, 1]           --\n├─Linear: 1-9                            [16, 10]                  2,570\n==========================================================================================\nTotal params: 2,797,640\nTrainable params: 2,797,640\nNon-trainable params: 0\nTotal mult-adds (G): 282.75\n==========================================================================================\nInput size (MB): 8.39\nForward/backward pass size (MB): 9974.47\nParams size (MB): 11.19\nEstimated Total Size (MB): 9994.05\n==========================================================================================\n",
          "output_type": "stream"
        }
      ]
    },
    {
      "cell_type": "code",
      "source": [
        "#device = 'cuda' if torch.cuda.is_available() else 'cpu'\n",
        "train_losses_resnet, valid_losses_resnet, valid_accuracy_resnet = train_loop(num_epochs, resnet, criterion, resnet_optimizer, train_loader, valid_loader)\n",
        "\n",
        "#num_epochs = 50\n",
        "#for epoch in range(num_epochs):\n",
        "#    train_loss, train_acc = train(resnet, resnet_optimizer, criterion, train_loader, device)\n",
        "#    test_loss, test_acc = test(resnet, criterion, valid_loader, device) # use validation data\n",
        "\n",
        "#    print(f'Epoch {epoch+1}/{num_epochs}, Train Loss: {train_loss:.4f}, Train Acc: {train_acc:.2f}%, Validation Loss: {test_loss:.4f}, Validation Acc: {test_acc:.2f}%')"
      ],
      "metadata": {
        "colab": {
          "base_uri": "https://localhost:8080/"
        },
        "id": "Bipy5WULks6S",
        "outputId": "9c0c0cd3-9a76-4015-a0f3-706179b42d81",
        "execution": {
          "iopub.status.busy": "2024-05-13T00:58:48.131288Z",
          "iopub.execute_input": "2024-05-13T00:58:48.131649Z",
          "iopub.status.idle": "2024-05-13T01:50:28.110674Z",
          "shell.execute_reply.started": "2024-05-13T00:58:48.131624Z",
          "shell.execute_reply": "2024-05-13T01:50:28.109754Z"
        },
        "trusted": true
      },
      "execution_count": null,
      "outputs": [
        {
          "name": "stderr",
          "text": "  0%|          | 0/50 [00:00<?, ?it/s]",
          "output_type": "stream"
        },
        {
          "name": "stdout",
          "text": "Epoch: [1/50], Train loss: 2.3912\n",
          "output_type": "stream"
        },
        {
          "name": "stderr",
          "text": "  2%|▏         | 1/50 [01:03<51:54, 63.56s/it]",
          "output_type": "stream"
        },
        {
          "name": "stdout",
          "text": "Epoch: [1/50], Valid loss: 2.3554, Valid accuracy: 0.1168\nSaving the best model at 0 epochs!\nEpoch: [2/50], Train loss: 2.2550\n",
          "output_type": "stream"
        },
        {
          "name": "stderr",
          "text": "  4%|▍         | 2/50 [02:05<50:12, 62.76s/it]",
          "output_type": "stream"
        },
        {
          "name": "stdout",
          "text": "Epoch: [2/50], Valid loss: 2.2593, Valid accuracy: 0.1827\nSaving the best model at 1 epochs!\nEpoch: [3/50], Train loss: 2.2474\n",
          "output_type": "stream"
        },
        {
          "name": "stderr",
          "text": "  6%|▌         | 3/50 [03:06<48:37, 62.07s/it]",
          "output_type": "stream"
        },
        {
          "name": "stdout",
          "text": "Epoch: [3/50], Valid loss: 2.4204, Valid accuracy: 0.1015\nEpoch: [4/50], Train loss: 2.1450\n",
          "output_type": "stream"
        },
        {
          "name": "stderr",
          "text": "  8%|▊         | 4/50 [04:09<47:44, 62.27s/it]",
          "output_type": "stream"
        },
        {
          "name": "stdout",
          "text": "Epoch: [4/50], Valid loss: 2.0551, Valid accuracy: 0.2487\nSaving the best model at 3 epochs!\nEpoch: [5/50], Train loss: 2.1323\n",
          "output_type": "stream"
        },
        {
          "name": "stderr",
          "text": " 10%|█         | 5/50 [05:10<46:25, 61.89s/it]",
          "output_type": "stream"
        },
        {
          "name": "stdout",
          "text": "Epoch: [5/50], Valid loss: 3.5582, Valid accuracy: 0.1878\nEpoch: [6/50], Train loss: 2.0286\n",
          "output_type": "stream"
        },
        {
          "name": "stderr",
          "text": " 12%|█▏        | 6/50 [06:11<45:04, 61.46s/it]",
          "output_type": "stream"
        },
        {
          "name": "stdout",
          "text": "Epoch: [6/50], Valid loss: 1.8800, Valid accuracy: 0.3046\nSaving the best model at 5 epochs!\nEpoch: [7/50], Train loss: 2.0707\n",
          "output_type": "stream"
        },
        {
          "name": "stderr",
          "text": " 14%|█▍        | 7/50 [07:12<43:56, 61.31s/it]",
          "output_type": "stream"
        },
        {
          "name": "stdout",
          "text": "Epoch: [7/50], Valid loss: 1.9102, Valid accuracy: 0.3147\nEpoch: [8/50], Train loss: 2.0174\n",
          "output_type": "stream"
        },
        {
          "name": "stderr",
          "text": " 16%|█▌        | 8/50 [08:14<43:07, 61.62s/it]",
          "output_type": "stream"
        },
        {
          "name": "stdout",
          "text": "Epoch: [8/50], Valid loss: 1.9052, Valid accuracy: 0.2944\nEpoch: [9/50], Train loss: 1.9815\n",
          "output_type": "stream"
        },
        {
          "name": "stderr",
          "text": " 18%|█▊        | 9/50 [09:16<42:06, 61.62s/it]",
          "output_type": "stream"
        },
        {
          "name": "stdout",
          "text": "Epoch: [9/50], Valid loss: 2.4571, Valid accuracy: 0.2234\nEpoch: [10/50], Train loss: 1.8851\n",
          "output_type": "stream"
        },
        {
          "name": "stderr",
          "text": " 20%|██        | 10/50 [10:20<41:30, 62.25s/it]",
          "output_type": "stream"
        },
        {
          "name": "stdout",
          "text": "Epoch: [10/50], Valid loss: 6.3645, Valid accuracy: 0.1269\nEpoch: [11/50], Train loss: 1.9756\n",
          "output_type": "stream"
        },
        {
          "name": "stderr",
          "text": " 22%|██▏       | 11/50 [11:22<40:28, 62.26s/it]",
          "output_type": "stream"
        },
        {
          "name": "stdout",
          "text": "Epoch: [11/50], Valid loss: 2.5471, Valid accuracy: 0.1320\nEpoch: [12/50], Train loss: 1.9457\n",
          "output_type": "stream"
        },
        {
          "name": "stderr",
          "text": " 24%|██▍       | 12/50 [12:28<40:12, 63.49s/it]",
          "output_type": "stream"
        },
        {
          "name": "stdout",
          "text": "Epoch: [12/50], Valid loss: 8.5554, Valid accuracy: 0.1574\nEpoch: [13/50], Train loss: 1.8564\n",
          "output_type": "stream"
        },
        {
          "name": "stderr",
          "text": " 26%|██▌       | 13/50 [13:30<38:53, 63.06s/it]",
          "output_type": "stream"
        },
        {
          "name": "stdout",
          "text": "Epoch: [13/50], Valid loss: 1.7599, Valid accuracy: 0.3096\nSaving the best model at 12 epochs!\nEpoch: [14/50], Train loss: 1.8820\n",
          "output_type": "stream"
        },
        {
          "name": "stderr",
          "text": " 28%|██▊       | 14/50 [14:33<37:50, 63.06s/it]",
          "output_type": "stream"
        },
        {
          "name": "stdout",
          "text": "Epoch: [14/50], Valid loss: 1.7470, Valid accuracy: 0.3198\nSaving the best model at 13 epochs!\nEpoch: [15/50], Train loss: 1.8501\n",
          "output_type": "stream"
        },
        {
          "name": "stderr",
          "text": " 30%|███       | 15/50 [15:34<36:26, 62.48s/it]",
          "output_type": "stream"
        },
        {
          "name": "stdout",
          "text": "Epoch: [15/50], Valid loss: 2.7339, Valid accuracy: 0.2284\nEpoch: [16/50], Train loss: 1.8009\n",
          "output_type": "stream"
        },
        {
          "name": "stderr",
          "text": " 32%|███▏      | 16/50 [16:35<35:07, 61.99s/it]",
          "output_type": "stream"
        },
        {
          "name": "stdout",
          "text": "Epoch: [16/50], Valid loss: 1.8363, Valid accuracy: 0.3299\nEpoch: [17/50], Train loss: 1.8265\n",
          "output_type": "stream"
        },
        {
          "name": "stderr",
          "text": " 34%|███▍      | 17/50 [17:38<34:14, 62.25s/it]",
          "output_type": "stream"
        },
        {
          "name": "stdout",
          "text": "Epoch: [17/50], Valid loss: 1.8390, Valid accuracy: 0.3046\nEpoch: [18/50], Train loss: 1.8323\n",
          "output_type": "stream"
        },
        {
          "name": "stderr",
          "text": " 36%|███▌      | 18/50 [18:42<33:27, 62.73s/it]",
          "output_type": "stream"
        },
        {
          "name": "stdout",
          "text": "Epoch: [18/50], Valid loss: 2.3160, Valid accuracy: 0.3147\nEpoch: [19/50], Train loss: 1.7939\n",
          "output_type": "stream"
        },
        {
          "name": "stderr",
          "text": " 38%|███▊      | 19/50 [19:45<32:30, 62.92s/it]",
          "output_type": "stream"
        },
        {
          "name": "stdout",
          "text": "Epoch: [19/50], Valid loss: 1.7675, Valid accuracy: 0.3198\nEpoch: [20/50], Train loss: 1.8172\n",
          "output_type": "stream"
        },
        {
          "name": "stderr",
          "text": " 40%|████      | 20/50 [20:47<31:15, 62.51s/it]",
          "output_type": "stream"
        },
        {
          "name": "stdout",
          "text": "Epoch: [20/50], Valid loss: 1.6708, Valid accuracy: 0.4467\nSaving the best model at 19 epochs!\nEpoch: [21/50], Train loss: 1.7831\n",
          "output_type": "stream"
        },
        {
          "name": "stderr",
          "text": " 42%|████▏     | 21/50 [21:45<29:37, 61.30s/it]",
          "output_type": "stream"
        },
        {
          "name": "stdout",
          "text": "Epoch: [21/50], Valid loss: 1.9242, Valid accuracy: 0.3503\nEpoch: [22/50], Train loss: 1.7474\n",
          "output_type": "stream"
        },
        {
          "name": "stderr",
          "text": " 44%|████▍     | 22/50 [22:46<28:31, 61.11s/it]",
          "output_type": "stream"
        },
        {
          "name": "stdout",
          "text": "Epoch: [22/50], Valid loss: 1.6894, Valid accuracy: 0.3959\nEpoch: [23/50], Train loss: 1.7090\n",
          "output_type": "stream"
        },
        {
          "name": "stderr",
          "text": " 46%|████▌     | 23/50 [23:47<27:27, 61.01s/it]",
          "output_type": "stream"
        },
        {
          "name": "stdout",
          "text": "Epoch: [23/50], Valid loss: 2.0205, Valid accuracy: 0.3503\nEpoch: [24/50], Train loss: 1.7096\n",
          "output_type": "stream"
        },
        {
          "name": "stderr",
          "text": " 48%|████▊     | 24/50 [24:48<26:27, 61.06s/it]",
          "output_type": "stream"
        },
        {
          "name": "stdout",
          "text": "Epoch: [24/50], Valid loss: 2.7547, Valid accuracy: 0.2335\nEpoch: [25/50], Train loss: 1.6824\n",
          "output_type": "stream"
        },
        {
          "name": "stderr",
          "text": " 50%|█████     | 25/50 [25:50<25:34, 61.39s/it]",
          "output_type": "stream"
        },
        {
          "name": "stdout",
          "text": "Epoch: [25/50], Valid loss: 1.8820, Valid accuracy: 0.3655\nEpoch: [26/50], Train loss: 1.6579\n",
          "output_type": "stream"
        },
        {
          "name": "stderr",
          "text": " 52%|█████▏    | 26/50 [26:53<24:43, 61.81s/it]",
          "output_type": "stream"
        },
        {
          "name": "stdout",
          "text": "Epoch: [26/50], Valid loss: 1.6638, Valid accuracy: 0.3503\nSaving the best model at 25 epochs!\nEpoch: [27/50], Train loss: 1.6423\n",
          "output_type": "stream"
        },
        {
          "name": "stderr",
          "text": " 54%|█████▍    | 27/50 [27:57<23:57, 62.51s/it]",
          "output_type": "stream"
        },
        {
          "name": "stdout",
          "text": "Epoch: [27/50], Valid loss: 1.9675, Valid accuracy: 0.3604\nEpoch: [28/50], Train loss: 1.6137\n",
          "output_type": "stream"
        },
        {
          "name": "stderr",
          "text": " 56%|█████▌    | 28/50 [29:01<23:05, 63.00s/it]",
          "output_type": "stream"
        },
        {
          "name": "stdout",
          "text": "Epoch: [28/50], Valid loss: 1.4744, Valid accuracy: 0.4873\nSaving the best model at 27 epochs!\nEpoch: [29/50], Train loss: 1.6442\n",
          "output_type": "stream"
        },
        {
          "name": "stderr",
          "text": " 58%|█████▊    | 29/50 [30:03<21:58, 62.80s/it]",
          "output_type": "stream"
        },
        {
          "name": "stdout",
          "text": "Epoch: [29/50], Valid loss: 2.9780, Valid accuracy: 0.2335\nEpoch: [30/50], Train loss: 1.6575\n",
          "output_type": "stream"
        },
        {
          "name": "stderr",
          "text": " 60%|██████    | 30/50 [31:02<20:30, 61.52s/it]",
          "output_type": "stream"
        },
        {
          "name": "stdout",
          "text": "Epoch: [30/50], Valid loss: 8.3039, Valid accuracy: 0.0863\nEpoch: [31/50], Train loss: 1.5954\n",
          "output_type": "stream"
        },
        {
          "name": "stderr",
          "text": " 62%|██████▏   | 31/50 [32:06<19:40, 62.12s/it]",
          "output_type": "stream"
        },
        {
          "name": "stdout",
          "text": "Epoch: [31/50], Valid loss: 1.6437, Valid accuracy: 0.4569\nEpoch: [32/50], Train loss: 1.5214\n",
          "output_type": "stream"
        },
        {
          "name": "stderr",
          "text": " 64%|██████▍   | 32/50 [33:05<18:22, 61.24s/it]",
          "output_type": "stream"
        },
        {
          "name": "stdout",
          "text": "Epoch: [32/50], Valid loss: 1.7967, Valid accuracy: 0.4112\nEpoch: [33/50], Train loss: 1.6287\n",
          "output_type": "stream"
        },
        {
          "name": "stderr",
          "text": " 66%|██████▌   | 33/50 [34:08<17:29, 61.75s/it]",
          "output_type": "stream"
        },
        {
          "name": "stdout",
          "text": "Epoch: [33/50], Valid loss: 2.5901, Valid accuracy: 0.2234\nEpoch: [34/50], Train loss: 1.5620\n",
          "output_type": "stream"
        },
        {
          "name": "stderr",
          "text": " 68%|██████▊   | 34/50 [35:06<16:12, 60.78s/it]",
          "output_type": "stream"
        },
        {
          "name": "stdout",
          "text": "Epoch: [34/50], Valid loss: 1.6714, Valid accuracy: 0.4112\nEpoch: [35/50], Train loss: 1.5764\n",
          "output_type": "stream"
        },
        {
          "name": "stderr",
          "text": " 70%|███████   | 35/50 [36:07<15:12, 60.86s/it]",
          "output_type": "stream"
        },
        {
          "name": "stdout",
          "text": "Epoch: [35/50], Valid loss: 3.4132, Valid accuracy: 0.2183\nEpoch: [36/50], Train loss: 1.6105\n",
          "output_type": "stream"
        },
        {
          "name": "stderr",
          "text": " 72%|███████▏  | 36/50 [37:13<14:33, 62.43s/it]",
          "output_type": "stream"
        },
        {
          "name": "stdout",
          "text": "Epoch: [36/50], Valid loss: 1.4809, Valid accuracy: 0.5330\nEpoch: [37/50], Train loss: 1.6542\n",
          "output_type": "stream"
        },
        {
          "name": "stderr",
          "text": " 74%|███████▍  | 37/50 [38:18<13:41, 63.19s/it]",
          "output_type": "stream"
        },
        {
          "name": "stdout",
          "text": "Epoch: [37/50], Valid loss: 1.7499, Valid accuracy: 0.3706\nEpoch: [38/50], Train loss: 1.4642\n",
          "output_type": "stream"
        },
        {
          "name": "stderr",
          "text": " 76%|███████▌  | 38/50 [39:22<12:41, 63.43s/it]",
          "output_type": "stream"
        },
        {
          "name": "stdout",
          "text": "Epoch: [38/50], Valid loss: 2.8083, Valid accuracy: 0.3249\nEpoch: [39/50], Train loss: 1.5051\n",
          "output_type": "stream"
        },
        {
          "name": "stderr",
          "text": " 78%|███████▊  | 39/50 [40:25<11:35, 63.21s/it]",
          "output_type": "stream"
        },
        {
          "name": "stdout",
          "text": "Epoch: [39/50], Valid loss: 2.6298, Valid accuracy: 0.3553\nEpoch: [40/50], Train loss: 1.5367\n",
          "output_type": "stream"
        },
        {
          "name": "stderr",
          "text": " 80%|████████  | 40/50 [41:27<10:27, 62.76s/it]",
          "output_type": "stream"
        },
        {
          "name": "stdout",
          "text": "Epoch: [40/50], Valid loss: 1.3456, Valid accuracy: 0.4721\nSaving the best model at 39 epochs!\nEpoch: [41/50], Train loss: 1.4692\n",
          "output_type": "stream"
        },
        {
          "name": "stderr",
          "text": " 82%|████████▏ | 41/50 [42:30<09:26, 62.90s/it]",
          "output_type": "stream"
        },
        {
          "name": "stdout",
          "text": "Epoch: [41/50], Valid loss: 2.3201, Valid accuracy: 0.2995\nEpoch: [42/50], Train loss: 1.4301\n",
          "output_type": "stream"
        },
        {
          "name": "stderr",
          "text": " 84%|████████▍ | 42/50 [43:33<08:23, 62.91s/it]",
          "output_type": "stream"
        },
        {
          "name": "stdout",
          "text": "Epoch: [42/50], Valid loss: 1.7326, Valid accuracy: 0.3909\nEpoch: [43/50], Train loss: 1.4781\n",
          "output_type": "stream"
        },
        {
          "name": "stderr",
          "text": " 86%|████████▌ | 43/50 [44:37<07:22, 63.23s/it]",
          "output_type": "stream"
        },
        {
          "name": "stdout",
          "text": "Epoch: [43/50], Valid loss: 2.6380, Valid accuracy: 0.3096\nEpoch: [44/50], Train loss: 1.4400\n",
          "output_type": "stream"
        },
        {
          "name": "stderr",
          "text": " 88%|████████▊ | 44/50 [45:36<06:12, 62.10s/it]",
          "output_type": "stream"
        },
        {
          "name": "stdout",
          "text": "Epoch: [44/50], Valid loss: 1.4632, Valid accuracy: 0.4467\nEpoch: [45/50], Train loss: 1.4019\n",
          "output_type": "stream"
        },
        {
          "name": "stderr",
          "text": " 90%|█████████ | 45/50 [46:35<05:04, 60.95s/it]",
          "output_type": "stream"
        },
        {
          "name": "stdout",
          "text": "Epoch: [45/50], Valid loss: 1.5195, Valid accuracy: 0.4569\nEpoch: [46/50], Train loss: 1.3771\n",
          "output_type": "stream"
        },
        {
          "name": "stderr",
          "text": " 92%|█████████▏| 46/50 [47:32<03:59, 59.91s/it]",
          "output_type": "stream"
        },
        {
          "name": "stdout",
          "text": "Epoch: [46/50], Valid loss: 2.1030, Valid accuracy: 0.3706\nEpoch: [47/50], Train loss: 1.4343\n",
          "output_type": "stream"
        },
        {
          "name": "stderr",
          "text": " 94%|█████████▍| 47/50 [48:31<02:58, 59.60s/it]",
          "output_type": "stream"
        },
        {
          "name": "stdout",
          "text": "Epoch: [47/50], Valid loss: 2.0812, Valid accuracy: 0.3807\nEpoch: [48/50], Train loss: 1.4082\n",
          "output_type": "stream"
        },
        {
          "name": "stderr",
          "text": " 96%|█████████▌| 48/50 [49:34<02:01, 60.77s/it]",
          "output_type": "stream"
        },
        {
          "name": "stdout",
          "text": "Epoch: [48/50], Valid loss: 1.4957, Valid accuracy: 0.4975\nEpoch: [49/50], Train loss: 1.4568\n",
          "output_type": "stream"
        },
        {
          "name": "stderr",
          "text": " 98%|█████████▊| 49/50 [50:37<01:01, 61.28s/it]",
          "output_type": "stream"
        },
        {
          "name": "stdout",
          "text": "Epoch: [49/50], Valid loss: 2.0932, Valid accuracy: 0.4569\nEpoch: [50/50], Train loss: 1.3291\n",
          "output_type": "stream"
        },
        {
          "name": "stderr",
          "text": "100%|██████████| 50/50 [51:39<00:00, 62.00s/it]",
          "output_type": "stream"
        },
        {
          "name": "stdout",
          "text": "Epoch: [50/50], Valid loss: 2.5613, Valid accuracy: 0.4162\n",
          "output_type": "stream"
        },
        {
          "name": "stderr",
          "text": "\n",
          "output_type": "stream"
        }
      ]
    },
    {
      "cell_type": "code",
      "source": [
        "#model = MLP().to(DEVICE)\n",
        "evaluation(resnet) #evaluate using test data"
      ],
      "metadata": {
        "colab": {
          "base_uri": "https://localhost:8080/",
          "height": 492
        },
        "id": "AwOAMLQDXEZq",
        "outputId": "650606da-3ed0-478c-897b-596a7773b26e",
        "execution": {
          "iopub.status.busy": "2024-05-13T01:50:28.153021Z",
          "iopub.execute_input": "2024-05-13T01:50:28.153403Z",
          "iopub.status.idle": "2024-05-13T01:50:38.917045Z",
          "shell.execute_reply.started": "2024-05-13T01:50:28.153373Z",
          "shell.execute_reply": "2024-05-13T01:50:38.916127Z"
        },
        "trusted": true
      },
      "execution_count": null,
      "outputs": [
        {
          "name": "stdout",
          "text": "Accuracy: 0.3931\n",
          "output_type": "stream"
        },
        {
          "output_type": "display_data",
          "data": {
            "text/plain": "<Figure size 640x480 with 2 Axes>",
            "image/png": "[encoded data removed]"
          },
          "metadata": {}
        }
      ]
    },
    {
      "cell_type": "markdown",
      "source": [
        "For the ResNet we get a final evaluation accuracy of 39.3%"
      ],
      "metadata": {
        "id": "19vhfF3rNloh"
      }
    },
    {
      "cell_type": "code",
      "source": [
        "import matplotlib.pyplot as plt\n",
        "\n",
        "plt.plot(train_losses_resnet, label='Train Loss')\n",
        "plt.plot(valid_losses_resnet, label='Valid Loss')\n",
        "plt.xlabel('Epoch')\n",
        "plt.ylabel('Loss')\n",
        "plt.title('Training and Validation Loss')\n",
        "plt.legend()\n",
        "plt.show()"
      ],
      "metadata": {
        "execution": {
          "iopub.status.busy": "2024-05-13T01:51:17.520425Z",
          "iopub.execute_input": "2024-05-13T01:51:17.520795Z",
          "iopub.status.idle": "2024-05-13T01:51:17.769047Z",
          "shell.execute_reply.started": "2024-05-13T01:51:17.520766Z",
          "shell.execute_reply": "2024-05-13T01:51:17.768034Z"
        },
        "trusted": true,
        "id": "FYl5XegatoXJ",
        "outputId": "d6207a0d-52e6-4ef5-e37e-af8ecc358886"
      },
      "execution_count": null,
      "outputs": [
        {
          "output_type": "display_data",
          "data": {
            "text/plain": "<Figure size 640x480 with 1 Axes>",
            "image/png": "[encoded data removed]"
          },
          "metadata": {}
        }
      ]
    },
    {
      "cell_type": "code",
      "source": [
        "#plt.plot(train_accuracy_resnet, label='Train Accuracy')\n",
        "plt.plot(valid_accuracy_resnet, label='Valid Accuracy')\n",
        "plt.xlabel('Epoch')\n",
        "plt.ylabel('Accuracy')\n",
        "plt.title('Validation Accuracy')\n",
        "plt.legend()\n",
        "plt.show()"
      ],
      "metadata": {
        "execution": {
          "iopub.status.busy": "2024-05-13T01:51:36.980742Z",
          "iopub.execute_input": "2024-05-13T01:51:36.981179Z",
          "iopub.status.idle": "2024-05-13T01:51:37.243331Z",
          "shell.execute_reply.started": "2024-05-13T01:51:36.981147Z",
          "shell.execute_reply": "2024-05-13T01:51:37.242193Z"
        },
        "trusted": true,
        "id": "YEtxyHcPtoXK",
        "outputId": "23bf5310-5348-4511-c8cb-246281ca3ed1"
      },
      "execution_count": null,
      "outputs": [
        {
          "output_type": "display_data",
          "data": {
            "text/plain": "<Figure size 640x480 with 1 Axes>",
            "image/png": "[encoded data removed]"
          },
          "metadata": {}
        }
      ]
    },
    {
      "cell_type": "markdown",
      "source": [
        "## Train UNet"
      ],
      "metadata": {
        "id": "I9hYRwT_xWyZ"
      }
    },
    {
      "cell_type": "code",
      "source": [
        "# Train UNet\n",
        "num_epochs = 50\n",
        "print(unet)\n",
        "#print(train_wav.shape)\n",
        "print(summary(unet,train_wav.shape)) #[16,1024,128]"
      ],
      "metadata": {
        "colab": {
          "base_uri": "https://localhost:8080/"
        },
        "id": "dCKcLmJ5R72W",
        "outputId": "0e0e8da0-1c74-4268-894e-da81d2d0c090",
        "execution": {
          "iopub.status.busy": "2024-05-13T03:59:23.102191Z",
          "iopub.execute_input": "2024-05-13T03:59:23.102448Z",
          "iopub.status.idle": "2024-05-13T03:59:24.057801Z",
          "shell.execute_reply.started": "2024-05-13T03:59:23.102424Z",
          "shell.execute_reply": "2024-05-13T03:59:24.056884Z"
        },
        "trusted": true
      },
      "execution_count": null,
      "outputs": [
        {
          "name": "stdout",
          "text": "UNet(\n  (input): Conv2d(1, 3, kernel_size=(3, 3), stride=(1, 1), padding=(1, 1))\n  (encoder): Encoder(\n    (enc_blocks): ModuleList(\n      (0): Block(\n        (conv1): Conv2d(3, 64, kernel_size=(3, 3), stride=(1, 1), padding=(1, 1))\n        (relu): ReLU()\n        (conv2): Conv2d(64, 64, kernel_size=(3, 3), stride=(1, 1), padding=(1, 1))\n      )\n      (1): Block(\n        (conv1): Conv2d(64, 128, kernel_size=(3, 3), stride=(1, 1), padding=(1, 1))\n        (relu): ReLU()\n        (conv2): Conv2d(128, 128, kernel_size=(3, 3), stride=(1, 1), padding=(1, 1))\n      )\n      (2): Block(\n        (conv1): Conv2d(128, 256, kernel_size=(3, 3), stride=(1, 1), padding=(1, 1))\n        (relu): ReLU()\n        (conv2): Conv2d(256, 256, kernel_size=(3, 3), stride=(1, 1), padding=(1, 1))\n      )\n    )\n    (pool): MaxPool2d(kernel_size=2, stride=2, padding=0, dilation=1, ceil_mode=False)\n  )\n  (decoder): Decoder(\n    (upconvs): ModuleList(\n      (0): ConvTranspose2d(256, 128, kernel_size=(2, 2), stride=(2, 2))\n      (1): ConvTranspose2d(128, 64, kernel_size=(2, 2), stride=(2, 2))\n    )\n    (dec_blocks): ModuleList(\n      (0): Block(\n        (conv1): Conv2d(256, 128, kernel_size=(3, 3), stride=(1, 1), padding=(1, 1))\n        (relu): ReLU()\n        (conv2): Conv2d(128, 128, kernel_size=(3, 3), stride=(1, 1), padding=(1, 1))\n      )\n      (1): Block(\n        (conv1): Conv2d(128, 64, kernel_size=(3, 3), stride=(1, 1), padding=(1, 1))\n        (relu): ReLU()\n        (conv2): Conv2d(64, 64, kernel_size=(3, 3), stride=(1, 1), padding=(1, 1))\n      )\n    )\n  )\n  (head): Conv2d(64, 10, kernel_size=(1, 1), stride=(1, 1))\n  (fc): Sequential(\n    (0): AdaptiveAvgPool2d(output_size=(1, 1))\n    (1): Flatten(start_dim=1, end_dim=-1)\n  )\n)\n==========================================================================================\nLayer (type:depth-idx)                   Output Shape              Param #\n==========================================================================================\nUNet                                     [16, 10]                  --\n├─Conv2d: 1-1                            [16, 3, 1024, 128]        30\n├─Encoder: 1-2                           [16, 64, 1024, 128]       --\n│    └─ModuleList: 2-5                   --                        (recursive)\n│    │    └─Block: 3-1                   [16, 64, 1024, 128]       38,720\n│    └─MaxPool2d: 2-2                    [16, 64, 512, 64]         --\n│    └─ModuleList: 2-5                   --                        (recursive)\n│    │    └─Block: 3-2                   [16, 128, 512, 64]        221,440\n│    └─MaxPool2d: 2-4                    [16, 128, 256, 32]        --\n│    └─ModuleList: 2-5                   --                        (recursive)\n│    │    └─Block: 3-3                   [16, 256, 256, 32]        885,248\n│    └─MaxPool2d: 2-6                    [16, 256, 128, 16]        --\n├─Decoder: 1-3                           [16, 64, 1024, 128]       --\n│    └─ModuleList: 2-9                   --                        (recursive)\n│    │    └─ConvTranspose2d: 3-4         [16, 128, 512, 64]        131,200\n│    └─ModuleList: 2-10                  --                        (recursive)\n│    │    └─Block: 3-5                   [16, 128, 512, 64]        442,624\n│    └─ModuleList: 2-9                   --                        (recursive)\n│    │    └─ConvTranspose2d: 3-6         [16, 64, 1024, 128]       32,832\n│    └─ModuleList: 2-10                  --                        (recursive)\n│    │    └─Block: 3-7                   [16, 64, 1024, 128]       110,720\n├─Conv2d: 1-4                            [16, 10, 1024, 128]       650\n├─Sequential: 1-5                        [16, 10]                  --\n│    └─AdaptiveAvgPool2d: 2-11           [16, 10, 1, 1]            --\n│    └─Flatten: 2-12                     [16, 10]                  --\n==========================================================================================\nTotal params: 1,863,464\nTrainable params: 1,863,464\nNon-trainable params: 0\nTotal mult-adds (G): 916.66\n==========================================================================================\nInput size (MB): 8.39\nForward/backward pass size (MB): 8808.04\nParams size (MB): 7.45\nEstimated Total Size (MB): 8823.88\n==========================================================================================\n",
          "output_type": "stream"
        }
      ]
    },
    {
      "cell_type": "code",
      "source": [
        "train_losses_unet, valid_losses_unet, valid_accuracy_unet = train_loop(num_epochs, unet, criterion, unet_optimizer, train_loader, valid_loader)\n",
        "#device = 'cuda' if torch.cuda.is_available() else 'cpu'\n",
        "#num_epochs = 50\n",
        "#for epoch in range(num_epochs):\n",
        "#    train_loss, train_acc = train(unet, unet_optimizer, criterion, train_loader, device)\n",
        "#    test_loss, test_acc = test(unet, criterion, valid_loader, device) # use validation data\n",
        "\n",
        "#    print(f'Epoch {epoch+1}/{num_epochs}, Train Loss: {train_loss:.4f}, Train Acc: {train_acc:.2f}%, Validation Loss: {test_loss:.4f}, Validation Acc: {test_acc:.2f}%')"
      ],
      "metadata": {
        "colab": {
          "base_uri": "https://localhost:8080/",
          "height": 383
        },
        "id": "CS0P4zc3R67m",
        "outputId": "d34a5899-8a84-4f73-aa97-201f7edd6a49",
        "execution": {
          "iopub.status.busy": "2024-05-13T03:59:34.778110Z",
          "iopub.execute_input": "2024-05-13T03:59:34.778490Z",
          "iopub.status.idle": "2024-05-13T04:56:44.322450Z",
          "shell.execute_reply.started": "2024-05-13T03:59:34.778459Z",
          "shell.execute_reply": "2024-05-13T04:56:44.321381Z"
        },
        "trusted": true
      },
      "execution_count": null,
      "outputs": [
        {
          "name": "stderr",
          "text": "  0%|          | 0/50 [00:00<?, ?it/s]",
          "output_type": "stream"
        },
        {
          "name": "stdout",
          "text": "Epoch: [1/50], Train loss: 2.3089\n",
          "output_type": "stream"
        },
        {
          "name": "stderr",
          "text": "  2%|▏         | 1/50 [01:09<57:00, 69.80s/it]",
          "output_type": "stream"
        },
        {
          "name": "stdout",
          "text": "Epoch: [1/50], Valid loss: 2.3042, Valid accuracy: 0.0812\nSaving the best model at 0 epochs!\nEpoch: [2/50], Train loss: 2.3071\n",
          "output_type": "stream"
        },
        {
          "name": "stderr",
          "text": "  4%|▍         | 2/50 [02:18<55:24, 69.26s/it]",
          "output_type": "stream"
        },
        {
          "name": "stdout",
          "text": "Epoch: [2/50], Valid loss: 2.2909, Valid accuracy: 0.0914\nSaving the best model at 1 epochs!\nEpoch: [3/50], Train loss: 2.3011\n",
          "output_type": "stream"
        },
        {
          "name": "stderr",
          "text": "  6%|▌         | 3/50 [03:25<53:24, 68.17s/it]",
          "output_type": "stream"
        },
        {
          "name": "stdout",
          "text": "Epoch: [3/50], Valid loss: 2.2526, Valid accuracy: 0.1117\nSaving the best model at 2 epochs!\nEpoch: [4/50], Train loss: 2.2859\n",
          "output_type": "stream"
        },
        {
          "name": "stderr",
          "text": "  8%|▊         | 4/50 [04:33<52:05, 67.94s/it]",
          "output_type": "stream"
        },
        {
          "name": "stdout",
          "text": "Epoch: [4/50], Valid loss: 2.2162, Valid accuracy: 0.1675\nSaving the best model at 3 epochs!\nEpoch: [5/50], Train loss: 2.2578\n",
          "output_type": "stream"
        },
        {
          "name": "stderr",
          "text": " 10%|█         | 5/50 [05:41<51:07, 68.16s/it]",
          "output_type": "stream"
        },
        {
          "name": "stdout",
          "text": "Epoch: [5/50], Valid loss: 2.2063, Valid accuracy: 0.1827\nSaving the best model at 4 epochs!\nEpoch: [6/50], Train loss: 2.2317\n",
          "output_type": "stream"
        },
        {
          "name": "stderr",
          "text": " 12%|█▏        | 6/50 [06:52<50:43, 69.18s/it]",
          "output_type": "stream"
        },
        {
          "name": "stdout",
          "text": "Epoch: [6/50], Valid loss: 2.2216, Valid accuracy: 0.1117\nEpoch: [7/50], Train loss: 2.2605\n",
          "output_type": "stream"
        },
        {
          "name": "stderr",
          "text": " 14%|█▍        | 7/50 [08:01<49:32, 69.12s/it]",
          "output_type": "stream"
        },
        {
          "name": "stdout",
          "text": "Epoch: [7/50], Valid loss: 2.1833, Valid accuracy: 0.2183\nSaving the best model at 6 epochs!\nEpoch: [8/50], Train loss: 2.2391\n",
          "output_type": "stream"
        },
        {
          "name": "stderr",
          "text": " 16%|█▌        | 8/50 [09:09<48:06, 68.73s/it]",
          "output_type": "stream"
        },
        {
          "name": "stdout",
          "text": "Epoch: [8/50], Valid loss: 2.2046, Valid accuracy: 0.1675\nEpoch: [9/50], Train loss: 2.2306\n",
          "output_type": "stream"
        },
        {
          "name": "stderr",
          "text": " 18%|█▊        | 9/50 [10:18<46:54, 68.64s/it]",
          "output_type": "stream"
        },
        {
          "name": "stdout",
          "text": "Epoch: [9/50], Valid loss: 2.1103, Valid accuracy: 0.2132\nSaving the best model at 8 epochs!\nEpoch: [10/50], Train loss: 2.2149\n",
          "output_type": "stream"
        },
        {
          "name": "stderr",
          "text": " 20%|██        | 10/50 [11:25<45:26, 68.17s/it]",
          "output_type": "stream"
        },
        {
          "name": "stdout",
          "text": "Epoch: [10/50], Valid loss: 2.1408, Valid accuracy: 0.1929\nEpoch: [11/50], Train loss: 2.2115\n",
          "output_type": "stream"
        },
        {
          "name": "stderr",
          "text": " 22%|██▏       | 11/50 [12:29<43:33, 67.01s/it]",
          "output_type": "stream"
        },
        {
          "name": "stdout",
          "text": "Epoch: [11/50], Valid loss: 2.1954, Valid accuracy: 0.1929\nEpoch: [12/50], Train loss: 2.2029\n",
          "output_type": "stream"
        },
        {
          "name": "stderr",
          "text": " 24%|██▍       | 12/50 [13:36<42:26, 67.01s/it]",
          "output_type": "stream"
        },
        {
          "name": "stdout",
          "text": "Epoch: [12/50], Valid loss: 2.1558, Valid accuracy: 0.1929\nEpoch: [13/50], Train loss: 2.2022\n",
          "output_type": "stream"
        },
        {
          "name": "stderr",
          "text": " 26%|██▌       | 13/50 [14:44<41:31, 67.35s/it]",
          "output_type": "stream"
        },
        {
          "name": "stdout",
          "text": "Epoch: [13/50], Valid loss: 2.0819, Valid accuracy: 0.2030\nSaving the best model at 12 epochs!\nEpoch: [14/50], Train loss: 2.1930\n",
          "output_type": "stream"
        },
        {
          "name": "stderr",
          "text": " 28%|██▊       | 14/50 [15:55<41:03, 68.42s/it]",
          "output_type": "stream"
        },
        {
          "name": "stdout",
          "text": "Epoch: [14/50], Valid loss: 2.1726, Valid accuracy: 0.2234\nEpoch: [15/50], Train loss: 2.1949\n",
          "output_type": "stream"
        },
        {
          "name": "stderr",
          "text": " 30%|███       | 15/50 [17:05<40:08, 68.81s/it]",
          "output_type": "stream"
        },
        {
          "name": "stdout",
          "text": "Epoch: [15/50], Valid loss: 2.2290, Valid accuracy: 0.1827\nEpoch: [16/50], Train loss: 2.2642\n",
          "output_type": "stream"
        },
        {
          "name": "stderr",
          "text": " 32%|███▏      | 16/50 [18:14<39:04, 68.96s/it]",
          "output_type": "stream"
        },
        {
          "name": "stdout",
          "text": "Epoch: [16/50], Valid loss: 2.2198, Valid accuracy: 0.1624\nEpoch: [17/50], Train loss: 2.2054\n",
          "output_type": "stream"
        },
        {
          "name": "stderr",
          "text": " 34%|███▍      | 17/50 [19:22<37:42, 68.55s/it]",
          "output_type": "stream"
        },
        {
          "name": "stdout",
          "text": "Epoch: [17/50], Valid loss: 2.0939, Valid accuracy: 0.2183\nEpoch: [18/50], Train loss: 2.2050\n",
          "output_type": "stream"
        },
        {
          "name": "stderr",
          "text": " 36%|███▌      | 18/50 [20:32<36:51, 69.10s/it]",
          "output_type": "stream"
        },
        {
          "name": "stdout",
          "text": "Epoch: [18/50], Valid loss: 2.1146, Valid accuracy: 0.1777\nEpoch: [19/50], Train loss: 2.1964\n",
          "output_type": "stream"
        },
        {
          "name": "stderr",
          "text": " 38%|███▊      | 19/50 [21:40<35:25, 68.57s/it]",
          "output_type": "stream"
        },
        {
          "name": "stdout",
          "text": "Epoch: [19/50], Valid loss: 2.0652, Valid accuracy: 0.2132\nSaving the best model at 18 epochs!\nEpoch: [20/50], Train loss: 2.2052\n",
          "output_type": "stream"
        },
        {
          "name": "stderr",
          "text": " 40%|████      | 20/50 [22:50<34:29, 68.99s/it]",
          "output_type": "stream"
        },
        {
          "name": "stdout",
          "text": "Epoch: [20/50], Valid loss: 2.1749, Valid accuracy: 0.2183\nEpoch: [21/50], Train loss: 2.1868\n",
          "output_type": "stream"
        },
        {
          "name": "stderr",
          "text": " 42%|████▏     | 21/50 [24:00<33:35, 69.49s/it]",
          "output_type": "stream"
        },
        {
          "name": "stdout",
          "text": "Epoch: [21/50], Valid loss: 2.0777, Valid accuracy: 0.1929\nEpoch: [22/50], Train loss: 2.1988\n",
          "output_type": "stream"
        },
        {
          "name": "stderr",
          "text": " 44%|████▍     | 22/50 [25:08<32:13, 69.04s/it]",
          "output_type": "stream"
        },
        {
          "name": "stdout",
          "text": "Epoch: [22/50], Valid loss: 2.0950, Valid accuracy: 0.1980\nEpoch: [23/50], Train loss: 2.1863\n",
          "output_type": "stream"
        },
        {
          "name": "stderr",
          "text": " 46%|████▌     | 23/50 [26:16<30:54, 68.69s/it]",
          "output_type": "stream"
        },
        {
          "name": "stdout",
          "text": "Epoch: [23/50], Valid loss: 2.0764, Valid accuracy: 0.2081\nEpoch: [24/50], Train loss: 2.1594\n",
          "output_type": "stream"
        },
        {
          "name": "stderr",
          "text": " 48%|████▊     | 24/50 [27:26<29:53, 68.97s/it]",
          "output_type": "stream"
        },
        {
          "name": "stdout",
          "text": "Epoch: [24/50], Valid loss: 2.1482, Valid accuracy: 0.1675\nEpoch: [25/50], Train loss: 2.1716\n",
          "output_type": "stream"
        },
        {
          "name": "stderr",
          "text": " 50%|█████     | 25/50 [28:34<28:40, 68.84s/it]",
          "output_type": "stream"
        },
        {
          "name": "stdout",
          "text": "Epoch: [25/50], Valid loss: 2.0434, Valid accuracy: 0.1878\nSaving the best model at 24 epochs!\nEpoch: [26/50], Train loss: 2.1088\n",
          "output_type": "stream"
        },
        {
          "name": "stderr",
          "text": " 52%|█████▏    | 26/50 [29:44<27:35, 68.99s/it]",
          "output_type": "stream"
        },
        {
          "name": "stdout",
          "text": "Epoch: [26/50], Valid loss: 1.9982, Valid accuracy: 0.2183\nSaving the best model at 25 epochs!\nEpoch: [27/50], Train loss: 2.1160\n",
          "output_type": "stream"
        },
        {
          "name": "stderr",
          "text": " 54%|█████▍    | 27/50 [30:54<26:36, 69.42s/it]",
          "output_type": "stream"
        },
        {
          "name": "stdout",
          "text": "Epoch: [27/50], Valid loss: 2.0142, Valid accuracy: 0.2132\nEpoch: [28/50], Train loss: 2.0997\n",
          "output_type": "stream"
        },
        {
          "name": "stderr",
          "text": " 56%|█████▌    | 28/50 [32:03<25:26, 69.39s/it]",
          "output_type": "stream"
        },
        {
          "name": "stdout",
          "text": "Epoch: [28/50], Valid loss: 1.9616, Valid accuracy: 0.2741\nSaving the best model at 27 epochs!\nEpoch: [29/50], Train loss: 2.0794\n",
          "output_type": "stream"
        },
        {
          "name": "stderr",
          "text": " 58%|█████▊    | 29/50 [33:14<24:23, 69.68s/it]",
          "output_type": "stream"
        },
        {
          "name": "stdout",
          "text": "Epoch: [29/50], Valid loss: 2.0134, Valid accuracy: 0.2132\nEpoch: [30/50], Train loss: 2.1219\n",
          "output_type": "stream"
        },
        {
          "name": "stderr",
          "text": " 60%|██████    | 30/50 [34:24<23:17, 69.88s/it]",
          "output_type": "stream"
        },
        {
          "name": "stdout",
          "text": "Epoch: [30/50], Valid loss: 2.2325, Valid accuracy: 0.1878\nEpoch: [31/50], Train loss: 2.1092\n",
          "output_type": "stream"
        },
        {
          "name": "stderr",
          "text": " 62%|██████▏   | 31/50 [35:33<22:02, 69.58s/it]",
          "output_type": "stream"
        },
        {
          "name": "stdout",
          "text": "Epoch: [31/50], Valid loss: 1.9757, Valid accuracy: 0.2741\nEpoch: [32/50], Train loss: 2.0665\n",
          "output_type": "stream"
        },
        {
          "name": "stderr",
          "text": " 64%|██████▍   | 32/50 [36:39<20:32, 68.48s/it]",
          "output_type": "stream"
        },
        {
          "name": "stdout",
          "text": "Epoch: [32/50], Valid loss: 2.1906, Valid accuracy: 0.2589\nEpoch: [33/50], Train loss: 2.0586\n",
          "output_type": "stream"
        },
        {
          "name": "stderr",
          "text": " 66%|██████▌   | 33/50 [37:47<19:23, 68.45s/it]",
          "output_type": "stream"
        },
        {
          "name": "stdout",
          "text": "Epoch: [33/50], Valid loss: 1.9487, Valid accuracy: 0.2030\nSaving the best model at 32 epochs!\nEpoch: [34/50], Train loss: 2.0303\n",
          "output_type": "stream"
        },
        {
          "name": "stderr",
          "text": " 68%|██████▊   | 34/50 [38:56<18:15, 68.45s/it]",
          "output_type": "stream"
        },
        {
          "name": "stdout",
          "text": "Epoch: [34/50], Valid loss: 1.9962, Valid accuracy: 0.2132\nEpoch: [35/50], Train loss: 2.0256\n",
          "output_type": "stream"
        },
        {
          "name": "stderr",
          "text": " 70%|███████   | 35/50 [40:03<17:01, 68.10s/it]",
          "output_type": "stream"
        },
        {
          "name": "stdout",
          "text": "Epoch: [35/50], Valid loss: 1.9045, Valid accuracy: 0.2792\nSaving the best model at 34 epochs!\nEpoch: [36/50], Train loss: 1.9880\n",
          "output_type": "stream"
        },
        {
          "name": "stderr",
          "text": " 72%|███████▏  | 36/50 [41:10<15:50, 67.89s/it]",
          "output_type": "stream"
        },
        {
          "name": "stdout",
          "text": "Epoch: [36/50], Valid loss: 1.8531, Valid accuracy: 0.3604\nSaving the best model at 35 epochs!\nEpoch: [37/50], Train loss: 1.9637\n",
          "output_type": "stream"
        },
        {
          "name": "stderr",
          "text": " 74%|███████▍  | 37/50 [42:20<14:48, 68.32s/it]",
          "output_type": "stream"
        },
        {
          "name": "stdout",
          "text": "Epoch: [37/50], Valid loss: 1.8935, Valid accuracy: 0.2843\nEpoch: [38/50], Train loss: 2.0488\n",
          "output_type": "stream"
        },
        {
          "name": "stderr",
          "text": " 76%|███████▌  | 38/50 [43:30<13:47, 68.97s/it]",
          "output_type": "stream"
        },
        {
          "name": "stdout",
          "text": "Epoch: [38/50], Valid loss: 2.2414, Valid accuracy: 0.1574\nEpoch: [39/50], Train loss: 2.0482\n",
          "output_type": "stream"
        },
        {
          "name": "stderr",
          "text": " 78%|███████▊  | 39/50 [44:38<12:33, 68.51s/it]",
          "output_type": "stream"
        },
        {
          "name": "stdout",
          "text": "Epoch: [39/50], Valid loss: 1.8370, Valid accuracy: 0.3604\nSaving the best model at 38 epochs!\nEpoch: [40/50], Train loss: 1.9666\n",
          "output_type": "stream"
        },
        {
          "name": "stderr",
          "text": " 80%|████████  | 40/50 [45:42<11:12, 67.28s/it]",
          "output_type": "stream"
        },
        {
          "name": "stdout",
          "text": "Epoch: [40/50], Valid loss: 1.9534, Valid accuracy: 0.2690\nEpoch: [41/50], Train loss: 1.9714\n",
          "output_type": "stream"
        },
        {
          "name": "stderr",
          "text": " 82%|████████▏ | 41/50 [46:50<10:06, 67.41s/it]",
          "output_type": "stream"
        },
        {
          "name": "stdout",
          "text": "Epoch: [41/50], Valid loss: 1.8126, Valid accuracy: 0.3198\nSaving the best model at 40 epochs!\nEpoch: [42/50], Train loss: 1.9375\n",
          "output_type": "stream"
        },
        {
          "name": "stderr",
          "text": " 84%|████████▍ | 42/50 [47:56<08:56, 67.02s/it]",
          "output_type": "stream"
        },
        {
          "name": "stdout",
          "text": "Epoch: [42/50], Valid loss: 1.8750, Valid accuracy: 0.3452\nEpoch: [43/50], Train loss: 1.8479\n",
          "output_type": "stream"
        },
        {
          "name": "stderr",
          "text": " 86%|████████▌ | 43/50 [49:04<07:52, 67.48s/it]",
          "output_type": "stream"
        },
        {
          "name": "stdout",
          "text": "Epoch: [43/50], Valid loss: 2.2458, Valid accuracy: 0.3249\nEpoch: [44/50], Train loss: 1.8878\n",
          "output_type": "stream"
        },
        {
          "name": "stderr",
          "text": " 88%|████████▊ | 44/50 [50:12<06:44, 67.49s/it]",
          "output_type": "stream"
        },
        {
          "name": "stdout",
          "text": "Epoch: [44/50], Valid loss: 1.8285, Valid accuracy: 0.3249\nEpoch: [45/50], Train loss: 1.8930\n",
          "output_type": "stream"
        },
        {
          "name": "stderr",
          "text": " 90%|█████████ | 45/50 [51:20<05:38, 67.64s/it]",
          "output_type": "stream"
        },
        {
          "name": "stdout",
          "text": "Epoch: [45/50], Valid loss: 1.7416, Valid accuracy: 0.4112\nSaving the best model at 44 epochs!\nEpoch: [46/50], Train loss: 1.8713\n",
          "output_type": "stream"
        },
        {
          "name": "stderr",
          "text": " 92%|█████████▏| 46/50 [52:32<04:35, 68.94s/it]",
          "output_type": "stream"
        },
        {
          "name": "stdout",
          "text": "Epoch: [46/50], Valid loss: 2.1634, Valid accuracy: 0.2640\nEpoch: [47/50], Train loss: 1.8207\n",
          "output_type": "stream"
        },
        {
          "name": "stderr",
          "text": " 94%|█████████▍| 47/50 [53:40<03:26, 68.69s/it]",
          "output_type": "stream"
        },
        {
          "name": "stdout",
          "text": "Epoch: [47/50], Valid loss: 1.9174, Valid accuracy: 0.3249\nEpoch: [48/50], Train loss: 1.8884\n",
          "output_type": "stream"
        },
        {
          "name": "stderr",
          "text": " 96%|█████████▌| 48/50 [54:51<02:18, 69.29s/it]",
          "output_type": "stream"
        },
        {
          "name": "stdout",
          "text": "Epoch: [48/50], Valid loss: 1.8197, Valid accuracy: 0.3096\nEpoch: [49/50], Train loss: 1.8762\n",
          "output_type": "stream"
        },
        {
          "name": "stderr",
          "text": " 98%|█████████▊| 49/50 [55:59<01:09, 69.04s/it]",
          "output_type": "stream"
        },
        {
          "name": "stdout",
          "text": "Epoch: [49/50], Valid loss: 2.2096, Valid accuracy: 0.2843\nEpoch: [50/50], Train loss: 1.8696\n",
          "output_type": "stream"
        },
        {
          "name": "stderr",
          "text": "100%|██████████| 50/50 [57:09<00:00, 68.59s/it]",
          "output_type": "stream"
        },
        {
          "name": "stdout",
          "text": "Epoch: [50/50], Valid loss: 1.8101, Valid accuracy: 0.3807\n",
          "output_type": "stream"
        },
        {
          "name": "stderr",
          "text": "\n",
          "output_type": "stream"
        }
      ]
    },
    {
      "cell_type": "code",
      "source": [
        "evaluation(unet) #evaluate using test data"
      ],
      "metadata": {
        "execution": {
          "iopub.status.busy": "2024-05-13T04:56:44.324408Z",
          "iopub.execute_input": "2024-05-13T04:56:44.324756Z",
          "iopub.status.idle": "2024-05-13T04:56:58.828628Z",
          "shell.execute_reply.started": "2024-05-13T04:56:44.324700Z",
          "shell.execute_reply": "2024-05-13T04:56:58.827751Z"
        },
        "trusted": true,
        "id": "Q5Z6nwOWtoXL",
        "outputId": "2ecd212b-cf49-41ef-dccc-8fa68baedf94"
      },
      "execution_count": null,
      "outputs": [
        {
          "name": "stdout",
          "text": "Accuracy: 0.4207\n",
          "output_type": "stream"
        },
        {
          "output_type": "display_data",
          "data": {
            "text/plain": "<Figure size 640x480 with 2 Axes>",
            "image/png": "[encoded data removed]"
          },
          "metadata": {}
        }
      ]
    },
    {
      "cell_type": "markdown",
      "source": [
        "For the UNet we get a final evaluation accuracy of 42%"
      ],
      "metadata": {
        "id": "aEMIWi-HNqBC"
      }
    },
    {
      "cell_type": "code",
      "source": [
        "import matplotlib.pyplot as plt\n",
        "plt.plot(train_losses_unet, label='Train Loss')\n",
        "plt.plot(valid_losses_unet, label='Valid Loss')\n",
        "plt.xlabel('Epoch')\n",
        "plt.ylabel('Loss')\n",
        "plt.title('Training and Validation Loss')\n",
        "plt.legend()\n",
        "plt.show()"
      ],
      "metadata": {
        "execution": {
          "iopub.status.busy": "2024-05-13T04:57:38.212272Z",
          "iopub.execute_input": "2024-05-13T04:57:38.212665Z",
          "iopub.status.idle": "2024-05-13T04:57:38.509057Z",
          "shell.execute_reply.started": "2024-05-13T04:57:38.212633Z",
          "shell.execute_reply": "2024-05-13T04:57:38.508130Z"
        },
        "trusted": true,
        "id": "X-qrsrlhtoXL",
        "outputId": "8c090b25-a6c2-419b-f3df-8c3e3a60c766"
      },
      "execution_count": null,
      "outputs": [
        {
          "output_type": "display_data",
          "data": {
            "text/plain": "<Figure size 640x480 with 1 Axes>",
            "image/png": "[encoded data removed]"
          },
          "metadata": {}
        }
      ]
    },
    {
      "cell_type": "code",
      "source": [
        "#plt.plot(train_accuracy_unet, label='Train Accuracy')\n",
        "plt.plot(valid_accuracy_unet, label='Valid Accuracy')\n",
        "plt.xlabel('Epoch')\n",
        "plt.ylabel('Accuracy')\n",
        "plt.title('Validation Accuracy')\n",
        "plt.legend()\n",
        "plt.show()"
      ],
      "metadata": {
        "execution": {
          "iopub.status.busy": "2024-05-13T04:57:41.052747Z",
          "iopub.execute_input": "2024-05-13T04:57:41.053140Z",
          "iopub.status.idle": "2024-05-13T04:57:41.346058Z",
          "shell.execute_reply.started": "2024-05-13T04:57:41.053105Z",
          "shell.execute_reply": "2024-05-13T04:57:41.345149Z"
        },
        "trusted": true,
        "id": "lqFpZAw2toXM",
        "outputId": "7f8e7ee7-9e86-47a6-e8c3-9de42ec26987"
      },
      "execution_count": null,
      "outputs": [
        {
          "output_type": "display_data",
          "data": {
            "text/plain": "<Figure size 640x480 with 1 Axes>",
            "image/png": "[encoded data removed]"
          },
          "metadata": {}
        }
      ]
    },
    {
      "cell_type": "markdown",
      "metadata": {
        "id": "qzvmTjOXhNzb"
      },
      "source": [
        "# Brian\n",
        "## FC MLP\n",
        "## Audio Spectrogram Transformer"
      ]
    },
    {
      "cell_type": "code",
      "execution_count": null,
      "metadata": {
        "id": "ZCSSvf575ofa"
      },
      "outputs": [],
      "source": [
        "class MLP(nn.Module):\n",
        "    def __init__(self, sample_rate=SAMPLE_RATE,\n",
        "                       n_fft=1024,\n",
        "                       f_min=0.0,\n",
        "                       f_max=11025.0,\n",
        "                       num_mels=128,\n",
        "                       num_classes=10):\n",
        "        super(MLP, self).__init__()\n",
        "        self.network = nn.Sequential(\n",
        "            nn.Linear(1024*128, 50),\n",
        "            nn.ReLU(),\n",
        "            nn.Linear(50, 100),\n",
        "            nn.ReLU(),\n",
        "            nn.Linear(100, 100),\n",
        "            nn.ReLU(),\n",
        "            nn.Linear(100, 50),\n",
        "            nn.ReLU(),\n",
        "            nn.Linear(50, 10),\n",
        "        )\n",
        "        self.input_bn = nn.BatchNorm1d(1)\n",
        "\n",
        "    def forward(self, x):\n",
        "        out = x.unsqueeze(1)\n",
        "        out = self.input_bn(out)\n",
        "\n",
        "        y_ = self.network(x)\n",
        "\n",
        "        return y_\n",
        "\n",
        "class AST(nn.Module):\n",
        "    def __init__(self, sample_rate=SAMPLE_RATE,\n",
        "                       n_fft=1024,\n",
        "                       f_min=0.0,\n",
        "                       f_max=11025.0,\n",
        "                       num_mels=128,\n",
        "                       num_classes=10):\n",
        "        super(AST, self).__init__()\n",
        "        self.network = ASTForAudioClassification(configuration)\n",
        "\n",
        "    def forward(self, x):\n",
        "        y_ = self.network(x,return_dict=False)[0]\n",
        "\n",
        "        return y_\n",
        "\n",
        "def train_loop(num_epochs, model, criterion, optimizer, train_loader, valid_loader):\n",
        "    valid_losses = []\n",
        "    for epoch in tqdm(range(num_epochs)):\n",
        "        losses = []\n",
        "\n",
        "        # Train\n",
        "        model.train()\n",
        "        for x, y in train_loader:\n",
        "            x = x.to(DEVICE)\n",
        "            y = y.to(DEVICE)\n",
        "\n",
        "            y_pred = model(x)\n",
        "            loss = criterion(y_pred, y)\n",
        "            losses.append(loss.item())\n",
        "\n",
        "            optimizer.zero_grad()\n",
        "            loss.backward()\n",
        "            optimizer.step()\n",
        "        print('Epoch: [%d/%d], Train loss: %.4f' % (epoch+1, num_epochs, np.mean(losses)))\n",
        "\n",
        "        # Validation\n",
        "        model.eval()\n",
        "        y_true_list = []\n",
        "        y_pred_list = []\n",
        "        losses = []\n",
        "        for x, y in valid_loader:\n",
        "            x = x.to(DEVICE)\n",
        "            y = y.to(DEVICE)\n",
        "\n",
        "            y_pred = model(x)\n",
        "            loss = criterion(y_pred, y)\n",
        "            losses.append(loss.item())\n",
        "            _, pred = torch.max(y_pred, 1)\n",
        "\n",
        "            # append labels and predictions\n",
        "            y_true_list.extend(y.tolist())\n",
        "            y_pred_list.extend(pred.tolist())\n",
        "        accuracy = accuracy_score(y_true_list, y_pred_list)\n",
        "        valid_loss = np.mean(losses)\n",
        "        print('Epoch: [%d/%d], Valid loss: %.4f, Valid accuracy: %.4f' % (epoch+1, num_epochs, valid_loss, accuracy))\n",
        "        # Save model\n",
        "        valid_losses.append(valid_loss.item())\n",
        "        if np.argmin(valid_losses) == epoch:\n",
        "            print('Saving the best model at %d epochs!' % epoch)\n",
        "            torch.save(model.state_dict(), 'best_model.ckpt')\n",
        "\n",
        "def evaluation(model, loader, test=True):\n",
        "    S = torch.load('best_model.ckpt')\n",
        "    model.load_state_dict(S)\n",
        "\n",
        "    # Run evaluation\n",
        "    model.eval()\n",
        "    y_true_list = []\n",
        "    y_pred_list = []\n",
        "\n",
        "    with torch.no_grad():\n",
        "        for x, y in loader:\n",
        "            x = x.to(DEVICE)\n",
        "            y = y.to(DEVICE)\n",
        "\n",
        "            y_pred = model(x)\n",
        "            _, pred = torch.max(y_pred, 1)\n",
        "\n",
        "            # append labels and predictions\n",
        "            y_true_list.extend(y.tolist())\n",
        "            y_pred_list.extend(pred.tolist())\n",
        "    accuracy = accuracy_score(y_true_list, y_pred_list)\n",
        "    if test:\n",
        "        cm = confusion_matrix(y_true_list, y_pred_list)\n",
        "        sns.heatmap(cm, annot=True, xticklabels=GTZAN_GENRES, yticklabels=GTZAN_GENRES, cmap='YlGnBu')\n",
        "    print('Accuracy: %.4f' % accuracy)\n"
      ]
    },
    {
      "cell_type": "code",
      "execution_count": null,
      "metadata": {
        "colab": {
          "base_uri": "https://localhost:8080/"
        },
        "id": "gHur7OE_78Py",
        "outputId": "7049b100-ee28-4d5b-b0db-dadfd3a0c8ca"
      },
      "outputs": [
        {
          "output_type": "stream",
          "name": "stdout",
          "text": [
            "AST(\n",
            "  (network): ASTForAudioClassification(\n",
            "    (audio_spectrogram_transformer): ASTModel(\n",
            "      (embeddings): ASTEmbeddings(\n",
            "        (patch_embeddings): ASTPatchEmbeddings(\n",
            "          (projection): Conv2d(1, 384, kernel_size=(16, 16), stride=(10, 10))\n",
            "        )\n",
            "        (dropout): Dropout(p=0.0, inplace=False)\n",
            "      )\n",
            "      (encoder): ASTEncoder(\n",
            "        (layer): ModuleList(\n",
            "          (0-2): 3 x ASTLayer(\n",
            "            (attention): ASTAttention(\n",
            "              (attention): ASTSelfAttention(\n",
            "                (query): Linear(in_features=384, out_features=384, bias=True)\n",
            "                (key): Linear(in_features=384, out_features=384, bias=True)\n",
            "                (value): Linear(in_features=384, out_features=384, bias=True)\n",
            "                (dropout): Dropout(p=0.0, inplace=False)\n",
            "              )\n",
            "              (output): ASTSelfOutput(\n",
            "                (dense): Linear(in_features=384, out_features=384, bias=True)\n",
            "                (dropout): Dropout(p=0.0, inplace=False)\n",
            "              )\n",
            "            )\n",
            "            (intermediate): ASTIntermediate(\n",
            "              (dense): Linear(in_features=384, out_features=768, bias=True)\n",
            "              (intermediate_act_fn): GELUActivation()\n",
            "            )\n",
            "            (output): ASTOutput(\n",
            "              (dense): Linear(in_features=768, out_features=384, bias=True)\n",
            "              (dropout): Dropout(p=0.0, inplace=False)\n",
            "            )\n",
            "            (layernorm_before): LayerNorm((384,), eps=1e-12, elementwise_affine=True)\n",
            "            (layernorm_after): LayerNorm((384,), eps=1e-12, elementwise_affine=True)\n",
            "          )\n",
            "        )\n",
            "      )\n",
            "      (layernorm): LayerNorm((384,), eps=1e-12, elementwise_affine=True)\n",
            "    )\n",
            "    (classifier): ASTMLPHead(\n",
            "      (layernorm): LayerNorm((384,), eps=1e-12, elementwise_affine=True)\n",
            "      (dense): Linear(in_features=384, out_features=10, bias=True)\n",
            "    )\n",
            "  )\n",
            ")\n",
            "==============================================================================================================\n",
            "Layer (type:depth-idx)                                       Output Shape              Param #\n",
            "==============================================================================================================\n",
            "AST                                                          [16, 10]                  --\n",
            "├─ASTForAudioClassification: 1-1                             [16, 10]                  --\n",
            "│    └─ASTModel: 2-1                                         [16, 1214, 384]           --\n",
            "│    │    └─ASTEmbeddings: 3-1                               [16, 1214, 384]           565,632\n",
            "│    │    └─ASTEncoder: 3-2                                  [16, 1214, 384]           3,551,616\n",
            "│    │    └─LayerNorm: 3-3                                   [16, 1214, 384]           768\n",
            "│    └─ASTMLPHead: 2-2                                       [16, 10]                  --\n",
            "│    │    └─LayerNorm: 3-4                                   [16, 384]                 768\n",
            "│    │    └─Linear: 3-5                                      [16, 10]                  3,850\n",
            "==============================================================================================================\n",
            "Total params: 4,122,634\n",
            "Trainable params: 4,122,634\n",
            "Non-trainable params: 0\n",
            "Total mult-adds (G): 1.97\n",
            "==============================================================================================================\n",
            "Input size (MB): 8.39\n",
            "Forward/backward pass size (MB): 1730.40\n",
            "Params size (MB): 14.62\n",
            "Estimated Total Size (MB): 1753.41\n",
            "==============================================================================================================\n"
          ]
        },
        {
          "output_type": "stream",
          "name": "stderr",
          "text": [
            "\r  0%|          | 0/50 [00:00<?, ?it/s]"
          ]
        },
        {
          "output_type": "stream",
          "name": "stdout",
          "text": [
            "Epoch: [1/50], Train loss: 2.4768\n"
          ]
        },
        {
          "output_type": "stream",
          "name": "stderr",
          "text": [
            "\r  2%|▏         | 1/50 [01:26<1:10:16, 86.06s/it]"
          ]
        },
        {
          "output_type": "stream",
          "name": "stdout",
          "text": [
            "Epoch: [1/50], Valid loss: 2.3897, Valid accuracy: 0.1269\n",
            "Saving the best model at 0 epochs!\n",
            "Epoch: [2/50], Train loss: 2.3368\n"
          ]
        },
        {
          "output_type": "stream",
          "name": "stderr",
          "text": [
            "\r  4%|▍         | 2/50 [02:50<1:08:04, 85.08s/it]"
          ]
        },
        {
          "output_type": "stream",
          "name": "stdout",
          "text": [
            "Epoch: [2/50], Valid loss: 2.3477, Valid accuracy: 0.1827\n",
            "Saving the best model at 1 epochs!\n",
            "Epoch: [3/50], Train loss: 2.3291\n"
          ]
        },
        {
          "output_type": "stream",
          "name": "stderr",
          "text": [
            "\r  6%|▌         | 3/50 [04:08<1:04:11, 81.95s/it]"
          ]
        },
        {
          "output_type": "stream",
          "name": "stdout",
          "text": [
            "Epoch: [3/50], Valid loss: 2.3113, Valid accuracy: 0.1168\n",
            "Saving the best model at 2 epochs!\n",
            "Epoch: [4/50], Train loss: 2.3464\n"
          ]
        },
        {
          "output_type": "stream",
          "name": "stderr",
          "text": [
            "\r  8%|▊         | 4/50 [05:25<1:01:21, 80.03s/it]"
          ]
        },
        {
          "output_type": "stream",
          "name": "stdout",
          "text": [
            "Epoch: [4/50], Valid loss: 2.4213, Valid accuracy: 0.0914\n",
            "Epoch: [5/50], Train loss: 2.3575\n"
          ]
        },
        {
          "output_type": "stream",
          "name": "stderr",
          "text": [
            "\r 10%|█         | 5/50 [06:46<1:00:11, 80.25s/it]"
          ]
        },
        {
          "output_type": "stream",
          "name": "stdout",
          "text": [
            "Epoch: [5/50], Valid loss: 2.3080, Valid accuracy: 0.1523\n",
            "Saving the best model at 4 epochs!\n",
            "Epoch: [6/50], Train loss: 2.2941\n"
          ]
        },
        {
          "output_type": "stream",
          "name": "stderr",
          "text": [
            "\r 12%|█▏        | 6/50 [08:05<58:27, 79.72s/it]  "
          ]
        },
        {
          "output_type": "stream",
          "name": "stdout",
          "text": [
            "Epoch: [6/50], Valid loss: 2.3181, Valid accuracy: 0.1168\n",
            "Epoch: [7/50], Train loss: 2.2697\n"
          ]
        },
        {
          "output_type": "stream",
          "name": "stderr",
          "text": [
            "\r 14%|█▍        | 7/50 [09:24<57:01, 79.58s/it]"
          ]
        },
        {
          "output_type": "stream",
          "name": "stdout",
          "text": [
            "Epoch: [7/50], Valid loss: 2.3849, Valid accuracy: 0.1421\n",
            "Epoch: [8/50], Train loss: 2.2720\n"
          ]
        },
        {
          "output_type": "stream",
          "name": "stderr",
          "text": [
            "\r 16%|█▌        | 8/50 [10:38<54:35, 77.99s/it]"
          ]
        },
        {
          "output_type": "stream",
          "name": "stdout",
          "text": [
            "Epoch: [8/50], Valid loss: 2.3996, Valid accuracy: 0.1117\n",
            "Epoch: [9/50], Train loss: 2.3016\n"
          ]
        },
        {
          "output_type": "stream",
          "name": "stderr",
          "text": [
            "\r 18%|█▊        | 9/50 [11:57<53:22, 78.12s/it]"
          ]
        },
        {
          "output_type": "stream",
          "name": "stdout",
          "text": [
            "Epoch: [9/50], Valid loss: 2.2965, Valid accuracy: 0.1218\n",
            "Saving the best model at 8 epochs!\n",
            "Epoch: [10/50], Train loss: 2.2820\n"
          ]
        },
        {
          "output_type": "stream",
          "name": "stderr",
          "text": [
            "\r 20%|██        | 10/50 [13:15<52:05, 78.13s/it]"
          ]
        },
        {
          "output_type": "stream",
          "name": "stdout",
          "text": [
            "Epoch: [10/50], Valid loss: 2.3268, Valid accuracy: 0.1371\n",
            "Epoch: [11/50], Train loss: 2.2817\n"
          ]
        },
        {
          "output_type": "stream",
          "name": "stderr",
          "text": [
            "\r 22%|██▏       | 11/50 [14:33<50:50, 78.21s/it]"
          ]
        },
        {
          "output_type": "stream",
          "name": "stdout",
          "text": [
            "Epoch: [11/50], Valid loss: 2.2796, Valid accuracy: 0.1168\n",
            "Saving the best model at 10 epochs!\n",
            "Epoch: [12/50], Train loss: 2.2826\n"
          ]
        },
        {
          "output_type": "stream",
          "name": "stderr",
          "text": [
            "\r 24%|██▍       | 12/50 [15:51<49:22, 77.96s/it]"
          ]
        },
        {
          "output_type": "stream",
          "name": "stdout",
          "text": [
            "Epoch: [12/50], Valid loss: 2.3281, Valid accuracy: 0.1269\n",
            "Epoch: [13/50], Train loss: 2.2665\n"
          ]
        },
        {
          "output_type": "stream",
          "name": "stderr",
          "text": [
            "\r 26%|██▌       | 13/50 [17:07<47:47, 77.51s/it]"
          ]
        },
        {
          "output_type": "stream",
          "name": "stdout",
          "text": [
            "Epoch: [13/50], Valid loss: 2.3044, Valid accuracy: 0.0914\n",
            "Epoch: [14/50], Train loss: 2.2504\n"
          ]
        },
        {
          "output_type": "stream",
          "name": "stderr",
          "text": [
            "\r 28%|██▊       | 14/50 [18:27<46:56, 78.24s/it]"
          ]
        },
        {
          "output_type": "stream",
          "name": "stdout",
          "text": [
            "Epoch: [14/50], Valid loss: 2.2842, Valid accuracy: 0.1827\n",
            "Epoch: [15/50], Train loss: 2.2882\n"
          ]
        },
        {
          "output_type": "stream",
          "name": "stderr",
          "text": [
            "\r 30%|███       | 15/50 [19:47<45:54, 78.71s/it]"
          ]
        },
        {
          "output_type": "stream",
          "name": "stdout",
          "text": [
            "Epoch: [15/50], Valid loss: 2.4010, Valid accuracy: 0.1574\n",
            "Epoch: [16/50], Train loss: 2.2735\n"
          ]
        },
        {
          "output_type": "stream",
          "name": "stderr",
          "text": [
            "\r 32%|███▏      | 16/50 [21:01<43:50, 77.37s/it]"
          ]
        },
        {
          "output_type": "stream",
          "name": "stdout",
          "text": [
            "Epoch: [16/50], Valid loss: 2.2709, Valid accuracy: 0.1066\n",
            "Saving the best model at 15 epochs!\n",
            "Epoch: [17/50], Train loss: 2.2713\n"
          ]
        },
        {
          "output_type": "stream",
          "name": "stderr",
          "text": [
            "\r 34%|███▍      | 17/50 [22:35<45:16, 82.31s/it]"
          ]
        },
        {
          "output_type": "stream",
          "name": "stdout",
          "text": [
            "Epoch: [17/50], Valid loss: 2.3124, Valid accuracy: 0.1015\n",
            "Epoch: [18/50], Train loss: 2.2786\n"
          ]
        },
        {
          "output_type": "stream",
          "name": "stderr",
          "text": [
            "\r 36%|███▌      | 18/50 [23:55<43:29, 81.56s/it]"
          ]
        },
        {
          "output_type": "stream",
          "name": "stdout",
          "text": [
            "Epoch: [18/50], Valid loss: 2.2988, Valid accuracy: 0.1269\n",
            "Epoch: [19/50], Train loss: 2.2737\n"
          ]
        },
        {
          "output_type": "stream",
          "name": "stderr",
          "text": [
            "\r 38%|███▊      | 19/50 [25:09<40:58, 79.32s/it]"
          ]
        },
        {
          "output_type": "stream",
          "name": "stdout",
          "text": [
            "Epoch: [19/50], Valid loss: 2.2199, Valid accuracy: 0.1320\n",
            "Saving the best model at 18 epochs!\n",
            "Epoch: [20/50], Train loss: 2.2108\n"
          ]
        },
        {
          "output_type": "stream",
          "name": "stderr",
          "text": [
            "\r 40%|████      | 20/50 [26:29<39:41, 79.40s/it]"
          ]
        },
        {
          "output_type": "stream",
          "name": "stdout",
          "text": [
            "Epoch: [20/50], Valid loss: 2.2131, Valid accuracy: 0.1777\n",
            "Saving the best model at 19 epochs!\n",
            "Epoch: [21/50], Train loss: 2.2541\n"
          ]
        },
        {
          "output_type": "stream",
          "name": "stderr",
          "text": [
            "\r 42%|████▏     | 21/50 [27:46<38:01, 78.68s/it]"
          ]
        },
        {
          "output_type": "stream",
          "name": "stdout",
          "text": [
            "Epoch: [21/50], Valid loss: 2.2316, Valid accuracy: 0.1269\n",
            "Epoch: [22/50], Train loss: 2.2403\n"
          ]
        },
        {
          "output_type": "stream",
          "name": "stderr",
          "text": [
            "\r 44%|████▍     | 22/50 [29:04<36:42, 78.65s/it]"
          ]
        },
        {
          "output_type": "stream",
          "name": "stdout",
          "text": [
            "Epoch: [22/50], Valid loss: 2.2813, Valid accuracy: 0.1218\n",
            "Epoch: [23/50], Train loss: 2.2636\n"
          ]
        },
        {
          "output_type": "stream",
          "name": "stderr",
          "text": [
            "\r 46%|████▌     | 23/50 [30:22<35:13, 78.29s/it]"
          ]
        },
        {
          "output_type": "stream",
          "name": "stdout",
          "text": [
            "Epoch: [23/50], Valid loss: 2.2562, Valid accuracy: 0.1472\n",
            "Epoch: [24/50], Train loss: 2.2426\n"
          ]
        },
        {
          "output_type": "stream",
          "name": "stderr",
          "text": [
            "\r 48%|████▊     | 24/50 [31:40<33:53, 78.21s/it]"
          ]
        },
        {
          "output_type": "stream",
          "name": "stdout",
          "text": [
            "Epoch: [24/50], Valid loss: 2.1988, Valid accuracy: 0.1675\n",
            "Saving the best model at 23 epochs!\n",
            "Epoch: [25/50], Train loss: 2.1783\n"
          ]
        },
        {
          "output_type": "stream",
          "name": "stderr",
          "text": [
            "\r 50%|█████     | 25/50 [32:51<31:45, 76.24s/it]"
          ]
        },
        {
          "output_type": "stream",
          "name": "stdout",
          "text": [
            "Epoch: [25/50], Valid loss: 2.1718, Valid accuracy: 0.1675\n",
            "Saving the best model at 24 epochs!\n",
            "Epoch: [26/50], Train loss: 2.2387\n"
          ]
        },
        {
          "output_type": "stream",
          "name": "stderr",
          "text": [
            "\r 52%|█████▏    | 26/50 [34:08<30:34, 76.42s/it]"
          ]
        },
        {
          "output_type": "stream",
          "name": "stdout",
          "text": [
            "Epoch: [26/50], Valid loss: 2.2126, Valid accuracy: 0.1371\n",
            "Epoch: [27/50], Train loss: 2.2158\n"
          ]
        },
        {
          "output_type": "stream",
          "name": "stderr",
          "text": [
            "\r 54%|█████▍    | 27/50 [35:27<29:31, 77.02s/it]"
          ]
        },
        {
          "output_type": "stream",
          "name": "stdout",
          "text": [
            "Epoch: [27/50], Valid loss: 2.2449, Valid accuracy: 0.2132\n",
            "Epoch: [28/50], Train loss: 2.2473\n"
          ]
        },
        {
          "output_type": "stream",
          "name": "stderr",
          "text": [
            "\r 56%|█████▌    | 28/50 [36:48<28:43, 78.33s/it]"
          ]
        },
        {
          "output_type": "stream",
          "name": "stdout",
          "text": [
            "Epoch: [28/50], Valid loss: 2.1562, Valid accuracy: 0.2234\n",
            "Saving the best model at 27 epochs!\n",
            "Epoch: [29/50], Train loss: 2.1552\n"
          ]
        },
        {
          "output_type": "stream",
          "name": "stderr",
          "text": [
            "\r 58%|█████▊    | 29/50 [38:05<27:14, 77.82s/it]"
          ]
        },
        {
          "output_type": "stream",
          "name": "stdout",
          "text": [
            "Epoch: [29/50], Valid loss: 2.0543, Valid accuracy: 0.2487\n",
            "Saving the best model at 28 epochs!\n",
            "Epoch: [30/50], Train loss: 2.2796\n"
          ]
        },
        {
          "output_type": "stream",
          "name": "stderr",
          "text": [
            "\r 60%|██████    | 30/50 [39:23<25:58, 77.92s/it]"
          ]
        },
        {
          "output_type": "stream",
          "name": "stdout",
          "text": [
            "Epoch: [30/50], Valid loss: 2.2188, Valid accuracy: 0.1472\n",
            "Epoch: [31/50], Train loss: 2.1943\n"
          ]
        },
        {
          "output_type": "stream",
          "name": "stderr",
          "text": [
            "\r 62%|██████▏   | 31/50 [40:42<24:47, 78.26s/it]"
          ]
        },
        {
          "output_type": "stream",
          "name": "stdout",
          "text": [
            "Epoch: [31/50], Valid loss: 2.2282, Valid accuracy: 0.1878\n",
            "Epoch: [32/50], Train loss: 2.1805\n"
          ]
        },
        {
          "output_type": "stream",
          "name": "stderr",
          "text": [
            "\r 64%|██████▍   | 32/50 [41:58<23:15, 77.55s/it]"
          ]
        },
        {
          "output_type": "stream",
          "name": "stdout",
          "text": [
            "Epoch: [32/50], Valid loss: 2.1319, Valid accuracy: 0.2589\n",
            "Epoch: [33/50], Train loss: 2.1296\n"
          ]
        },
        {
          "output_type": "stream",
          "name": "stderr",
          "text": [
            "\r 66%|██████▌   | 33/50 [43:17<22:09, 78.20s/it]"
          ]
        },
        {
          "output_type": "stream",
          "name": "stdout",
          "text": [
            "Epoch: [33/50], Valid loss: 2.0704, Valid accuracy: 0.2640\n",
            "Epoch: [34/50], Train loss: 2.1158\n"
          ]
        },
        {
          "output_type": "stream",
          "name": "stderr",
          "text": [
            "\r 68%|██████▊   | 34/50 [44:36<20:53, 78.32s/it]"
          ]
        },
        {
          "output_type": "stream",
          "name": "stdout",
          "text": [
            "Epoch: [34/50], Valid loss: 2.0880, Valid accuracy: 0.2284\n",
            "Epoch: [35/50], Train loss: 2.1606\n"
          ]
        },
        {
          "output_type": "stream",
          "name": "stderr",
          "text": [
            "\r 70%|███████   | 35/50 [45:54<19:32, 78.16s/it]"
          ]
        },
        {
          "output_type": "stream",
          "name": "stdout",
          "text": [
            "Epoch: [35/50], Valid loss: 2.2345, Valid accuracy: 0.1168\n",
            "Epoch: [36/50], Train loss: 2.1032\n"
          ]
        },
        {
          "output_type": "stream",
          "name": "stderr",
          "text": [
            "\r 72%|███████▏  | 36/50 [47:12<18:13, 78.11s/it]"
          ]
        },
        {
          "output_type": "stream",
          "name": "stdout",
          "text": [
            "Epoch: [36/50], Valid loss: 2.0834, Valid accuracy: 0.2640\n",
            "Epoch: [37/50], Train loss: 2.1743\n"
          ]
        },
        {
          "output_type": "stream",
          "name": "stderr",
          "text": [
            "\r 74%|███████▍  | 37/50 [48:29<16:50, 77.76s/it]"
          ]
        },
        {
          "output_type": "stream",
          "name": "stdout",
          "text": [
            "Epoch: [37/50], Valid loss: 2.1029, Valid accuracy: 0.2589\n",
            "Epoch: [38/50], Train loss: 2.1808\n"
          ]
        },
        {
          "output_type": "stream",
          "name": "stderr",
          "text": [
            "\r 76%|███████▌  | 38/50 [49:48<15:37, 78.10s/it]"
          ]
        },
        {
          "output_type": "stream",
          "name": "stdout",
          "text": [
            "Epoch: [38/50], Valid loss: 2.3856, Valid accuracy: 0.1269\n",
            "Epoch: [39/50], Train loss: 2.2749\n"
          ]
        },
        {
          "output_type": "stream",
          "name": "stderr",
          "text": [
            "\r 78%|███████▊  | 39/50 [51:06<14:19, 78.11s/it]"
          ]
        },
        {
          "output_type": "stream",
          "name": "stdout",
          "text": [
            "Epoch: [39/50], Valid loss: 2.1938, Valid accuracy: 0.2081\n",
            "Epoch: [40/50], Train loss: 2.1924\n"
          ]
        },
        {
          "output_type": "stream",
          "name": "stderr",
          "text": [
            "\r 80%|████████  | 40/50 [52:24<13:02, 78.26s/it]"
          ]
        },
        {
          "output_type": "stream",
          "name": "stdout",
          "text": [
            "Epoch: [40/50], Valid loss: 2.1977, Valid accuracy: 0.2030\n",
            "Epoch: [41/50], Train loss: 2.1794\n"
          ]
        },
        {
          "output_type": "stream",
          "name": "stderr",
          "text": [
            "\r 82%|████████▏ | 41/50 [53:43<11:44, 78.30s/it]"
          ]
        },
        {
          "output_type": "stream",
          "name": "stdout",
          "text": [
            "Epoch: [41/50], Valid loss: 2.1449, Valid accuracy: 0.1726\n",
            "Epoch: [42/50], Train loss: 2.1499\n"
          ]
        },
        {
          "output_type": "stream",
          "name": "stderr",
          "text": [
            "\r 84%|████████▍ | 42/50 [55:02<10:27, 78.46s/it]"
          ]
        },
        {
          "output_type": "stream",
          "name": "stdout",
          "text": [
            "Epoch: [42/50], Valid loss: 2.1498, Valid accuracy: 0.2030\n",
            "Epoch: [43/50], Train loss: 2.1889\n"
          ]
        },
        {
          "output_type": "stream",
          "name": "stderr",
          "text": [
            "\r 86%|████████▌ | 43/50 [56:18<09:04, 77.76s/it]"
          ]
        },
        {
          "output_type": "stream",
          "name": "stdout",
          "text": [
            "Epoch: [43/50], Valid loss: 2.1868, Valid accuracy: 0.1726\n",
            "Epoch: [44/50], Train loss: 2.1839\n"
          ]
        },
        {
          "output_type": "stream",
          "name": "stderr",
          "text": [
            "\r 88%|████████▊ | 44/50 [57:37<07:49, 78.24s/it]"
          ]
        },
        {
          "output_type": "stream",
          "name": "stdout",
          "text": [
            "Epoch: [44/50], Valid loss: 2.2652, Valid accuracy: 0.1523\n",
            "Epoch: [45/50], Train loss: 2.1556\n"
          ]
        },
        {
          "output_type": "stream",
          "name": "stderr",
          "text": [
            "\r 90%|█████████ | 45/50 [58:55<06:31, 78.28s/it]"
          ]
        },
        {
          "output_type": "stream",
          "name": "stdout",
          "text": [
            "Epoch: [45/50], Valid loss: 2.1435, Valid accuracy: 0.2386\n",
            "Epoch: [46/50], Train loss: 2.1195\n"
          ]
        },
        {
          "output_type": "stream",
          "name": "stderr",
          "text": [
            "\r 92%|█████████▏| 46/50 [1:00:14<05:13, 78.33s/it]"
          ]
        },
        {
          "output_type": "stream",
          "name": "stdout",
          "text": [
            "Epoch: [46/50], Valid loss: 2.1546, Valid accuracy: 0.1675\n",
            "Epoch: [47/50], Train loss: 2.1451\n"
          ]
        },
        {
          "output_type": "stream",
          "name": "stderr",
          "text": [
            "\r 94%|█████████▍| 47/50 [1:01:33<03:55, 78.64s/it]"
          ]
        },
        {
          "output_type": "stream",
          "name": "stdout",
          "text": [
            "Epoch: [47/50], Valid loss: 2.1889, Valid accuracy: 0.1726\n",
            "Epoch: [48/50], Train loss: 2.2190\n"
          ]
        },
        {
          "output_type": "stream",
          "name": "stderr",
          "text": [
            "\r 96%|█████████▌| 48/50 [1:02:56<02:39, 79.92s/it]"
          ]
        },
        {
          "output_type": "stream",
          "name": "stdout",
          "text": [
            "Epoch: [48/50], Valid loss: 2.1633, Valid accuracy: 0.2030\n",
            "Epoch: [49/50], Train loss: 2.1607\n"
          ]
        },
        {
          "output_type": "stream",
          "name": "stderr",
          "text": [
            "\r 98%|█████████▊| 49/50 [1:04:15<01:19, 79.62s/it]"
          ]
        },
        {
          "output_type": "stream",
          "name": "stdout",
          "text": [
            "Epoch: [49/50], Valid loss: 2.1491, Valid accuracy: 0.1929\n",
            "Epoch: [50/50], Train loss: 2.1266\n"
          ]
        },
        {
          "output_type": "stream",
          "name": "stderr",
          "text": [
            "100%|██████████| 50/50 [1:05:35<00:00, 78.72s/it]"
          ]
        },
        {
          "output_type": "stream",
          "name": "stdout",
          "text": [
            "Epoch: [50/50], Valid loss: 2.1354, Valid accuracy: 0.2284\n"
          ]
        },
        {
          "output_type": "stream",
          "name": "stderr",
          "text": [
            "\n"
          ]
        }
      ],
      "source": [
        "num_epochs = 50\n",
        "\n",
        "model = AST().to(DEVICE)\n",
        "print(model)\n",
        "print(summary(model, train_wav.shape))\n",
        "\n",
        "criterion = torch.nn.CrossEntropyLoss()\n",
        "optimizer = torch.optim.Adam(model.parameters(), lr=0.001)\n",
        "\n",
        "train_loop(num_epochs, model, criterion, optimizer, train_loader, valid_loader)\n",
        "\n"
      ]
    },
    {
      "cell_type": "code",
      "source": [
        "model = AST().to(DEVICE)\n",
        "evaluation(model, train_loader, False)\n",
        "evaluation(model, test_loader)"
      ],
      "metadata": {
        "id": "eLdXnjCsiju2",
        "colab": {
          "base_uri": "https://localhost:8080/",
          "height": 516
        },
        "outputId": "8c7bc594-b3dc-41d2-a197-24177f3671fd"
      },
      "execution_count": null,
      "outputs": [
        {
          "output_type": "stream",
          "name": "stdout",
          "text": [
            "Accuracy: 0.2302\n",
            "Accuracy: 0.2448\n"
          ]
        },
        {
          "output_type": "display_data",
          "data": {
            "text/plain": [
              "<Figure size 640x480 with 2 Axes>"
            ],
            "image/png": "[encoded data removed]"
          },
          "metadata": {}
        }
      ]
    },
    {
      "cell_type": "markdown",
      "source": [
        "For the AST (Transformer) we get a final evaluation accuracy of 24%"
      ],
      "metadata": {
        "id": "IDWDc_mINwC8"
      }
    },
    {
      "cell_type": "code",
      "source": [
        "num_epochs = 50\n",
        "\n",
        "model = MLP().to(DEVICE)\n",
        "print(model)\n",
        "print(summary(model, train_wav.shape))\n",
        "\n",
        "criterion = torch.nn.CrossEntropyLoss()\n",
        "optimizer = torch.optim.Adam(model.parameters(), lr=0.001)\n",
        "\n",
        "train_loop(num_epochs, model, criterion, optimizer, train_loader, valid_loader)\n"
      ],
      "metadata": {
        "colab": {
          "base_uri": "https://localhost:8080/"
        },
        "outputId": "f94c3b44-aaf2-4f13-916a-5d0640dd4b88",
        "id": "-1207Ym-HKvl"
      },
      "execution_count": null,
      "outputs": [
        {
          "output_type": "stream",
          "name": "stdout",
          "text": [
            "MLP(\n",
            "  (network): Sequential(\n",
            "    (0): Linear(in_features=131072, out_features=30, bias=True)\n",
            "    (1): ReLU()\n",
            "    (2): Linear(in_features=30, out_features=50, bias=True)\n",
            "    (3): ReLU()\n",
            "    (4): Linear(in_features=50, out_features=100, bias=True)\n",
            "    (5): ReLU()\n",
            "    (6): Linear(in_features=100, out_features=100, bias=True)\n",
            "    (7): ReLU()\n",
            "    (8): Linear(in_features=100, out_features=50, bias=True)\n",
            "    (9): ReLU()\n",
            "    (10): Linear(in_features=50, out_features=10, bias=True)\n",
            "  )\n",
            "  (input_bn): BatchNorm1d(1, eps=1e-05, momentum=0.1, affine=True, track_running_stats=True)\n",
            ")\n",
            "==========================================================================================\n",
            "Layer (type:depth-idx)                   Output Shape              Param #\n",
            "==========================================================================================\n",
            "MLP                                      [16, 10]                  2\n",
            "├─Sequential: 1-1                        [16, 10]                  --\n",
            "│    └─Linear: 2-1                       [16, 30]                  3,932,190\n",
            "│    └─ReLU: 2-2                         [16, 30]                  --\n",
            "│    └─Linear: 2-3                       [16, 50]                  1,550\n",
            "│    └─ReLU: 2-4                         [16, 50]                  --\n",
            "│    └─Linear: 2-5                       [16, 100]                 5,100\n",
            "│    └─ReLU: 2-6                         [16, 100]                 --\n",
            "│    └─Linear: 2-7                       [16, 100]                 10,100\n",
            "│    └─ReLU: 2-8                         [16, 100]                 --\n",
            "│    └─Linear: 2-9                       [16, 50]                  5,050\n",
            "│    └─ReLU: 2-10                        [16, 50]                  --\n",
            "│    └─Linear: 2-11                      [16, 10]                  510\n",
            "==========================================================================================\n",
            "Total params: 3,954,502\n",
            "Trainable params: 3,954,502\n",
            "Non-trainable params: 0\n",
            "Total mult-adds (M): 63.27\n",
            "==========================================================================================\n",
            "Input size (MB): 8.39\n",
            "Forward/backward pass size (MB): 0.04\n",
            "Params size (MB): 15.82\n",
            "Estimated Total Size (MB): 24.25\n",
            "==========================================================================================\n"
          ]
        },
        {
          "output_type": "stream",
          "name": "stderr",
          "text": [
            "\r  0%|          | 0/50 [00:00<?, ?it/s]"
          ]
        },
        {
          "output_type": "stream",
          "name": "stdout",
          "text": [
            "Epoch: [1/50], Train loss: 2.4104\n"
          ]
        },
        {
          "output_type": "stream",
          "name": "stderr",
          "text": [
            "\r  2%|▏         | 1/50 [01:11<58:11, 71.25s/it]"
          ]
        },
        {
          "output_type": "stream",
          "name": "stdout",
          "text": [
            "Epoch: [1/50], Valid loss: 2.3176, Valid accuracy: 0.0812\n",
            "Saving the best model at 0 epochs!\n",
            "Epoch: [2/50], Train loss: 2.3183\n"
          ]
        },
        {
          "output_type": "stream",
          "name": "stderr",
          "text": [
            "\r  4%|▍         | 2/50 [02:24<57:43, 72.17s/it]"
          ]
        },
        {
          "output_type": "stream",
          "name": "stdout",
          "text": [
            "Epoch: [2/50], Valid loss: 2.2248, Valid accuracy: 0.1929\n",
            "Saving the best model at 1 epochs!\n",
            "Epoch: [3/50], Train loss: 2.2774\n"
          ]
        },
        {
          "output_type": "stream",
          "name": "stderr",
          "text": [
            "\r  6%|▌         | 3/50 [03:32<55:02, 70.26s/it]"
          ]
        },
        {
          "output_type": "stream",
          "name": "stdout",
          "text": [
            "Epoch: [3/50], Valid loss: 2.2146, Valid accuracy: 0.1929\n",
            "Saving the best model at 2 epochs!\n",
            "Epoch: [4/50], Train loss: 2.2268\n"
          ]
        },
        {
          "output_type": "stream",
          "name": "stderr",
          "text": [
            "\r  8%|▊         | 4/50 [04:40<53:25, 69.69s/it]"
          ]
        },
        {
          "output_type": "stream",
          "name": "stdout",
          "text": [
            "Epoch: [4/50], Valid loss: 2.2376, Valid accuracy: 0.1624\n",
            "Epoch: [5/50], Train loss: 2.2450\n"
          ]
        },
        {
          "output_type": "stream",
          "name": "stderr",
          "text": [
            "\r 10%|█         | 5/50 [05:49<52:00, 69.35s/it]"
          ]
        },
        {
          "output_type": "stream",
          "name": "stdout",
          "text": [
            "Epoch: [5/50], Valid loss: 2.2343, Valid accuracy: 0.1371\n",
            "Epoch: [6/50], Train loss: 2.2492\n"
          ]
        },
        {
          "output_type": "stream",
          "name": "stderr",
          "text": [
            "\r 12%|█▏        | 6/50 [06:57<50:25, 68.77s/it]"
          ]
        },
        {
          "output_type": "stream",
          "name": "stdout",
          "text": [
            "Epoch: [6/50], Valid loss: 2.1810, Valid accuracy: 0.1777\n",
            "Saving the best model at 5 epochs!\n",
            "Epoch: [7/50], Train loss: 2.2037\n"
          ]
        },
        {
          "output_type": "stream",
          "name": "stderr",
          "text": [
            "\r 14%|█▍        | 7/50 [08:05<49:14, 68.70s/it]"
          ]
        },
        {
          "output_type": "stream",
          "name": "stdout",
          "text": [
            "Epoch: [7/50], Valid loss: 2.1402, Valid accuracy: 0.1878\n",
            "Saving the best model at 6 epochs!\n",
            "Epoch: [8/50], Train loss: 2.1981\n"
          ]
        },
        {
          "output_type": "stream",
          "name": "stderr",
          "text": [
            "\r 16%|█▌        | 8/50 [09:16<48:30, 69.29s/it]"
          ]
        },
        {
          "output_type": "stream",
          "name": "stdout",
          "text": [
            "Epoch: [8/50], Valid loss: 2.1595, Valid accuracy: 0.2538\n",
            "Epoch: [9/50], Train loss: 2.2082\n"
          ]
        },
        {
          "output_type": "stream",
          "name": "stderr",
          "text": [
            "\r 18%|█▊        | 9/50 [10:23<46:57, 68.72s/it]"
          ]
        },
        {
          "output_type": "stream",
          "name": "stdout",
          "text": [
            "Epoch: [9/50], Valid loss: 2.1488, Valid accuracy: 0.2487\n",
            "Epoch: [10/50], Train loss: 2.1803\n"
          ]
        },
        {
          "output_type": "stream",
          "name": "stderr",
          "text": [
            "\r 20%|██        | 10/50 [11:32<45:45, 68.64s/it]"
          ]
        },
        {
          "output_type": "stream",
          "name": "stdout",
          "text": [
            "Epoch: [10/50], Valid loss: 2.0904, Valid accuracy: 0.2132\n",
            "Saving the best model at 9 epochs!\n",
            "Epoch: [11/50], Train loss: 2.2101\n"
          ]
        },
        {
          "output_type": "stream",
          "name": "stderr",
          "text": [
            "\r 22%|██▏       | 11/50 [12:38<44:12, 68.02s/it]"
          ]
        },
        {
          "output_type": "stream",
          "name": "stdout",
          "text": [
            "Epoch: [11/50], Valid loss: 2.1900, Valid accuracy: 0.2538\n",
            "Epoch: [12/50], Train loss: 2.2028\n"
          ]
        },
        {
          "output_type": "stream",
          "name": "stderr",
          "text": [
            "\r 24%|██▍       | 12/50 [13:46<43:02, 67.96s/it]"
          ]
        },
        {
          "output_type": "stream",
          "name": "stdout",
          "text": [
            "Epoch: [12/50], Valid loss: 2.1324, Valid accuracy: 0.1827\n",
            "Epoch: [13/50], Train loss: 2.1721\n"
          ]
        },
        {
          "output_type": "stream",
          "name": "stderr",
          "text": [
            "\r 26%|██▌       | 13/50 [14:51<41:19, 67.01s/it]"
          ]
        },
        {
          "output_type": "stream",
          "name": "stdout",
          "text": [
            "Epoch: [13/50], Valid loss: 2.1617, Valid accuracy: 0.1878\n",
            "Epoch: [14/50], Train loss: 2.1977\n"
          ]
        },
        {
          "output_type": "stream",
          "name": "stderr",
          "text": [
            "\r 28%|██▊       | 14/50 [16:00<40:31, 67.54s/it]"
          ]
        },
        {
          "output_type": "stream",
          "name": "stdout",
          "text": [
            "Epoch: [14/50], Valid loss: 2.1269, Valid accuracy: 0.2386\n",
            "Epoch: [15/50], Train loss: 2.1718\n"
          ]
        },
        {
          "output_type": "stream",
          "name": "stderr",
          "text": [
            "\r 30%|███       | 15/50 [17:10<39:54, 68.40s/it]"
          ]
        },
        {
          "output_type": "stream",
          "name": "stdout",
          "text": [
            "Epoch: [15/50], Valid loss: 2.1137, Valid accuracy: 0.1777\n",
            "Epoch: [16/50], Train loss: 2.1755\n"
          ]
        },
        {
          "output_type": "stream",
          "name": "stderr",
          "text": [
            "\r 32%|███▏      | 16/50 [18:16<38:19, 67.65s/it]"
          ]
        },
        {
          "output_type": "stream",
          "name": "stdout",
          "text": [
            "Epoch: [16/50], Valid loss: 2.1690, Valid accuracy: 0.2081\n",
            "Epoch: [17/50], Train loss: 2.2038\n"
          ]
        },
        {
          "output_type": "stream",
          "name": "stderr",
          "text": [
            "\r 34%|███▍      | 17/50 [19:20<36:34, 66.50s/it]"
          ]
        },
        {
          "output_type": "stream",
          "name": "stdout",
          "text": [
            "Epoch: [17/50], Valid loss: 2.1128, Valid accuracy: 0.2335\n",
            "Epoch: [18/50], Train loss: 2.1610\n"
          ]
        },
        {
          "output_type": "stream",
          "name": "stderr",
          "text": [
            "\r 36%|███▌      | 18/50 [20:28<35:41, 66.93s/it]"
          ]
        },
        {
          "output_type": "stream",
          "name": "stdout",
          "text": [
            "Epoch: [18/50], Valid loss: 2.1491, Valid accuracy: 0.2132\n",
            "Epoch: [19/50], Train loss: 2.1386\n"
          ]
        },
        {
          "output_type": "stream",
          "name": "stderr",
          "text": [
            "\r 38%|███▊      | 19/50 [21:35<34:35, 66.96s/it]"
          ]
        },
        {
          "output_type": "stream",
          "name": "stdout",
          "text": [
            "Epoch: [19/50], Valid loss: 2.0965, Valid accuracy: 0.2081\n",
            "Epoch: [20/50], Train loss: 2.1408\n"
          ]
        },
        {
          "output_type": "stream",
          "name": "stderr",
          "text": [
            "\r 40%|████      | 20/50 [22:44<33:47, 67.60s/it]"
          ]
        },
        {
          "output_type": "stream",
          "name": "stdout",
          "text": [
            "Epoch: [20/50], Valid loss: 2.1416, Valid accuracy: 0.1980\n",
            "Epoch: [21/50], Train loss: 2.1503\n"
          ]
        },
        {
          "output_type": "stream",
          "name": "stderr",
          "text": [
            "\r 42%|████▏     | 21/50 [23:49<32:17, 66.81s/it]"
          ]
        },
        {
          "output_type": "stream",
          "name": "stdout",
          "text": [
            "Epoch: [21/50], Valid loss: 2.0819, Valid accuracy: 0.2183\n",
            "Saving the best model at 20 epochs!\n",
            "Epoch: [22/50], Train loss: 2.1222\n"
          ]
        },
        {
          "output_type": "stream",
          "name": "stderr",
          "text": [
            "\r 44%|████▍     | 22/50 [24:58<31:32, 67.61s/it]"
          ]
        },
        {
          "output_type": "stream",
          "name": "stdout",
          "text": [
            "Epoch: [22/50], Valid loss: 2.2010, Valid accuracy: 0.1726\n",
            "Epoch: [23/50], Train loss: 2.1731\n"
          ]
        },
        {
          "output_type": "stream",
          "name": "stderr",
          "text": [
            "\r 46%|████▌     | 23/50 [26:11<31:03, 69.01s/it]"
          ]
        },
        {
          "output_type": "stream",
          "name": "stdout",
          "text": [
            "Epoch: [23/50], Valid loss: 2.0871, Valid accuracy: 0.2335\n",
            "Epoch: [24/50], Train loss: 2.1161\n"
          ]
        },
        {
          "output_type": "stream",
          "name": "stderr",
          "text": [
            "\r 48%|████▊     | 24/50 [27:19<29:50, 68.88s/it]"
          ]
        },
        {
          "output_type": "stream",
          "name": "stdout",
          "text": [
            "Epoch: [24/50], Valid loss: 2.1296, Valid accuracy: 0.2234\n",
            "Epoch: [25/50], Train loss: 2.1610\n"
          ]
        },
        {
          "output_type": "stream",
          "name": "stderr",
          "text": [
            "\r 50%|█████     | 25/50 [28:29<28:48, 69.13s/it]"
          ]
        },
        {
          "output_type": "stream",
          "name": "stdout",
          "text": [
            "Epoch: [25/50], Valid loss: 2.0823, Valid accuracy: 0.2030\n",
            "Epoch: [26/50], Train loss: 2.1371\n"
          ]
        },
        {
          "output_type": "stream",
          "name": "stderr",
          "text": [
            "\r 52%|█████▏    | 26/50 [29:35<27:17, 68.21s/it]"
          ]
        },
        {
          "output_type": "stream",
          "name": "stdout",
          "text": [
            "Epoch: [26/50], Valid loss: 2.0691, Valid accuracy: 0.2386\n",
            "Saving the best model at 25 epochs!\n",
            "Epoch: [27/50], Train loss: 2.1673\n"
          ]
        },
        {
          "output_type": "stream",
          "name": "stderr",
          "text": [
            "\r 54%|█████▍    | 27/50 [30:37<25:25, 66.34s/it]"
          ]
        },
        {
          "output_type": "stream",
          "name": "stdout",
          "text": [
            "Epoch: [27/50], Valid loss: 2.0775, Valid accuracy: 0.2741\n",
            "Epoch: [28/50], Train loss: 2.1066\n"
          ]
        },
        {
          "output_type": "stream",
          "name": "stderr",
          "text": [
            "\r 56%|█████▌    | 28/50 [31:43<24:19, 66.33s/it]"
          ]
        },
        {
          "output_type": "stream",
          "name": "stdout",
          "text": [
            "Epoch: [28/50], Valid loss: 2.0629, Valid accuracy: 0.2437\n",
            "Saving the best model at 27 epochs!\n",
            "Epoch: [29/50], Train loss: 2.1443\n"
          ]
        },
        {
          "output_type": "stream",
          "name": "stderr",
          "text": [
            "\r 58%|█████▊    | 29/50 [32:51<23:22, 66.77s/it]"
          ]
        },
        {
          "output_type": "stream",
          "name": "stdout",
          "text": [
            "Epoch: [29/50], Valid loss: 2.0545, Valid accuracy: 0.2487\n",
            "Saving the best model at 28 epochs!\n",
            "Epoch: [30/50], Train loss: 2.0790\n"
          ]
        },
        {
          "output_type": "stream",
          "name": "stderr",
          "text": [
            "\r 60%|██████    | 30/50 [33:56<22:03, 66.19s/it]"
          ]
        },
        {
          "output_type": "stream",
          "name": "stdout",
          "text": [
            "Epoch: [30/50], Valid loss: 2.2772, Valid accuracy: 0.2234\n",
            "Epoch: [31/50], Train loss: 2.1347\n"
          ]
        },
        {
          "output_type": "stream",
          "name": "stderr",
          "text": [
            "\r 62%|██████▏   | 31/50 [35:04<21:06, 66.66s/it]"
          ]
        },
        {
          "output_type": "stream",
          "name": "stdout",
          "text": [
            "Epoch: [31/50], Valid loss: 2.0488, Valid accuracy: 0.2335\n",
            "Saving the best model at 30 epochs!\n",
            "Epoch: [32/50], Train loss: 2.1158\n"
          ]
        },
        {
          "output_type": "stream",
          "name": "stderr",
          "text": [
            "\r 64%|██████▍   | 32/50 [36:10<19:59, 66.62s/it]"
          ]
        },
        {
          "output_type": "stream",
          "name": "stdout",
          "text": [
            "Epoch: [32/50], Valid loss: 2.0345, Valid accuracy: 0.2487\n",
            "Saving the best model at 31 epochs!\n",
            "Epoch: [33/50], Train loss: 2.0743\n"
          ]
        },
        {
          "output_type": "stream",
          "name": "stderr",
          "text": [
            "\r 66%|██████▌   | 33/50 [37:19<19:04, 67.35s/it]"
          ]
        },
        {
          "output_type": "stream",
          "name": "stdout",
          "text": [
            "Epoch: [33/50], Valid loss: 1.9890, Valid accuracy: 0.2792\n",
            "Saving the best model at 32 epochs!\n",
            "Epoch: [34/50], Train loss: 2.1230\n"
          ]
        },
        {
          "output_type": "stream",
          "name": "stderr",
          "text": [
            "\r 68%|██████▊   | 34/50 [38:28<18:02, 67.64s/it]"
          ]
        },
        {
          "output_type": "stream",
          "name": "stdout",
          "text": [
            "Epoch: [34/50], Valid loss: 2.0967, Valid accuracy: 0.2081\n",
            "Epoch: [35/50], Train loss: 2.1282\n"
          ]
        },
        {
          "output_type": "stream",
          "name": "stderr",
          "text": [
            "\r 70%|███████   | 35/50 [39:37<17:03, 68.21s/it]"
          ]
        },
        {
          "output_type": "stream",
          "name": "stdout",
          "text": [
            "Epoch: [35/50], Valid loss: 2.0925, Valid accuracy: 0.2538\n",
            "Epoch: [36/50], Train loss: 2.1120\n"
          ]
        },
        {
          "output_type": "stream",
          "name": "stderr",
          "text": [
            "\r 72%|███████▏  | 36/50 [40:45<15:52, 68.04s/it]"
          ]
        },
        {
          "output_type": "stream",
          "name": "stdout",
          "text": [
            "Epoch: [36/50], Valid loss: 2.0839, Valid accuracy: 0.2437\n",
            "Epoch: [37/50], Train loss: 2.0617\n"
          ]
        },
        {
          "output_type": "stream",
          "name": "stderr",
          "text": [
            "\r 74%|███████▍  | 37/50 [41:54<14:47, 68.30s/it]"
          ]
        },
        {
          "output_type": "stream",
          "name": "stdout",
          "text": [
            "Epoch: [37/50], Valid loss: 2.0431, Valid accuracy: 0.2741\n",
            "Epoch: [38/50], Train loss: 2.1141\n"
          ]
        },
        {
          "output_type": "stream",
          "name": "stderr",
          "text": [
            "\r 76%|███████▌  | 38/50 [43:02<13:38, 68.17s/it]"
          ]
        },
        {
          "output_type": "stream",
          "name": "stdout",
          "text": [
            "Epoch: [38/50], Valid loss: 2.0598, Valid accuracy: 0.2284\n",
            "Epoch: [39/50], Train loss: 2.0741\n"
          ]
        },
        {
          "output_type": "stream",
          "name": "stderr",
          "text": [
            "\r 78%|███████▊  | 39/50 [44:07<12:19, 67.24s/it]"
          ]
        },
        {
          "output_type": "stream",
          "name": "stdout",
          "text": [
            "Epoch: [39/50], Valid loss: 1.9197, Valid accuracy: 0.2995\n",
            "Saving the best model at 38 epochs!\n",
            "Epoch: [40/50], Train loss: 2.0986\n"
          ]
        },
        {
          "output_type": "stream",
          "name": "stderr",
          "text": [
            "\r 80%|████████  | 40/50 [45:15<11:15, 67.51s/it]"
          ]
        },
        {
          "output_type": "stream",
          "name": "stdout",
          "text": [
            "Epoch: [40/50], Valid loss: 2.0770, Valid accuracy: 0.2487\n",
            "Epoch: [41/50], Train loss: 2.1096\n"
          ]
        },
        {
          "output_type": "stream",
          "name": "stderr",
          "text": [
            "\r 82%|████████▏ | 41/50 [46:24<10:13, 68.15s/it]"
          ]
        },
        {
          "output_type": "stream",
          "name": "stdout",
          "text": [
            "Epoch: [41/50], Valid loss: 2.0263, Valid accuracy: 0.2335\n",
            "Epoch: [42/50], Train loss: 2.0750\n"
          ]
        },
        {
          "output_type": "stream",
          "name": "stderr",
          "text": [
            "\r 84%|████████▍ | 42/50 [47:33<09:07, 68.40s/it]"
          ]
        },
        {
          "output_type": "stream",
          "name": "stdout",
          "text": [
            "Epoch: [42/50], Valid loss: 1.9712, Valid accuracy: 0.2640\n",
            "Epoch: [43/50], Train loss: 2.0384\n"
          ]
        },
        {
          "output_type": "stream",
          "name": "stderr",
          "text": [
            "\r 86%|████████▌ | 43/50 [48:39<07:53, 67.62s/it]"
          ]
        },
        {
          "output_type": "stream",
          "name": "stdout",
          "text": [
            "Epoch: [43/50], Valid loss: 1.9912, Valid accuracy: 0.2640\n",
            "Epoch: [44/50], Train loss: 2.1021\n"
          ]
        },
        {
          "output_type": "stream",
          "name": "stderr",
          "text": [
            "\r 88%|████████▊ | 44/50 [49:43<06:39, 66.58s/it]"
          ]
        },
        {
          "output_type": "stream",
          "name": "stdout",
          "text": [
            "Epoch: [44/50], Valid loss: 1.9424, Valid accuracy: 0.2944\n",
            "Epoch: [45/50], Train loss: 2.0629\n"
          ]
        },
        {
          "output_type": "stream",
          "name": "stderr",
          "text": [
            "\r 90%|█████████ | 45/50 [50:49<05:31, 66.21s/it]"
          ]
        },
        {
          "output_type": "stream",
          "name": "stdout",
          "text": [
            "Epoch: [45/50], Valid loss: 1.9834, Valid accuracy: 0.2690\n",
            "Epoch: [46/50], Train loss: 2.0745\n"
          ]
        },
        {
          "output_type": "stream",
          "name": "stderr",
          "text": [
            "\r 92%|█████████▏| 46/50 [51:54<04:23, 65.88s/it]"
          ]
        },
        {
          "output_type": "stream",
          "name": "stdout",
          "text": [
            "Epoch: [46/50], Valid loss: 1.9843, Valid accuracy: 0.2995\n",
            "Epoch: [47/50], Train loss: 2.0390\n"
          ]
        },
        {
          "output_type": "stream",
          "name": "stderr",
          "text": [
            "\r 94%|█████████▍| 47/50 [53:00<03:18, 66.04s/it]"
          ]
        },
        {
          "output_type": "stream",
          "name": "stdout",
          "text": [
            "Epoch: [47/50], Valid loss: 2.1026, Valid accuracy: 0.2538\n",
            "Epoch: [48/50], Train loss: 2.1385\n"
          ]
        },
        {
          "output_type": "stream",
          "name": "stderr",
          "text": [
            "\r 96%|█████████▌| 48/50 [54:06<02:12, 66.10s/it]"
          ]
        },
        {
          "output_type": "stream",
          "name": "stdout",
          "text": [
            "Epoch: [48/50], Valid loss: 2.0241, Valid accuracy: 0.2640\n",
            "Epoch: [49/50], Train loss: 2.0676\n"
          ]
        },
        {
          "output_type": "stream",
          "name": "stderr",
          "text": [
            "\r 98%|█████████▊| 49/50 [55:13<01:06, 66.33s/it]"
          ]
        },
        {
          "output_type": "stream",
          "name": "stdout",
          "text": [
            "Epoch: [49/50], Valid loss: 1.9176, Valid accuracy: 0.3147\n",
            "Saving the best model at 48 epochs!\n",
            "Epoch: [50/50], Train loss: 2.0560\n"
          ]
        },
        {
          "output_type": "stream",
          "name": "stderr",
          "text": [
            "100%|██████████| 50/50 [56:17<00:00, 67.56s/it]"
          ]
        },
        {
          "output_type": "stream",
          "name": "stdout",
          "text": [
            "Epoch: [50/50], Valid loss: 2.0237, Valid accuracy: 0.2538\n"
          ]
        },
        {
          "output_type": "stream",
          "name": "stderr",
          "text": [
            "\n"
          ]
        }
      ]
    },
    {
      "cell_type": "code",
      "execution_count": null,
      "metadata": {
        "colab": {
          "base_uri": "https://localhost:8080/",
          "height": 510
        },
        "outputId": "34289857-1519-4c06-f2d4-5676ef8331ad",
        "id": "jaUIv4vcHHXL"
      },
      "outputs": [
        {
          "output_type": "stream",
          "name": "stdout",
          "text": [
            "Accuracy: 0.2483\n",
            "Accuracy: 0.3172\n"
          ]
        },
        {
          "output_type": "display_data",
          "data": {
            "text/plain": [
              "<Figure size 640x480 with 2 Axes>"
            ],
            "image/png": "[encoded data removed]"
          },
          "metadata": {}
        }
      ],
      "source": [
        "model = MLP().to(DEVICE)\n",
        "evaluation(model, train_loader, False)\n",
        "evaluation(model, test_loader)"
      ]
    },
    {
      "cell_type": "markdown",
      "source": [
        "For the MLP we get a final evaluate accuracy of 31.7%"
      ],
      "metadata": {
        "id": "OJ08346eN1vL"
      }
    },
    {
      "cell_type": "markdown",
      "source": [
        "In conclusion we got alot of great data from this.\n",
        "\n",
        "\n",
        "*   For the classifiers like Linear Regression and SVM we found that they didnt perform well on this dataset due to their simplicity, and even when we had a version of the Logistic regession with 4.4 million parameters it was still the worst performing model of them all\n",
        "*   For models like the MLP and Transformer they performer better than the classifiers but not by much. The MLP performing the better of the two. These two models were large at 4.0 and 4.1 million parameters respectively and took a long time and alot of memory to train.\n",
        "*   Finally the models that performed the best on this dataset were the CNN's, ResNet and UNet. This was expected as we were using the spectogram to process the data, using this image based method the models best suited to classify image data excelled.\n",
        "*   Depsite the accuracies of all the models being relatively low, this is still a success as we were able to get these results under the constraints of a very small batch size of 16, small to medium parameter sizes, and only training for 50 epochs. Had we trained for longer, say 70 or 100 epochs, we'd definetly be getting greater accuracies. However, for our experiment standardizing the requirements was necessary due to extremely long training times and memory constraints.\n",
        "\n"
      ],
      "metadata": {
        "id": "Si-9VzqvN6HI"
      }
    }
  ],
  "metadata": {
    "accelerator": "GPU",
    "colab": {
      "gpuType": "T4",
      "provenance": []
    },
    "kernelspec": {
      "display_name": "Python 3",
      "name": "python3"
    },
    "language_info": {
      "name": "python"
    }
  },
  "nbformat": 4,
  "nbformat_minor": 0
}